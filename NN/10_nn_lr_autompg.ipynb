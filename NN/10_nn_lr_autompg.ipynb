{
  "cells": [
    {
      "cell_type": "markdown",
      "metadata": {
        "id": "NEhUNPVjIA1i"
      },
      "source": [
        "## NN Linear regression\n",
        "- 연비 데이터"
      ]
    },
    {
      "cell_type": "code",
      "execution_count": null,
      "metadata": {
        "colab": {
          "base_uri": "https://localhost:8080/"
        },
        "id": "8voWQJpOINo2",
        "outputId": "039d0d51-0a0e-4cde-b373-7f14527d772e"
      },
      "outputs": [
        {
          "name": "stdout",
          "output_type": "stream",
          "text": [
            "time: 462 µs (started: 2024-06-28 05:29:21 +00:00)\n"
          ]
        }
      ],
      "source": [
        "# !pip install ipython-autotime"
      ]
    },
    {
      "cell_type": "code",
      "execution_count": 1,
      "metadata": {
        "colab": {
          "base_uri": "https://localhost:8080/"
        },
        "id": "y7CBeyTqIRD3",
        "outputId": "1330a690-2022-4481-bac1-a77edbc804d0"
      },
      "outputs": [
        {
          "name": "stdout",
          "output_type": "stream",
          "text": [
            "time: 98.5 µs (started: 2024-07-08 13:07:22 +09:00)\n"
          ]
        }
      ],
      "source": [
        "%load_ext autotime"
      ]
    },
    {
      "cell_type": "code",
      "execution_count": 2,
      "metadata": {
        "colab": {
          "base_uri": "https://localhost:8080/"
        },
        "id": "HC9TtYcPIZAJ",
        "outputId": "112e94d5-5f29-47c7-ce7a-b3c74bb4d2f4"
      },
      "outputs": [
        {
          "name": "stderr",
          "output_type": "stream",
          "text": [
            "2024-07-08 13:07:28.393529: I tensorflow/core/platform/cpu_feature_guard.cc:182] This TensorFlow binary is optimized to use available CPU instructions in performance-critical operations.\n",
            "To enable the following instructions: AVX2 FMA, in other operations, rebuild TensorFlow with the appropriate compiler flags.\n",
            "/Users/dusanbaek/Library/Python/3.9/lib/python/site-packages/urllib3/__init__.py:34: NotOpenSSLWarning: urllib3 v2 only supports OpenSSL 1.1.1+, currently the 'ssl' module is compiled with 'LibreSSL 2.8.3'. See: https://github.com/urllib3/urllib3/issues/3020\n",
            "  warnings.warn(\n"
          ]
        },
        {
          "name": "stdout",
          "output_type": "stream",
          "text": [
            "time: 8.46 s (started: 2024-07-08 13:07:24 +09:00)\n"
          ]
        }
      ],
      "source": [
        "import numpy as np\n",
        "import pandas as pd\n",
        "import matplotlib.pyplot as plt\n",
        "\n",
        "import tensorflow as tf\n",
        "import keras"
      ]
    },
    {
      "cell_type": "markdown",
      "metadata": {
        "id": "NMfhHH4HIjWu"
      },
      "source": [
        "## 1. 데이터 준비"
      ]
    },
    {
      "cell_type": "code",
      "execution_count": 3,
      "metadata": {
        "colab": {
          "base_uri": "https://localhost:8080/"
        },
        "id": "aQIWH0gjImAE",
        "outputId": "f6a13fc3-3bc6-42a1-928c-20642d2f3d24"
      },
      "outputs": [
        {
          "name": "stdout",
          "output_type": "stream",
          "text": [
            "--2024-07-08 13:07:39--  https://raw.githubusercontent.com/devdio/flyai_datasets/main/auto-mpg.csv\n",
            "raw.githubusercontent.com (raw.githubusercontent.com) 해석 중... 185.199.111.133, 185.199.109.133, 185.199.108.133, ...\n",
            "다음으로 연결 중: raw.githubusercontent.com (raw.githubusercontent.com)|185.199.111.133|:443... 연결했습니다.\n",
            "HTTP 요청을 보냈습니다. 응답 기다리는 중... 200 OK\n",
            "길이: 18131 (18K) [text/plain]\n",
            "저장 위치: `auto-mpg.csv'\n",
            "\n",
            "auto-mpg.csv        100%[===================>]  17.71K  --.-KB/s    /  0.02s   \n",
            "\n",
            "2024-07-08 13:07:39 (1.07 MB/s) - `auto-mpg.csv' 저장함 [18131/18131]\n",
            "\n",
            "time: 1.4 s (started: 2024-07-08 13:07:38 +09:00)\n"
          ]
        }
      ],
      "source": [
        "# !wget https://raw.githubusercontent.com/devdio/flyai_datasets/main/auto-mpg.csv"
      ]
    },
    {
      "cell_type": "code",
      "execution_count": 4,
      "metadata": {
        "colab": {
          "base_uri": "https://localhost:8080/"
        },
        "id": "U7cn8_PgIx2o",
        "outputId": "8b108b4d-32ee-4f4c-8bb1-b344c52cac78"
      },
      "outputs": [
        {
          "name": "stdout",
          "output_type": "stream",
          "text": [
            "time: 19.4 ms (started: 2024-07-08 13:07:58 +09:00)\n"
          ]
        }
      ],
      "source": [
        "auto = pd.read_csv('auto-mpg.csv')"
      ]
    },
    {
      "cell_type": "code",
      "execution_count": 5,
      "metadata": {
        "colab": {
          "base_uri": "https://localhost:8080/"
        },
        "id": "6YghUXuGI33g",
        "outputId": "b3840501-d645-4a1b-881c-c97807b458f3"
      },
      "outputs": [
        {
          "data": {
            "text/plain": [
              "(398, 9)"
            ]
          },
          "execution_count": 5,
          "metadata": {},
          "output_type": "execute_result"
        },
        {
          "name": "stdout",
          "output_type": "stream",
          "text": [
            "time: 5.68 ms (started: 2024-07-08 13:07:59 +09:00)\n"
          ]
        }
      ],
      "source": [
        "auto.shape"
      ]
    },
    {
      "cell_type": "code",
      "execution_count": 6,
      "metadata": {
        "colab": {
          "base_uri": "https://localhost:8080/",
          "height": 224
        },
        "id": "z0Ew3XzLI4yA",
        "outputId": "d07145c0-e705-4f8f-f934-b0c52eb01c90"
      },
      "outputs": [
        {
          "data": {
            "text/html": [
              "<div>\n",
              "<style scoped>\n",
              "    .dataframe tbody tr th:only-of-type {\n",
              "        vertical-align: middle;\n",
              "    }\n",
              "\n",
              "    .dataframe tbody tr th {\n",
              "        vertical-align: top;\n",
              "    }\n",
              "\n",
              "    .dataframe thead th {\n",
              "        text-align: right;\n",
              "    }\n",
              "</style>\n",
              "<table border=\"1\" class=\"dataframe\">\n",
              "  <thead>\n",
              "    <tr style=\"text-align: right;\">\n",
              "      <th></th>\n",
              "      <th>mpg</th>\n",
              "      <th>cylinders</th>\n",
              "      <th>displacement</th>\n",
              "      <th>horsepower</th>\n",
              "      <th>weight</th>\n",
              "      <th>acceleration</th>\n",
              "      <th>model year</th>\n",
              "      <th>origin</th>\n",
              "      <th>car name</th>\n",
              "    </tr>\n",
              "  </thead>\n",
              "  <tbody>\n",
              "    <tr>\n",
              "      <th>0</th>\n",
              "      <td>18.0</td>\n",
              "      <td>8</td>\n",
              "      <td>307.0</td>\n",
              "      <td>130</td>\n",
              "      <td>3504</td>\n",
              "      <td>12.0</td>\n",
              "      <td>70</td>\n",
              "      <td>1</td>\n",
              "      <td>chevrolet chevelle malibu</td>\n",
              "    </tr>\n",
              "    <tr>\n",
              "      <th>1</th>\n",
              "      <td>15.0</td>\n",
              "      <td>8</td>\n",
              "      <td>350.0</td>\n",
              "      <td>165</td>\n",
              "      <td>3693</td>\n",
              "      <td>11.5</td>\n",
              "      <td>70</td>\n",
              "      <td>1</td>\n",
              "      <td>buick skylark 320</td>\n",
              "    </tr>\n",
              "    <tr>\n",
              "      <th>2</th>\n",
              "      <td>18.0</td>\n",
              "      <td>8</td>\n",
              "      <td>318.0</td>\n",
              "      <td>150</td>\n",
              "      <td>3436</td>\n",
              "      <td>11.0</td>\n",
              "      <td>70</td>\n",
              "      <td>1</td>\n",
              "      <td>plymouth satellite</td>\n",
              "    </tr>\n",
              "    <tr>\n",
              "      <th>3</th>\n",
              "      <td>16.0</td>\n",
              "      <td>8</td>\n",
              "      <td>304.0</td>\n",
              "      <td>150</td>\n",
              "      <td>3433</td>\n",
              "      <td>12.0</td>\n",
              "      <td>70</td>\n",
              "      <td>1</td>\n",
              "      <td>amc rebel sst</td>\n",
              "    </tr>\n",
              "    <tr>\n",
              "      <th>4</th>\n",
              "      <td>17.0</td>\n",
              "      <td>8</td>\n",
              "      <td>302.0</td>\n",
              "      <td>140</td>\n",
              "      <td>3449</td>\n",
              "      <td>10.5</td>\n",
              "      <td>70</td>\n",
              "      <td>1</td>\n",
              "      <td>ford torino</td>\n",
              "    </tr>\n",
              "  </tbody>\n",
              "</table>\n",
              "</div>"
            ],
            "text/plain": [
              "    mpg  cylinders  displacement horsepower  weight  acceleration  model year  \\\n",
              "0  18.0          8         307.0        130    3504          12.0          70   \n",
              "1  15.0          8         350.0        165    3693          11.5          70   \n",
              "2  18.0          8         318.0        150    3436          11.0          70   \n",
              "3  16.0          8         304.0        150    3433          12.0          70   \n",
              "4  17.0          8         302.0        140    3449          10.5          70   \n",
              "\n",
              "   origin                   car name  \n",
              "0       1  chevrolet chevelle malibu  \n",
              "1       1          buick skylark 320  \n",
              "2       1         plymouth satellite  \n",
              "3       1              amc rebel sst  \n",
              "4       1                ford torino  "
            ]
          },
          "execution_count": 6,
          "metadata": {},
          "output_type": "execute_result"
        },
        {
          "name": "stdout",
          "output_type": "stream",
          "text": [
            "time: 20.7 ms (started: 2024-07-08 13:08:01 +09:00)\n"
          ]
        }
      ],
      "source": [
        "df = auto.copy()\n",
        "df.head()"
      ]
    },
    {
      "cell_type": "code",
      "execution_count": 7,
      "metadata": {
        "colab": {
          "base_uri": "https://localhost:8080/"
        },
        "id": "fM8HYTogI79_",
        "outputId": "12e9fe9c-988c-42b7-a288-8bd47b727591"
      },
      "outputs": [
        {
          "name": "stdout",
          "output_type": "stream",
          "text": [
            "<class 'pandas.core.frame.DataFrame'>\n",
            "RangeIndex: 398 entries, 0 to 397\n",
            "Data columns (total 9 columns):\n",
            " #   Column        Non-Null Count  Dtype  \n",
            "---  ------        --------------  -----  \n",
            " 0   mpg           398 non-null    float64\n",
            " 1   cylinders     398 non-null    int64  \n",
            " 2   displacement  398 non-null    float64\n",
            " 3   horsepower    398 non-null    object \n",
            " 4   weight        398 non-null    int64  \n",
            " 5   acceleration  398 non-null    float64\n",
            " 6   model year    398 non-null    int64  \n",
            " 7   origin        398 non-null    int64  \n",
            " 8   car name      398 non-null    object \n",
            "dtypes: float64(3), int64(4), object(2)\n",
            "memory usage: 28.1+ KB\n",
            "time: 75.1 ms (started: 2024-07-08 13:08:05 +09:00)\n"
          ]
        }
      ],
      "source": [
        "df.info() # 마력에 문자열이 있는 상태 그래서 object라고 나옴"
      ]
    },
    {
      "cell_type": "code",
      "execution_count": 8,
      "metadata": {
        "colab": {
          "base_uri": "https://localhost:8080/",
          "height": 224
        },
        "id": "6eaAachFJPiu",
        "outputId": "ad233b62-5384-4fe3-b07c-f125b0c4abde"
      },
      "outputs": [
        {
          "data": {
            "text/html": [
              "<div>\n",
              "<style scoped>\n",
              "    .dataframe tbody tr th:only-of-type {\n",
              "        vertical-align: middle;\n",
              "    }\n",
              "\n",
              "    .dataframe tbody tr th {\n",
              "        vertical-align: top;\n",
              "    }\n",
              "\n",
              "    .dataframe thead th {\n",
              "        text-align: right;\n",
              "    }\n",
              "</style>\n",
              "<table border=\"1\" class=\"dataframe\">\n",
              "  <thead>\n",
              "    <tr style=\"text-align: right;\">\n",
              "      <th></th>\n",
              "      <th>mpg</th>\n",
              "      <th>cylinders</th>\n",
              "      <th>displacement</th>\n",
              "      <th>horsepower</th>\n",
              "      <th>weight</th>\n",
              "      <th>acceleration</th>\n",
              "      <th>model_year</th>\n",
              "      <th>origin</th>\n",
              "      <th>car_name</th>\n",
              "    </tr>\n",
              "  </thead>\n",
              "  <tbody>\n",
              "    <tr>\n",
              "      <th>0</th>\n",
              "      <td>18.0</td>\n",
              "      <td>8</td>\n",
              "      <td>307.0</td>\n",
              "      <td>130</td>\n",
              "      <td>3504</td>\n",
              "      <td>12.0</td>\n",
              "      <td>70</td>\n",
              "      <td>1</td>\n",
              "      <td>chevrolet chevelle malibu</td>\n",
              "    </tr>\n",
              "    <tr>\n",
              "      <th>1</th>\n",
              "      <td>15.0</td>\n",
              "      <td>8</td>\n",
              "      <td>350.0</td>\n",
              "      <td>165</td>\n",
              "      <td>3693</td>\n",
              "      <td>11.5</td>\n",
              "      <td>70</td>\n",
              "      <td>1</td>\n",
              "      <td>buick skylark 320</td>\n",
              "    </tr>\n",
              "    <tr>\n",
              "      <th>2</th>\n",
              "      <td>18.0</td>\n",
              "      <td>8</td>\n",
              "      <td>318.0</td>\n",
              "      <td>150</td>\n",
              "      <td>3436</td>\n",
              "      <td>11.0</td>\n",
              "      <td>70</td>\n",
              "      <td>1</td>\n",
              "      <td>plymouth satellite</td>\n",
              "    </tr>\n",
              "    <tr>\n",
              "      <th>3</th>\n",
              "      <td>16.0</td>\n",
              "      <td>8</td>\n",
              "      <td>304.0</td>\n",
              "      <td>150</td>\n",
              "      <td>3433</td>\n",
              "      <td>12.0</td>\n",
              "      <td>70</td>\n",
              "      <td>1</td>\n",
              "      <td>amc rebel sst</td>\n",
              "    </tr>\n",
              "    <tr>\n",
              "      <th>4</th>\n",
              "      <td>17.0</td>\n",
              "      <td>8</td>\n",
              "      <td>302.0</td>\n",
              "      <td>140</td>\n",
              "      <td>3449</td>\n",
              "      <td>10.5</td>\n",
              "      <td>70</td>\n",
              "      <td>1</td>\n",
              "      <td>ford torino</td>\n",
              "    </tr>\n",
              "  </tbody>\n",
              "</table>\n",
              "</div>"
            ],
            "text/plain": [
              "    mpg  cylinders  displacement horsepower  weight  acceleration  model_year  \\\n",
              "0  18.0          8         307.0        130    3504          12.0          70   \n",
              "1  15.0          8         350.0        165    3693          11.5          70   \n",
              "2  18.0          8         318.0        150    3436          11.0          70   \n",
              "3  16.0          8         304.0        150    3433          12.0          70   \n",
              "4  17.0          8         302.0        140    3449          10.5          70   \n",
              "\n",
              "   origin                   car_name  \n",
              "0       1  chevrolet chevelle malibu  \n",
              "1       1          buick skylark 320  \n",
              "2       1         plymouth satellite  \n",
              "3       1              amc rebel sst  \n",
              "4       1                ford torino  "
            ]
          },
          "execution_count": 8,
          "metadata": {},
          "output_type": "execute_result"
        },
        {
          "name": "stdout",
          "output_type": "stream",
          "text": [
            "time: 11.3 ms (started: 2024-07-08 13:08:05 +09:00)\n"
          ]
        }
      ],
      "source": [
        "df.columns = [col.lower().replace(' ', '_') for col in df.columns]\n",
        "df.head()"
      ]
    },
    {
      "cell_type": "code",
      "execution_count": 9,
      "metadata": {
        "colab": {
          "base_uri": "https://localhost:8080/"
        },
        "id": "OOpkok2BJmNz",
        "outputId": "3c3a8757-4c8a-499a-d2cc-c1fcab687165"
      },
      "outputs": [
        {
          "data": {
            "text/plain": [
              "array(['130', '165', '150', '140', '198', '220', '215', '225', '190',\n",
              "       '170', '160', '95', '97', '85', '88', '46', '87', '90', '113',\n",
              "       '200', '210', '193', nan, '100', '105', '175', '153', '180', '110',\n",
              "       '72', '86', '70', '76', '65', '69', '60', '80', '54', '208', '155',\n",
              "       '112', '92', '145', '137', '158', '167', '94', '107', '230', '49',\n",
              "       '75', '91', '122', '67', '83', '78', '52', '61', '93', '148',\n",
              "       '129', '96', '71', '98', '115', '53', '81', '79', '120', '152',\n",
              "       '102', '108', '68', '58', '149', '89', '63', '48', '66', '139',\n",
              "       '103', '125', '133', '138', '135', '142', '77', '62', '132', '84',\n",
              "       '64', '74', '116', '82'], dtype=object)"
            ]
          },
          "execution_count": 9,
          "metadata": {},
          "output_type": "execute_result"
        },
        {
          "name": "stdout",
          "output_type": "stream",
          "text": [
            "time: 5.09 ms (started: 2024-07-08 13:08:06 +09:00)\n"
          ]
        }
      ],
      "source": [
        "df.loc[df['horsepower'] == '?', 'horsepower'] = np.nan\n",
        "df['horsepower'].unique()"
      ]
    },
    {
      "cell_type": "code",
      "execution_count": 10,
      "metadata": {
        "colab": {
          "base_uri": "https://localhost:8080/"
        },
        "id": "e4YK5E4sJsBG",
        "outputId": "94ae5fcb-bd95-464f-e747-4ada134deba1"
      },
      "outputs": [
        {
          "data": {
            "text/plain": [
              "mpg             0\n",
              "cylinders       0\n",
              "displacement    0\n",
              "horsepower      6\n",
              "weight          0\n",
              "acceleration    0\n",
              "model_year      0\n",
              "origin          0\n",
              "car_name        0\n",
              "dtype: int64"
            ]
          },
          "execution_count": 10,
          "metadata": {},
          "output_type": "execute_result"
        },
        {
          "name": "stdout",
          "output_type": "stream",
          "text": [
            "time: 4.25 ms (started: 2024-07-08 13:08:07 +09:00)\n"
          ]
        }
      ],
      "source": [
        "df.isna().sum()"
      ]
    },
    {
      "cell_type": "code",
      "execution_count": 11,
      "metadata": {
        "colab": {
          "base_uri": "https://localhost:8080/"
        },
        "id": "h_8jkADtKlMj",
        "outputId": "381c4995-4c8f-4d4e-dda5-82369f4a5900"
      },
      "outputs": [
        {
          "name": "stdout",
          "output_type": "stream",
          "text": [
            "time: 3.12 ms (started: 2024-07-08 13:08:08 +09:00)\n"
          ]
        }
      ],
      "source": [
        "df = df.dropna()"
      ]
    },
    {
      "cell_type": "code",
      "execution_count": 12,
      "metadata": {
        "colab": {
          "base_uri": "https://localhost:8080/"
        },
        "id": "BPtvByOMKz3o",
        "outputId": "6d7dbf78-ddb4-4dc4-e303-f5f9c0f1515a"
      },
      "outputs": [
        {
          "data": {
            "text/plain": [
              "mpg             0\n",
              "cylinders       0\n",
              "displacement    0\n",
              "horsepower      0\n",
              "weight          0\n",
              "acceleration    0\n",
              "model_year      0\n",
              "origin          0\n",
              "car_name        0\n",
              "dtype: int64"
            ]
          },
          "execution_count": 12,
          "metadata": {},
          "output_type": "execute_result"
        },
        {
          "name": "stdout",
          "output_type": "stream",
          "text": [
            "time: 4.25 ms (started: 2024-07-08 13:08:09 +09:00)\n"
          ]
        }
      ],
      "source": [
        "df.isna().sum()"
      ]
    },
    {
      "cell_type": "code",
      "execution_count": 14,
      "metadata": {
        "colab": {
          "base_uri": "https://localhost:8080/",
          "height": 224
        },
        "id": "E7eQH4ZbK1jt",
        "outputId": "69fe36fe-8891-406f-af70-07e96614ab25"
      },
      "outputs": [
        {
          "ename": "KeyError",
          "evalue": "\"['origin', 'car_name'] not found in axis\"",
          "output_type": "error",
          "traceback": [
            "\u001b[0;31m---------------------------------------------------------------------------\u001b[0m",
            "\u001b[0;31mKeyError\u001b[0m                                  Traceback (most recent call last)",
            "Cell \u001b[0;32mIn[14], line 4\u001b[0m\n\u001b[1;32m      1\u001b[0m df[\u001b[38;5;124m'\u001b[39m\u001b[38;5;124mhorsepower\u001b[39m\u001b[38;5;124m'\u001b[39m] \u001b[38;5;241m=\u001b[39m df[\u001b[38;5;124m'\u001b[39m\u001b[38;5;124mhorsepower\u001b[39m\u001b[38;5;124m'\u001b[39m]\u001b[38;5;241m.\u001b[39mastype(\u001b[38;5;28mint\u001b[39m)\n\u001b[1;32m      2\u001b[0m df[\u001b[38;5;124m'\u001b[39m\u001b[38;5;124mhorsepower\u001b[39m\u001b[38;5;124m'\u001b[39m]\u001b[38;5;241m.\u001b[39munique()\n\u001b[0;32m----> 4\u001b[0m \u001b[43mdf\u001b[49m\u001b[38;5;241;43m.\u001b[39;49m\u001b[43mdrop\u001b[49m\u001b[43m(\u001b[49m\u001b[43m[\u001b[49m\u001b[38;5;124;43m'\u001b[39;49m\u001b[38;5;124;43morigin\u001b[39;49m\u001b[38;5;124;43m'\u001b[39;49m\u001b[43m,\u001b[49m\u001b[43m \u001b[49m\u001b[38;5;124;43m'\u001b[39;49m\u001b[38;5;124;43mcar_name\u001b[39;49m\u001b[38;5;124;43m'\u001b[39;49m\u001b[43m]\u001b[49m\u001b[43m,\u001b[49m\u001b[43m \u001b[49m\u001b[43maxis\u001b[49m\u001b[38;5;241;43m=\u001b[39;49m\u001b[38;5;241;43m1\u001b[39;49m\u001b[43m,\u001b[49m\u001b[43m \u001b[49m\u001b[43minplace\u001b[49m\u001b[38;5;241;43m=\u001b[39;49m\u001b[38;5;28;43;01mTrue\u001b[39;49;00m\u001b[43m)\u001b[49m \u001b[38;5;66;03m# 필요 없는 파라미터들은 제거해 줌.\u001b[39;00m\n\u001b[1;32m      5\u001b[0m df\u001b[38;5;241m.\u001b[39mhead()\n",
            "File \u001b[0;32m~/Library/Python/3.9/lib/python/site-packages/pandas/core/frame.py:5581\u001b[0m, in \u001b[0;36mDataFrame.drop\u001b[0;34m(self, labels, axis, index, columns, level, inplace, errors)\u001b[0m\n\u001b[1;32m   5433\u001b[0m \u001b[38;5;28;01mdef\u001b[39;00m \u001b[38;5;21mdrop\u001b[39m(\n\u001b[1;32m   5434\u001b[0m     \u001b[38;5;28mself\u001b[39m,\n\u001b[1;32m   5435\u001b[0m     labels: IndexLabel \u001b[38;5;241m|\u001b[39m \u001b[38;5;28;01mNone\u001b[39;00m \u001b[38;5;241m=\u001b[39m \u001b[38;5;28;01mNone\u001b[39;00m,\n\u001b[0;32m   (...)\u001b[0m\n\u001b[1;32m   5442\u001b[0m     errors: IgnoreRaise \u001b[38;5;241m=\u001b[39m \u001b[38;5;124m\"\u001b[39m\u001b[38;5;124mraise\u001b[39m\u001b[38;5;124m\"\u001b[39m,\n\u001b[1;32m   5443\u001b[0m ) \u001b[38;5;241m-\u001b[39m\u001b[38;5;241m>\u001b[39m DataFrame \u001b[38;5;241m|\u001b[39m \u001b[38;5;28;01mNone\u001b[39;00m:\n\u001b[1;32m   5444\u001b[0m \u001b[38;5;250m    \u001b[39m\u001b[38;5;124;03m\"\"\"\u001b[39;00m\n\u001b[1;32m   5445\u001b[0m \u001b[38;5;124;03m    Drop specified labels from rows or columns.\u001b[39;00m\n\u001b[1;32m   5446\u001b[0m \n\u001b[0;32m   (...)\u001b[0m\n\u001b[1;32m   5579\u001b[0m \u001b[38;5;124;03m            weight  1.0     0.8\u001b[39;00m\n\u001b[1;32m   5580\u001b[0m \u001b[38;5;124;03m    \"\"\"\u001b[39;00m\n\u001b[0;32m-> 5581\u001b[0m     \u001b[38;5;28;01mreturn\u001b[39;00m \u001b[38;5;28;43msuper\u001b[39;49m\u001b[43m(\u001b[49m\u001b[43m)\u001b[49m\u001b[38;5;241;43m.\u001b[39;49m\u001b[43mdrop\u001b[49m\u001b[43m(\u001b[49m\n\u001b[1;32m   5582\u001b[0m \u001b[43m        \u001b[49m\u001b[43mlabels\u001b[49m\u001b[38;5;241;43m=\u001b[39;49m\u001b[43mlabels\u001b[49m\u001b[43m,\u001b[49m\n\u001b[1;32m   5583\u001b[0m \u001b[43m        \u001b[49m\u001b[43maxis\u001b[49m\u001b[38;5;241;43m=\u001b[39;49m\u001b[43maxis\u001b[49m\u001b[43m,\u001b[49m\n\u001b[1;32m   5584\u001b[0m \u001b[43m        \u001b[49m\u001b[43mindex\u001b[49m\u001b[38;5;241;43m=\u001b[39;49m\u001b[43mindex\u001b[49m\u001b[43m,\u001b[49m\n\u001b[1;32m   5585\u001b[0m \u001b[43m        \u001b[49m\u001b[43mcolumns\u001b[49m\u001b[38;5;241;43m=\u001b[39;49m\u001b[43mcolumns\u001b[49m\u001b[43m,\u001b[49m\n\u001b[1;32m   5586\u001b[0m \u001b[43m        \u001b[49m\u001b[43mlevel\u001b[49m\u001b[38;5;241;43m=\u001b[39;49m\u001b[43mlevel\u001b[49m\u001b[43m,\u001b[49m\n\u001b[1;32m   5587\u001b[0m \u001b[43m        \u001b[49m\u001b[43minplace\u001b[49m\u001b[38;5;241;43m=\u001b[39;49m\u001b[43minplace\u001b[49m\u001b[43m,\u001b[49m\n\u001b[1;32m   5588\u001b[0m \u001b[43m        \u001b[49m\u001b[43merrors\u001b[49m\u001b[38;5;241;43m=\u001b[39;49m\u001b[43merrors\u001b[49m\u001b[43m,\u001b[49m\n\u001b[1;32m   5589\u001b[0m \u001b[43m    \u001b[49m\u001b[43m)\u001b[49m\n",
            "File \u001b[0;32m~/Library/Python/3.9/lib/python/site-packages/pandas/core/generic.py:4788\u001b[0m, in \u001b[0;36mNDFrame.drop\u001b[0;34m(self, labels, axis, index, columns, level, inplace, errors)\u001b[0m\n\u001b[1;32m   4786\u001b[0m \u001b[38;5;28;01mfor\u001b[39;00m axis, labels \u001b[38;5;129;01min\u001b[39;00m axes\u001b[38;5;241m.\u001b[39mitems():\n\u001b[1;32m   4787\u001b[0m     \u001b[38;5;28;01mif\u001b[39;00m labels \u001b[38;5;129;01mis\u001b[39;00m \u001b[38;5;129;01mnot\u001b[39;00m \u001b[38;5;28;01mNone\u001b[39;00m:\n\u001b[0;32m-> 4788\u001b[0m         obj \u001b[38;5;241m=\u001b[39m \u001b[43mobj\u001b[49m\u001b[38;5;241;43m.\u001b[39;49m\u001b[43m_drop_axis\u001b[49m\u001b[43m(\u001b[49m\u001b[43mlabels\u001b[49m\u001b[43m,\u001b[49m\u001b[43m \u001b[49m\u001b[43maxis\u001b[49m\u001b[43m,\u001b[49m\u001b[43m \u001b[49m\u001b[43mlevel\u001b[49m\u001b[38;5;241;43m=\u001b[39;49m\u001b[43mlevel\u001b[49m\u001b[43m,\u001b[49m\u001b[43m \u001b[49m\u001b[43merrors\u001b[49m\u001b[38;5;241;43m=\u001b[39;49m\u001b[43merrors\u001b[49m\u001b[43m)\u001b[49m\n\u001b[1;32m   4790\u001b[0m \u001b[38;5;28;01mif\u001b[39;00m inplace:\n\u001b[1;32m   4791\u001b[0m     \u001b[38;5;28mself\u001b[39m\u001b[38;5;241m.\u001b[39m_update_inplace(obj)\n",
            "File \u001b[0;32m~/Library/Python/3.9/lib/python/site-packages/pandas/core/generic.py:4830\u001b[0m, in \u001b[0;36mNDFrame._drop_axis\u001b[0;34m(self, labels, axis, level, errors, only_slice)\u001b[0m\n\u001b[1;32m   4828\u001b[0m         new_axis \u001b[38;5;241m=\u001b[39m axis\u001b[38;5;241m.\u001b[39mdrop(labels, level\u001b[38;5;241m=\u001b[39mlevel, errors\u001b[38;5;241m=\u001b[39merrors)\n\u001b[1;32m   4829\u001b[0m     \u001b[38;5;28;01melse\u001b[39;00m:\n\u001b[0;32m-> 4830\u001b[0m         new_axis \u001b[38;5;241m=\u001b[39m \u001b[43maxis\u001b[49m\u001b[38;5;241;43m.\u001b[39;49m\u001b[43mdrop\u001b[49m\u001b[43m(\u001b[49m\u001b[43mlabels\u001b[49m\u001b[43m,\u001b[49m\u001b[43m \u001b[49m\u001b[43merrors\u001b[49m\u001b[38;5;241;43m=\u001b[39;49m\u001b[43merrors\u001b[49m\u001b[43m)\u001b[49m\n\u001b[1;32m   4831\u001b[0m     indexer \u001b[38;5;241m=\u001b[39m axis\u001b[38;5;241m.\u001b[39mget_indexer(new_axis)\n\u001b[1;32m   4833\u001b[0m \u001b[38;5;66;03m# Case for non-unique axis\u001b[39;00m\n\u001b[1;32m   4834\u001b[0m \u001b[38;5;28;01melse\u001b[39;00m:\n",
            "File \u001b[0;32m~/Library/Python/3.9/lib/python/site-packages/pandas/core/indexes/base.py:7070\u001b[0m, in \u001b[0;36mIndex.drop\u001b[0;34m(self, labels, errors)\u001b[0m\n\u001b[1;32m   7068\u001b[0m \u001b[38;5;28;01mif\u001b[39;00m mask\u001b[38;5;241m.\u001b[39many():\n\u001b[1;32m   7069\u001b[0m     \u001b[38;5;28;01mif\u001b[39;00m errors \u001b[38;5;241m!=\u001b[39m \u001b[38;5;124m\"\u001b[39m\u001b[38;5;124mignore\u001b[39m\u001b[38;5;124m\"\u001b[39m:\n\u001b[0;32m-> 7070\u001b[0m         \u001b[38;5;28;01mraise\u001b[39;00m \u001b[38;5;167;01mKeyError\u001b[39;00m(\u001b[38;5;124mf\u001b[39m\u001b[38;5;124m\"\u001b[39m\u001b[38;5;132;01m{\u001b[39;00mlabels[mask]\u001b[38;5;241m.\u001b[39mtolist()\u001b[38;5;132;01m}\u001b[39;00m\u001b[38;5;124m not found in axis\u001b[39m\u001b[38;5;124m\"\u001b[39m)\n\u001b[1;32m   7071\u001b[0m     indexer \u001b[38;5;241m=\u001b[39m indexer[\u001b[38;5;241m~\u001b[39mmask]\n\u001b[1;32m   7072\u001b[0m \u001b[38;5;28;01mreturn\u001b[39;00m \u001b[38;5;28mself\u001b[39m\u001b[38;5;241m.\u001b[39mdelete(indexer)\n",
            "\u001b[0;31mKeyError\u001b[0m: \"['origin', 'car_name'] not found in axis\""
          ]
        },
        {
          "name": "stdout",
          "output_type": "stream",
          "text": [
            "time: 2.11 s (started: 2024-07-08 13:08:30 +09:00)\n"
          ]
        }
      ],
      "source": [
        "df['horsepower'] = df['horsepower'].astype(int)\n",
        "df['horsepower'].unique()\n",
        "\n",
        "df.drop(['origin', 'car_name'], axis=1, inplace=True) # 필요 없는 파라미터들은 제거해 줌.\n",
        "df.head()"
      ]
    },
    {
      "cell_type": "markdown",
      "metadata": {
        "id": "XiWKl_9bLo_5"
      },
      "source": [
        "### Train, Test split"
      ]
    },
    {
      "cell_type": "code",
      "execution_count": null,
      "metadata": {
        "colab": {
          "base_uri": "https://localhost:8080/"
        },
        "id": "cWfSjTK7LrtH",
        "outputId": "c2ae028c-73f9-4ef3-da77-a1b2446bea95"
      },
      "outputs": [
        {
          "name": "stdout",
          "output_type": "stream",
          "text": [
            "(313, 7) (79, 7)\n",
            "time: 4.07 ms (started: 2024-06-28 05:29:21 +00:00)\n"
          ]
        }
      ],
      "source": [
        "from sklearn.model_selection import train_test_split\n",
        "\n",
        "train, test = train_test_split(df, test_size=0.2, random_state=42)\n",
        "print(train.shape, test.shape)"
      ]
    },
    {
      "cell_type": "markdown",
      "metadata": {
        "id": "agNPwFYmLRdg"
      },
      "source": [
        "### 스케일링"
      ]
    },
    {
      "cell_type": "code",
      "execution_count": null,
      "metadata": {
        "colab": {
          "base_uri": "https://localhost:8080/"
        },
        "id": "xhikEByeLgbh",
        "outputId": "9fab631b-548d-4638-c926-d2085c9e3be2"
      },
      "outputs": [
        {
          "name": "stdout",
          "output_type": "stream",
          "text": [
            "time: 516 µs (started: 2024-06-28 05:29:21 +00:00)\n"
          ]
        }
      ],
      "source": [
        "from sklearn.preprocessing import StandardScaler"
      ]
    },
    {
      "cell_type": "markdown",
      "metadata": {
        "id": "ZQ6nAj6SLnb4"
      },
      "source": [
        "### X, y 분리"
      ]
    },
    {
      "cell_type": "code",
      "execution_count": null,
      "metadata": {
        "colab": {
          "base_uri": "https://localhost:8080/"
        },
        "id": "nVmo7xycMqUU",
        "outputId": "3fa09c2b-c2c4-4a99-dbcb-fbdd2493bc99"
      },
      "outputs": [
        {
          "name": "stdout",
          "output_type": "stream",
          "text": [
            "time: 2.45 ms (started: 2024-06-28 05:29:21 +00:00)\n"
          ]
        }
      ],
      "source": [
        "X_train = train.drop('mpg', axis=1)\n",
        "y_train = train['mpg']\n",
        "\n",
        "X_test = test.drop('mpg', axis=1)\n",
        "y_test = test['mpg']"
      ]
    },
    {
      "cell_type": "code",
      "execution_count": null,
      "metadata": {
        "colab": {
          "base_uri": "https://localhost:8080/"
        },
        "id": "wwfOfcomMvb1",
        "outputId": "bc5ab316-aecb-4be3-fe45-8d926db8efb4"
      },
      "outputs": [
        {
          "data": {
            "text/plain": [
              "array([[ 0.30486156,  0.28457757,  0.14142863,  0.75480297,  1.1217589 ,\n",
              "         0.49452752],\n",
              "       [-0.87318372, -0.53588042, -0.32949862, -0.49312922, -0.22893966,\n",
              "        -0.0572982 ],\n",
              "       [ 0.30486156, -0.23665456, -0.19868549, -0.00252992, -0.37111846,\n",
              "        -0.33321105],\n",
              "       ...,\n",
              "       [-0.87318372, -0.4297035 , -0.51263699, -0.1561399 ,  0.73076722,\n",
              "         0.49452752],\n",
              "       [-0.87318372, -0.94128319, -1.0358895 , -0.72175802,  1.83265289,\n",
              "         1.32226608],\n",
              "       [ 1.48290683,  1.97375578,  1.18793363,  2.39450014, -0.54884195,\n",
              "        -0.88503677]])"
            ]
          },
          "execution_count": 110,
          "metadata": {},
          "output_type": "execute_result"
        },
        {
          "name": "stdout",
          "output_type": "stream",
          "text": [
            "time: 10 ms (started: 2024-06-28 05:29:21 +00:00)\n"
          ]
        }
      ],
      "source": [
        "ss = StandardScaler() # 평균과 표준편차를 이용한 스케일링\n",
        "X_train = ss.fit_transform(X_train)\n",
        "X_train"
      ]
    },
    {
      "cell_type": "code",
      "execution_count": null,
      "metadata": {
        "colab": {
          "base_uri": "https://localhost:8080/"
        },
        "id": "Et1ajCL0M6fF",
        "outputId": "4ca9ca4d-3eda-48b5-b28c-5d15a5cac52a"
      },
      "outputs": [
        {
          "data": {
            "text/plain": [
              "array([18.6, 25. , 18. , 15. , 39. , 15.5, 29.8, 25. , 21.5, 17. , 16. ,\n",
              "       22.3, 30.7, 30. , 31. , 19.2, 16.5, 18. , 13. , 27.5, 18. , 11. ,\n",
              "       17. , 14. , 26. , 34.2, 34.4, 35.1, 20. , 22. , 18.2, 32. , 31.9,\n",
              "       21. , 22. , 37.2, 32.9, 19.4, 15. , 22. , 21. , 37. , 21. , 15. ,\n",
              "       31. , 23. , 24.5, 29. , 30.5, 15. , 34.7, 27. , 28. , 19. , 41.5,\n",
              "       17.5, 29. , 26. , 31.8, 18. , 16.5, 13. , 19. , 30. , 20. , 19. ,\n",
              "       27. , 23. , 14. , 20.6, 27.9, 15. , 32. , 12. , 23. , 33.5, 25.5,\n",
              "       40.8, 16.5, 32.3, 44.3, 12. , 32.8, 24. , 18.1, 14. , 13. , 11. ,\n",
              "       18. , 32. , 27.2, 16. , 17.5, 12. , 26. , 14. , 28. , 20. , 13. ,\n",
              "       27.2, 29. , 19.1, 28. , 27. , 19. , 26. , 15.5, 13. , 38. , 18. ,\n",
              "       23.7, 24.5, 34. , 23. , 26. , 33. , 29.5, 15. , 24. , 32. , 14. ,\n",
              "       14. , 39.1, 17.5, 17. , 21. , 33. , 25.8, 20.3, 24. , 20.2, 23.9,\n",
              "       34. , 20.2, 28.1, 13. , 39.4, 14. , 16. , 18.5, 20. , 32. , 18. ,\n",
              "       26.5, 16. , 16. , 29. , 10. , 15. , 46.6, 20.5, 37. , 17.7, 44.6,\n",
              "       23.5, 31. , 14. , 29.8, 27. , 27. , 43.4, 20. , 36. , 20.2, 18. ,\n",
              "       27. , 17.6, 18. , 38. , 17. , 18.5, 14. , 43.1, 16. , 19. , 16. ,\n",
              "       15. , 19. ,  9. , 25. , 31. , 26.4, 27.2, 15.5, 13. , 30. , 21.5,\n",
              "       34.1, 23.9, 25. , 12. , 28.8, 13. , 20.5, 36.4, 17. , 20.6, 33.7,\n",
              "       23. , 18.5, 26.6, 13. , 24. , 18. , 30. , 13. , 18. , 19. , 30.9,\n",
              "       17.5, 28. , 11. , 33. , 16. , 19.2, 15.5, 21. , 32.4, 14. , 14. ,\n",
              "       13. , 26. , 14. , 14. , 34.5, 24. , 16. , 14. , 22.4, 31.3, 36. ,\n",
              "       19.8, 30. , 33.5, 19. , 13. , 25.4, 25.4, 20.5, 26. , 24.2, 28.4,\n",
              "       23.2, 29.5, 18. , 13. , 25.5, 22. , 32.1, 18.1, 12. , 35. , 15. ,\n",
              "       28. , 28. , 20. , 17. , 17.5, 13. , 31. , 30. , 21.5, 14. , 34.3,\n",
              "       15. , 17. , 23. , 33.8, 36. , 16. , 33.5, 36. , 32.2, 36.1, 27. ,\n",
              "       30. , 19. , 22. , 32. , 15.5, 24. , 23. , 23. , 37.7, 30.5, 20.2,\n",
              "       24. , 24.3, 15. , 31.5, 24. , 35.7, 37. , 20.8, 38.1, 31. , 25. ,\n",
              "       18. , 26.6, 18. , 38. , 14. , 32.7, 31.5, 24. , 31. , 25. , 14.5,\n",
              "       15. , 18. , 23.8, 29.9, 11. ])"
            ]
          },
          "execution_count": 111,
          "metadata": {},
          "output_type": "execute_result"
        },
        {
          "name": "stdout",
          "output_type": "stream",
          "text": [
            "time: 8.24 ms (started: 2024-06-28 05:29:21 +00:00)\n"
          ]
        }
      ],
      "source": [
        "y_train = y_train.to_numpy()\n",
        "y_train"
      ]
    },
    {
      "cell_type": "code",
      "execution_count": null,
      "metadata": {
        "colab": {
          "base_uri": "https://localhost:8080/"
        },
        "id": "moBSmE5CNBjQ",
        "outputId": "7b27e7fa-0dd2-482d-c415-b9bc0e44929f"
      },
      "outputs": [
        {
          "name": "stdout",
          "output_type": "stream",
          "text": [
            "<class 'numpy.ndarray'> <class 'numpy.ndarray'>\n",
            "time: 621 µs (started: 2024-06-28 05:29:22 +00:00)\n"
          ]
        }
      ],
      "source": [
        "print(type(X_train), type(y_train))"
      ]
    },
    {
      "cell_type": "code",
      "execution_count": null,
      "metadata": {
        "colab": {
          "base_uri": "https://localhost:8080/"
        },
        "id": "54ZDo1l3NLRo",
        "outputId": "8945e625-d0db-46df-81de-e81797748a66"
      },
      "outputs": [
        {
          "name": "stdout",
          "output_type": "stream",
          "text": [
            "time: 55.8 ms (started: 2024-06-28 05:29:22 +00:00)\n"
          ]
        }
      ],
      "source": [
        "from keras import layers\n",
        "\n",
        "# 신경망을 쌓을 때에는 input의 dimension과 output의 dimension이 중요함\n",
        "model = keras.Sequential (\n",
        "    [\n",
        "      layers.Dense(units=5, activation= 'relu', input_shape=(X_train.shape[1],)),\n",
        "      layers.Dense(units=3, activation= 'relu'),\n",
        "      layers.Dense(units=1, activation= 'linear')\n",
        "    ]\n",
        ")"
      ]
    },
    {
      "cell_type": "code",
      "execution_count": null,
      "metadata": {
        "colab": {
          "base_uri": "https://localhost:8080/"
        },
        "id": "hDjt0DJtOvNg",
        "outputId": "e35c3f05-0d22-49d5-b502-caf6f9aab613"
      },
      "outputs": [
        {
          "name": "stdout",
          "output_type": "stream",
          "text": [
            "Model: \"sequential_2\"\n",
            "_________________________________________________________________\n",
            " Layer (type)                Output Shape              Param #   \n",
            "=================================================================\n",
            " dense_7 (Dense)             (None, 5)                 35        \n",
            "                                                                 \n",
            " dense_8 (Dense)             (None, 3)                 18        \n",
            "                                                                 \n",
            " dense_9 (Dense)             (None, 1)                 4         \n",
            "                                                                 \n",
            "=================================================================\n",
            "Total params: 57 (228.00 Byte)\n",
            "Trainable params: 57 (228.00 Byte)\n",
            "Non-trainable params: 0 (0.00 Byte)\n",
            "_________________________________________________________________\n",
            "time: 21.3 ms (started: 2024-06-28 05:29:22 +00:00)\n"
          ]
        }
      ],
      "source": [
        "model.summary() # 6개가 5개로 가고 5개 추가니까 6 x 5 + 5 = 35, 5개가 3개로 가니까 5 x 3 + 3 = 18"
      ]
    },
    {
      "cell_type": "code",
      "execution_count": null,
      "metadata": {
        "colab": {
          "base_uri": "https://localhost:8080/"
        },
        "id": "Fy7ciQ2qO0Tg",
        "outputId": "f5ed238b-0ba1-4c80-e157-0b6cd711ba26"
      },
      "outputs": [
        {
          "name": "stdout",
          "output_type": "stream",
          "text": [
            "time: 10.3 ms (started: 2024-06-28 05:29:22 +00:00)\n"
          ]
        }
      ],
      "source": [
        "model.compile(\n",
        "    loss= 'mse',\n",
        "    optimizer= 'adam',\n",
        "    metrics= ['mse', 'mae']\n",
        ")"
      ]
    },
    {
      "cell_type": "markdown",
      "metadata": {
        "id": "kEvSaZhePzTX"
      },
      "source": [
        "### 학습"
      ]
    },
    {
      "cell_type": "code",
      "execution_count": null,
      "metadata": {
        "colab": {
          "base_uri": "https://localhost:8080/"
        },
        "id": "VEHpLkgsP9FK",
        "outputId": "4be8c38c-86e7-4482-c0ce-1e43260fde7d"
      },
      "outputs": [
        {
          "name": "stdout",
          "output_type": "stream",
          "text": [
            "Epoch 1/100\n",
            "16/16 [==============================] - 1s 16ms/step - loss: 610.3450 - mse: 610.3450 - mae: 23.3260 - val_loss: 692.8916 - val_mse: 692.8916 - val_mae: 25.0810\n",
            "Epoch 2/100\n",
            "16/16 [==============================] - 0s 4ms/step - loss: 605.7783 - mse: 605.7783 - mae: 23.2323 - val_loss: 688.3271 - val_mse: 688.3271 - val_mae: 24.9962\n",
            "Epoch 3/100\n",
            "16/16 [==============================] - 0s 4ms/step - loss: 601.1903 - mse: 601.1903 - mae: 23.1373 - val_loss: 684.0820 - val_mse: 684.0820 - val_mae: 24.9148\n",
            "Epoch 4/100\n",
            "16/16 [==============================] - 0s 4ms/step - loss: 596.8429 - mse: 596.8429 - mae: 23.0451 - val_loss: 679.7732 - val_mse: 679.7732 - val_mae: 24.8305\n",
            "Epoch 5/100\n",
            "16/16 [==============================] - 0s 5ms/step - loss: 592.5294 - mse: 592.5294 - mae: 22.9498 - val_loss: 675.4265 - val_mse: 675.4265 - val_mae: 24.7430\n",
            "Epoch 6/100\n",
            "16/16 [==============================] - 0s 5ms/step - loss: 588.2626 - mse: 588.2626 - mae: 22.8525 - val_loss: 670.9667 - val_mse: 670.9667 - val_mae: 24.6497\n",
            "Epoch 7/100\n",
            "16/16 [==============================] - 0s 5ms/step - loss: 583.8445 - mse: 583.8445 - mae: 22.7475 - val_loss: 666.2667 - val_mse: 666.2667 - val_mae: 24.5505\n",
            "Epoch 8/100\n",
            "16/16 [==============================] - 0s 5ms/step - loss: 579.2706 - mse: 579.2706 - mae: 22.6360 - val_loss: 661.2691 - val_mse: 661.2691 - val_mae: 24.4432\n",
            "Epoch 9/100\n",
            "16/16 [==============================] - 0s 4ms/step - loss: 574.3816 - mse: 574.3816 - mae: 22.5161 - val_loss: 656.0128 - val_mse: 656.0128 - val_mae: 24.3250\n",
            "Epoch 10/100\n",
            "16/16 [==============================] - 0s 5ms/step - loss: 569.0739 - mse: 569.0739 - mae: 22.3806 - val_loss: 650.4271 - val_mse: 650.4271 - val_mae: 24.1965\n",
            "Epoch 11/100\n",
            "16/16 [==============================] - 0s 4ms/step - loss: 563.4483 - mse: 563.4483 - mae: 22.2316 - val_loss: 644.2994 - val_mse: 644.2994 - val_mae: 24.0527\n",
            "Epoch 12/100\n",
            "16/16 [==============================] - 0s 5ms/step - loss: 557.1709 - mse: 557.1709 - mae: 22.0629 - val_loss: 637.6949 - val_mse: 637.6949 - val_mae: 23.8955\n",
            "Epoch 13/100\n",
            "16/16 [==============================] - 0s 6ms/step - loss: 550.3587 - mse: 550.3587 - mae: 21.8759 - val_loss: 630.5624 - val_mse: 630.5624 - val_mae: 23.7216\n",
            "Epoch 14/100\n",
            "16/16 [==============================] - 0s 5ms/step - loss: 542.9145 - mse: 542.9145 - mae: 21.6740 - val_loss: 622.9548 - val_mse: 622.9548 - val_mae: 23.5382\n",
            "Epoch 15/100\n",
            "16/16 [==============================] - 0s 4ms/step - loss: 534.8311 - mse: 534.8311 - mae: 21.4516 - val_loss: 614.7271 - val_mse: 614.7271 - val_mae: 23.3404\n",
            "Epoch 16/100\n",
            "16/16 [==============================] - 0s 4ms/step - loss: 526.1641 - mse: 526.1641 - mae: 21.2140 - val_loss: 605.4390 - val_mse: 605.4390 - val_mae: 23.1201\n",
            "Epoch 17/100\n",
            "16/16 [==============================] - 0s 5ms/step - loss: 516.5579 - mse: 516.5579 - mae: 20.9567 - val_loss: 595.2784 - val_mse: 595.2784 - val_mae: 22.8838\n",
            "Epoch 18/100\n",
            "16/16 [==============================] - 0s 4ms/step - loss: 506.0642 - mse: 506.0642 - mae: 20.6776 - val_loss: 584.2743 - val_mse: 584.2743 - val_mae: 22.6326\n",
            "Epoch 19/100\n",
            "16/16 [==============================] - 0s 4ms/step - loss: 494.7204 - mse: 494.7204 - mae: 20.3776 - val_loss: 571.7188 - val_mse: 571.7188 - val_mae: 22.3530\n",
            "Epoch 20/100\n",
            "16/16 [==============================] - 0s 6ms/step - loss: 481.7726 - mse: 481.7726 - mae: 20.0472 - val_loss: 557.8620 - val_mse: 557.8620 - val_mae: 22.0415\n",
            "Epoch 21/100\n",
            "16/16 [==============================] - 0s 4ms/step - loss: 467.7913 - mse: 467.7913 - mae: 19.6873 - val_loss: 542.2167 - val_mse: 542.2167 - val_mae: 21.6924\n",
            "Epoch 22/100\n",
            "16/16 [==============================] - 0s 4ms/step - loss: 452.2538 - mse: 452.2538 - mae: 19.2842 - val_loss: 523.8732 - val_mse: 523.8732 - val_mae: 21.2876\n",
            "Epoch 23/100\n",
            "16/16 [==============================] - 0s 4ms/step - loss: 433.8947 - mse: 433.8947 - mae: 18.8171 - val_loss: 503.6555 - val_mse: 503.6555 - val_mae: 20.8278\n",
            "Epoch 24/100\n",
            "16/16 [==============================] - 0s 4ms/step - loss: 413.9099 - mse: 413.9099 - mae: 18.2735 - val_loss: 479.6192 - val_mse: 479.6192 - val_mae: 20.2529\n",
            "Epoch 25/100\n",
            "16/16 [==============================] - 0s 5ms/step - loss: 390.9502 - mse: 390.9502 - mae: 17.6156 - val_loss: 453.4392 - val_mse: 453.4392 - val_mae: 19.5806\n",
            "Epoch 26/100\n",
            "16/16 [==============================] - 0s 6ms/step - loss: 366.4610 - mse: 366.4610 - mae: 16.9051 - val_loss: 426.3382 - val_mse: 426.3382 - val_mae: 18.8692\n",
            "Epoch 27/100\n",
            "16/16 [==============================] - 0s 5ms/step - loss: 341.3362 - mse: 341.3362 - mae: 16.1696 - val_loss: 399.0547 - val_mse: 399.0547 - val_mae: 18.1630\n",
            "Epoch 28/100\n",
            "16/16 [==============================] - 0s 5ms/step - loss: 316.3694 - mse: 316.3694 - mae: 15.4831 - val_loss: 370.9529 - val_mse: 370.9529 - val_mae: 17.4529\n",
            "Epoch 29/100\n",
            "16/16 [==============================] - 0s 4ms/step - loss: 290.8480 - mse: 290.8480 - mae: 14.7991 - val_loss: 342.7656 - val_mse: 342.7656 - val_mae: 16.7422\n",
            "Epoch 30/100\n",
            "16/16 [==============================] - 0s 4ms/step - loss: 266.2408 - mse: 266.2408 - mae: 14.1394 - val_loss: 314.9864 - val_mse: 314.9864 - val_mae: 16.0428\n",
            "Epoch 31/100\n",
            "16/16 [==============================] - 0s 5ms/step - loss: 241.6345 - mse: 241.6345 - mae: 13.4800 - val_loss: 287.9069 - val_mse: 287.9069 - val_mae: 15.3237\n",
            "Epoch 32/100\n",
            "16/16 [==============================] - 0s 5ms/step - loss: 218.2400 - mse: 218.2400 - mae: 12.8323 - val_loss: 262.1492 - val_mse: 262.1492 - val_mae: 14.6082\n",
            "Epoch 33/100\n",
            "16/16 [==============================] - 0s 5ms/step - loss: 195.7285 - mse: 195.7285 - mae: 12.1888 - val_loss: 237.4496 - val_mse: 237.4496 - val_mae: 13.8942\n",
            "Epoch 34/100\n",
            "16/16 [==============================] - 0s 4ms/step - loss: 174.6184 - mse: 174.6184 - mae: 11.5361 - val_loss: 213.8915 - val_mse: 213.8915 - val_mae: 13.1703\n",
            "Epoch 35/100\n",
            "16/16 [==============================] - 0s 4ms/step - loss: 154.8252 - mse: 154.8252 - mae: 10.8917 - val_loss: 191.7024 - val_mse: 191.7024 - val_mae: 12.4368\n",
            "Epoch 36/100\n",
            "16/16 [==============================] - 0s 5ms/step - loss: 137.0556 - mse: 137.0556 - mae: 10.2478 - val_loss: 170.4552 - val_mse: 170.4552 - val_mae: 11.6783\n",
            "Epoch 37/100\n",
            "16/16 [==============================] - 0s 5ms/step - loss: 119.8071 - mse: 119.8071 - mae: 9.5784 - val_loss: 152.0316 - val_mse: 152.0316 - val_mae: 10.9654\n",
            "Epoch 38/100\n",
            "16/16 [==============================] - 0s 6ms/step - loss: 105.3538 - mse: 105.3538 - mae: 8.9510 - val_loss: 134.9636 - val_mse: 134.9636 - val_mae: 10.2400\n",
            "Epoch 39/100\n",
            "16/16 [==============================] - 0s 5ms/step - loss: 92.3635 - mse: 92.3635 - mae: 8.3265 - val_loss: 120.1236 - val_mse: 120.1236 - val_mae: 9.5501\n",
            "Epoch 40/100\n",
            "16/16 [==============================] - 0s 4ms/step - loss: 81.6995 - mse: 81.6995 - mae: 7.7331 - val_loss: 106.5743 - val_mse: 106.5743 - val_mae: 8.8535\n",
            "Epoch 41/100\n",
            "16/16 [==============================] - 0s 5ms/step - loss: 72.1212 - mse: 72.1212 - mae: 7.1743 - val_loss: 95.7875 - val_mse: 95.7875 - val_mae: 8.2424\n",
            "Epoch 42/100\n",
            "16/16 [==============================] - 0s 5ms/step - loss: 64.5323 - mse: 64.5323 - mae: 6.7273 - val_loss: 86.7941 - val_mse: 86.7941 - val_mae: 7.7003\n",
            "Epoch 43/100\n",
            "16/16 [==============================] - 0s 5ms/step - loss: 58.3818 - mse: 58.3818 - mae: 6.3097 - val_loss: 79.6749 - val_mse: 79.6749 - val_mae: 7.2240\n",
            "Epoch 44/100\n",
            "16/16 [==============================] - 0s 4ms/step - loss: 53.7206 - mse: 53.7206 - mae: 5.9685 - val_loss: 73.4663 - val_mse: 73.4663 - val_mae: 6.7797\n",
            "Epoch 45/100\n",
            "16/16 [==============================] - 0s 6ms/step - loss: 49.8864 - mse: 49.8864 - mae: 5.7120 - val_loss: 68.6064 - val_mse: 68.6064 - val_mae: 6.4522\n",
            "Epoch 46/100\n",
            "16/16 [==============================] - 0s 5ms/step - loss: 46.9472 - mse: 46.9472 - mae: 5.5135 - val_loss: 64.8167 - val_mse: 64.8167 - val_mae: 6.1812\n",
            "Epoch 47/100\n",
            "16/16 [==============================] - 0s 4ms/step - loss: 44.8146 - mse: 44.8146 - mae: 5.3909 - val_loss: 61.4947 - val_mse: 61.4947 - val_mae: 5.9484\n",
            "Epoch 48/100\n",
            "16/16 [==============================] - 0s 4ms/step - loss: 42.9186 - mse: 42.9186 - mae: 5.2712 - val_loss: 59.2202 - val_mse: 59.2202 - val_mae: 5.8133\n",
            "Epoch 49/100\n",
            "16/16 [==============================] - 0s 5ms/step - loss: 41.6582 - mse: 41.6582 - mae: 5.1841 - val_loss: 57.1500 - val_mse: 57.1500 - val_mae: 5.7167\n",
            "Epoch 50/100\n",
            "16/16 [==============================] - 0s 6ms/step - loss: 40.5143 - mse: 40.5143 - mae: 5.1144 - val_loss: 55.2938 - val_mse: 55.2938 - val_mae: 5.6357\n",
            "Epoch 51/100\n",
            "16/16 [==============================] - 0s 4ms/step - loss: 39.5442 - mse: 39.5442 - mae: 5.0462 - val_loss: 53.8403 - val_mse: 53.8403 - val_mae: 5.5796\n",
            "Epoch 52/100\n",
            "16/16 [==============================] - 0s 4ms/step - loss: 38.7573 - mse: 38.7573 - mae: 4.9902 - val_loss: 52.5795 - val_mse: 52.5795 - val_mae: 5.5233\n",
            "Epoch 53/100\n",
            "16/16 [==============================] - 0s 4ms/step - loss: 38.0929 - mse: 38.0929 - mae: 4.9461 - val_loss: 51.2362 - val_mse: 51.2362 - val_mae: 5.4570\n",
            "Epoch 54/100\n",
            "16/16 [==============================] - 0s 5ms/step - loss: 37.4118 - mse: 37.4118 - mae: 4.9014 - val_loss: 50.1520 - val_mse: 50.1520 - val_mae: 5.4125\n",
            "Epoch 55/100\n",
            "16/16 [==============================] - 0s 4ms/step - loss: 36.8274 - mse: 36.8274 - mae: 4.8616 - val_loss: 49.1406 - val_mse: 49.1406 - val_mae: 5.3694\n",
            "Epoch 56/100\n",
            "16/16 [==============================] - 0s 4ms/step - loss: 36.2517 - mse: 36.2517 - mae: 4.8213 - val_loss: 48.2317 - val_mse: 48.2317 - val_mae: 5.3236\n",
            "Epoch 57/100\n",
            "16/16 [==============================] - 0s 4ms/step - loss: 35.7746 - mse: 35.7746 - mae: 4.7842 - val_loss: 47.2172 - val_mse: 47.2172 - val_mae: 5.2787\n",
            "Epoch 58/100\n",
            "16/16 [==============================] - 0s 5ms/step - loss: 35.2832 - mse: 35.2832 - mae: 4.7524 - val_loss: 46.2631 - val_mse: 46.2631 - val_mae: 5.2288\n",
            "Epoch 59/100\n",
            "16/16 [==============================] - 0s 4ms/step - loss: 34.7384 - mse: 34.7384 - mae: 4.7157 - val_loss: 45.4861 - val_mse: 45.4861 - val_mae: 5.1819\n",
            "Epoch 60/100\n",
            "16/16 [==============================] - 0s 4ms/step - loss: 34.2960 - mse: 34.2960 - mae: 4.6802 - val_loss: 44.8445 - val_mse: 44.8445 - val_mae: 5.1364\n",
            "Epoch 61/100\n",
            "16/16 [==============================] - 0s 5ms/step - loss: 33.8242 - mse: 33.8242 - mae: 4.6449 - val_loss: 43.8961 - val_mse: 43.8961 - val_mae: 5.0910\n",
            "Epoch 62/100\n",
            "16/16 [==============================] - 0s 6ms/step - loss: 33.3432 - mse: 33.3432 - mae: 4.6078 - val_loss: 43.2009 - val_mse: 43.2009 - val_mae: 5.0537\n",
            "Epoch 63/100\n",
            "16/16 [==============================] - 0s 5ms/step - loss: 32.8671 - mse: 32.8671 - mae: 4.5721 - val_loss: 42.4203 - val_mse: 42.4203 - val_mae: 5.0017\n",
            "Epoch 64/100\n",
            "16/16 [==============================] - 0s 4ms/step - loss: 32.3706 - mse: 32.3706 - mae: 4.5388 - val_loss: 41.6546 - val_mse: 41.6546 - val_mae: 4.9510\n",
            "Epoch 65/100\n",
            "16/16 [==============================] - 0s 5ms/step - loss: 31.8754 - mse: 31.8754 - mae: 4.5030 - val_loss: 40.9879 - val_mse: 40.9879 - val_mae: 4.9047\n",
            "Epoch 66/100\n",
            "16/16 [==============================] - 0s 5ms/step - loss: 31.4064 - mse: 31.4064 - mae: 4.4692 - val_loss: 40.0592 - val_mse: 40.0592 - val_mae: 4.8474\n",
            "Epoch 67/100\n",
            "16/16 [==============================] - 0s 5ms/step - loss: 30.8700 - mse: 30.8700 - mae: 4.4348 - val_loss: 39.3469 - val_mse: 39.3469 - val_mae: 4.7962\n",
            "Epoch 68/100\n",
            "16/16 [==============================] - 0s 4ms/step - loss: 30.3959 - mse: 30.3959 - mae: 4.3991 - val_loss: 38.5579 - val_mse: 38.5579 - val_mae: 4.7484\n",
            "Epoch 69/100\n",
            "16/16 [==============================] - 0s 5ms/step - loss: 29.9336 - mse: 29.9336 - mae: 4.3700 - val_loss: 37.7891 - val_mse: 37.7891 - val_mae: 4.7008\n",
            "Epoch 70/100\n",
            "16/16 [==============================] - 0s 4ms/step - loss: 29.4155 - mse: 29.4155 - mae: 4.3321 - val_loss: 37.1006 - val_mse: 37.1006 - val_mae: 4.6491\n",
            "Epoch 71/100\n",
            "16/16 [==============================] - 0s 7ms/step - loss: 28.9373 - mse: 28.9373 - mae: 4.2977 - val_loss: 36.2801 - val_mse: 36.2801 - val_mae: 4.5938\n",
            "Epoch 72/100\n",
            "16/16 [==============================] - 0s 7ms/step - loss: 28.4300 - mse: 28.4300 - mae: 4.2611 - val_loss: 35.5795 - val_mse: 35.5795 - val_mae: 4.5465\n",
            "Epoch 73/100\n",
            "16/16 [==============================] - 0s 7ms/step - loss: 27.9717 - mse: 27.9717 - mae: 4.2252 - val_loss: 34.8687 - val_mse: 34.8687 - val_mae: 4.4973\n",
            "Epoch 74/100\n",
            "16/16 [==============================] - 0s 7ms/step - loss: 27.5027 - mse: 27.5027 - mae: 4.1919 - val_loss: 34.2453 - val_mse: 34.2453 - val_mae: 4.4434\n",
            "Epoch 75/100\n",
            "16/16 [==============================] - 0s 6ms/step - loss: 27.0498 - mse: 27.0498 - mae: 4.1581 - val_loss: 33.4772 - val_mse: 33.4772 - val_mae: 4.3960\n",
            "Epoch 76/100\n",
            "16/16 [==============================] - 0s 6ms/step - loss: 26.5772 - mse: 26.5772 - mae: 4.1228 - val_loss: 32.9046 - val_mse: 32.9046 - val_mae: 4.3457\n",
            "Epoch 77/100\n",
            "16/16 [==============================] - 0s 5ms/step - loss: 26.0903 - mse: 26.0903 - mae: 4.0868 - val_loss: 32.1859 - val_mse: 32.1859 - val_mae: 4.2937\n",
            "Epoch 78/100\n",
            "16/16 [==============================] - 0s 6ms/step - loss: 25.6603 - mse: 25.6603 - mae: 4.0628 - val_loss: 31.4654 - val_mse: 31.4654 - val_mae: 4.2395\n",
            "Epoch 79/100\n",
            "16/16 [==============================] - 0s 6ms/step - loss: 25.1848 - mse: 25.1848 - mae: 4.0273 - val_loss: 30.8190 - val_mse: 30.8190 - val_mae: 4.1940\n",
            "Epoch 80/100\n",
            "16/16 [==============================] - 0s 7ms/step - loss: 24.7272 - mse: 24.7272 - mae: 3.9916 - val_loss: 30.1251 - val_mse: 30.1251 - val_mae: 4.1408\n",
            "Epoch 81/100\n",
            "16/16 [==============================] - 0s 7ms/step - loss: 24.2832 - mse: 24.2832 - mae: 3.9559 - val_loss: 29.4390 - val_mse: 29.4390 - val_mae: 4.0864\n",
            "Epoch 82/100\n",
            "16/16 [==============================] - 0s 8ms/step - loss: 23.8160 - mse: 23.8160 - mae: 3.9227 - val_loss: 28.6913 - val_mse: 28.6913 - val_mae: 4.0312\n",
            "Epoch 83/100\n",
            "16/16 [==============================] - 0s 8ms/step - loss: 23.3256 - mse: 23.3256 - mae: 3.8868 - val_loss: 28.0450 - val_mse: 28.0450 - val_mae: 3.9790\n",
            "Epoch 84/100\n",
            "16/16 [==============================] - 0s 7ms/step - loss: 22.8669 - mse: 22.8669 - mae: 3.8521 - val_loss: 27.3345 - val_mse: 27.3345 - val_mae: 3.9253\n",
            "Epoch 85/100\n",
            "16/16 [==============================] - 0s 6ms/step - loss: 22.3704 - mse: 22.3704 - mae: 3.8129 - val_loss: 26.7537 - val_mse: 26.7537 - val_mae: 3.8734\n",
            "Epoch 86/100\n",
            "16/16 [==============================] - 0s 6ms/step - loss: 21.8697 - mse: 21.8697 - mae: 3.7727 - val_loss: 26.0804 - val_mse: 26.0804 - val_mae: 3.8190\n",
            "Epoch 87/100\n",
            "16/16 [==============================] - 0s 8ms/step - loss: 21.4145 - mse: 21.4145 - mae: 3.7359 - val_loss: 25.3150 - val_mse: 25.3150 - val_mae: 3.7597\n",
            "Epoch 88/100\n",
            "16/16 [==============================] - 0s 7ms/step - loss: 20.9481 - mse: 20.9481 - mae: 3.6936 - val_loss: 24.6681 - val_mse: 24.6681 - val_mae: 3.6969\n",
            "Epoch 89/100\n",
            "16/16 [==============================] - 0s 8ms/step - loss: 20.4373 - mse: 20.4373 - mae: 3.6518 - val_loss: 23.9729 - val_mse: 23.9729 - val_mae: 3.6428\n",
            "Epoch 90/100\n",
            "16/16 [==============================] - 0s 7ms/step - loss: 20.0411 - mse: 20.0411 - mae: 3.6166 - val_loss: 23.1929 - val_mse: 23.1929 - val_mae: 3.5823\n",
            "Epoch 91/100\n",
            "16/16 [==============================] - 0s 8ms/step - loss: 19.5190 - mse: 19.5190 - mae: 3.5704 - val_loss: 22.6622 - val_mse: 22.6622 - val_mae: 3.5290\n",
            "Epoch 92/100\n",
            "16/16 [==============================] - 0s 7ms/step - loss: 19.0864 - mse: 19.0864 - mae: 3.5299 - val_loss: 22.0081 - val_mse: 22.0081 - val_mae: 3.4646\n",
            "Epoch 93/100\n",
            "16/16 [==============================] - 0s 7ms/step - loss: 18.6194 - mse: 18.6194 - mae: 3.4890 - val_loss: 21.3674 - val_mse: 21.3674 - val_mae: 3.4225\n",
            "Epoch 94/100\n",
            "16/16 [==============================] - 0s 5ms/step - loss: 18.2393 - mse: 18.2393 - mae: 3.4523 - val_loss: 20.6764 - val_mse: 20.6764 - val_mae: 3.3570\n",
            "Epoch 95/100\n",
            "16/16 [==============================] - 0s 7ms/step - loss: 17.7952 - mse: 17.7952 - mae: 3.4139 - val_loss: 20.1497 - val_mse: 20.1497 - val_mae: 3.3031\n",
            "Epoch 96/100\n",
            "16/16 [==============================] - 0s 7ms/step - loss: 17.4484 - mse: 17.4484 - mae: 3.3809 - val_loss: 19.6506 - val_mse: 19.6506 - val_mae: 3.2485\n",
            "Epoch 97/100\n",
            "16/16 [==============================] - 0s 6ms/step - loss: 17.0468 - mse: 17.0468 - mae: 3.3384 - val_loss: 19.1180 - val_mse: 19.1180 - val_mae: 3.1961\n",
            "Epoch 98/100\n",
            "16/16 [==============================] - 0s 5ms/step - loss: 16.7153 - mse: 16.7153 - mae: 3.3049 - val_loss: 18.5595 - val_mse: 18.5595 - val_mae: 3.1466\n",
            "Epoch 99/100\n",
            "16/16 [==============================] - 0s 5ms/step - loss: 16.4000 - mse: 16.4000 - mae: 3.2725 - val_loss: 18.0562 - val_mse: 18.0562 - val_mae: 3.1093\n",
            "Epoch 100/100\n",
            "16/16 [==============================] - 0s 5ms/step - loss: 16.0663 - mse: 16.0663 - mae: 3.2357 - val_loss: 17.6500 - val_mse: 17.6500 - val_mae: 3.0698\n",
            "time: 11.3 s (started: 2024-06-28 05:29:22 +00:00)\n"
          ]
        }
      ],
      "source": [
        "epochs = 100\n",
        "batch_size = 16\n",
        "\n",
        "history = model.fit(\n",
        "    X_train, y_train,\n",
        "    epochs = epochs,\n",
        "    batch_size = batch_size,\n",
        "    validation_split=0.2\n",
        "    )"
      ]
    },
    {
      "cell_type": "code",
      "execution_count": null,
      "metadata": {
        "colab": {
          "base_uri": "https://localhost:8080/"
        },
        "id": "s0Jqr2APQblC",
        "outputId": "401c2f41-8855-401a-c607-08a42363e775"
      },
      "outputs": [
        {
          "name": "stdout",
          "output_type": "stream",
          "text": [
            "time: 581 µs (started: 2024-06-28 05:29:33 +00:00)\n"
          ]
        }
      ],
      "source": [
        "hist = history.history\n",
        "epochs = history.epoch"
      ]
    },
    {
      "cell_type": "code",
      "execution_count": null,
      "metadata": {
        "colab": {
          "base_uri": "https://localhost:8080/",
          "height": 490
        },
        "id": "q5_D1BwWRKzO",
        "outputId": "006c07d7-0d76-4248-ea93-3c2ea257f5fc"
      },
      "outputs": [
        {
          "data": {
            "image/png": "[encoded data removed]",
            "text/plain": [
              "<Figure size 640x480 with 1 Axes>"
            ]
          },
          "metadata": {},
          "output_type": "display_data"
        },
        {
          "name": "stdout",
          "output_type": "stream",
          "text": [
            "time: 254 ms (started: 2024-06-28 05:29:33 +00:00)\n"
          ]
        }
      ],
      "source": [
        "plt.plot(epochs, hist['loss'], label= 'train')\n",
        "plt.plot(epochs, hist['val_loss'], label= 'val')\n",
        "plt.title('training and validation loss')\n",
        "plt.xlabel('epochs')\n",
        "plt.ylabel('loss')\n",
        "plt.legend()\n",
        "plt.show()\n",
        "\n",
        "# 훈련할 수록 훈련 데이터와 검증 데이터의 loss값이 줄어들어야 함. 둘이 같은 기조를 보이지 않는다면 과적합이 걸리는 것으로 해석 가능."
      ]
    },
    {
      "cell_type": "markdown",
      "metadata": {
        "id": "kdf9WD5XRrFb"
      },
      "source": [
        "## 3. 평가"
      ]
    },
    {
      "cell_type": "code",
      "execution_count": null,
      "metadata": {
        "colab": {
          "base_uri": "https://localhost:8080/"
        },
        "id": "WvhzZBxkSTHT",
        "outputId": "0f1988f7-abc2-450e-8eb2-07f6379875e9"
      },
      "outputs": [
        {
          "name": "stdout",
          "output_type": "stream",
          "text": [
            "time: 5.01 ms (started: 2024-06-28 05:29:33 +00:00)\n"
          ]
        }
      ],
      "source": [
        "X_test = ss.transform(X_test)\n",
        "y_test = y_test.to_numpy()"
      ]
    },
    {
      "cell_type": "code",
      "execution_count": null,
      "metadata": {
        "colab": {
          "base_uri": "https://localhost:8080/"
        },
        "id": "5BgIkUCuSrhy",
        "outputId": "ece898a3-d730-400f-e803-d6cb03d9e1a6"
      },
      "outputs": [
        {
          "name": "stdout",
          "output_type": "stream",
          "text": [
            "<class 'numpy.ndarray'> <class 'numpy.ndarray'>\n",
            "time: 2.17 ms (started: 2024-06-28 05:29:33 +00:00)\n"
          ]
        }
      ],
      "source": [
        "print(type(X_test), type(y_test))"
      ]
    },
    {
      "cell_type": "code",
      "execution_count": null,
      "metadata": {
        "colab": {
          "base_uri": "https://localhost:8080/"
        },
        "id": "QWQ633BWSukC",
        "outputId": "1891641f-2bbc-40c0-c272-a956a22d8d41"
      },
      "outputs": [
        {
          "name": "stdout",
          "output_type": "stream",
          "text": [
            "3/3 [==============================] - 0s 3ms/step\n",
            "time: 128 ms (started: 2024-06-28 05:29:33 +00:00)\n"
          ]
        }
      ],
      "source": [
        "y_pred = model.predict(X_test)"
      ]
    },
    {
      "cell_type": "code",
      "execution_count": null,
      "metadata": {
        "colab": {
          "base_uri": "https://localhost:8080/"
        },
        "id": "01lN8G1hTKzX",
        "outputId": "667f33a6-dc3f-4efe-fec5-ffab76cd9e3c"
      },
      "outputs": [
        {
          "data": {
            "text/plain": [
              "array([[25.179707],\n",
              "       [20.550102],\n",
              "       [36.44219 ],\n",
              "       [25.763885],\n",
              "       [29.557182],\n",
              "       [29.133013],\n",
              "       [17.33357 ],\n",
              "       [29.538025],\n",
              "       [14.369212],\n",
              "       [32.108505],\n",
              "       [12.767102],\n",
              "       [16.591494],\n",
              "       [17.301521],\n",
              "       [28.066437],\n",
              "       [12.09482 ],\n",
              "       [34.07285 ],\n",
              "       [14.425444],\n",
              "       [33.86862 ],\n",
              "       [27.061932],\n",
              "       [28.628216],\n",
              "       [11.234143],\n",
              "       [44.49216 ],\n",
              "       [37.528915],\n",
              "       [13.976064],\n",
              "       [30.482025],\n",
              "       [23.05234 ],\n",
              "       [17.243788],\n",
              "       [11.384872],\n",
              "       [31.872585],\n",
              "       [20.714321],\n",
              "       [17.335894],\n",
              "       [19.494873],\n",
              "       [18.886974],\n",
              "       [32.625797],\n",
              "       [17.395645],\n",
              "       [38.855473],\n",
              "       [17.820839],\n",
              "       [24.283566],\n",
              "       [17.301416],\n",
              "       [15.916926],\n",
              "       [16.167036],\n",
              "       [27.845552],\n",
              "       [37.787014],\n",
              "       [25.938982],\n",
              "       [17.332882],\n",
              "       [16.299978],\n",
              "       [11.630412],\n",
              "       [33.954838],\n",
              "       [23.87135 ],\n",
              "       [32.383873],\n",
              "       [16.457422],\n",
              "       [20.615143],\n",
              "       [19.625912],\n",
              "       [34.284443],\n",
              "       [23.017189],\n",
              "       [13.890491],\n",
              "       [17.24746 ],\n",
              "       [15.567449],\n",
              "       [17.36346 ],\n",
              "       [20.35741 ],\n",
              "       [16.764343],\n",
              "       [17.940912],\n",
              "       [19.631807],\n",
              "       [19.206993],\n",
              "       [24.608818],\n",
              "       [27.090464],\n",
              "       [23.787022],\n",
              "       [31.393162],\n",
              "       [20.11618 ],\n",
              "       [15.34194 ],\n",
              "       [20.911917],\n",
              "       [15.272656],\n",
              "       [19.95579 ],\n",
              "       [26.228588],\n",
              "       [22.194042],\n",
              "       [24.4906  ],\n",
              "       [16.171736],\n",
              "       [13.153303],\n",
              "       [21.579361]], dtype=float32)"
            ]
          },
          "execution_count": 122,
          "metadata": {},
          "output_type": "execute_result"
        },
        {
          "name": "stdout",
          "output_type": "stream",
          "text": [
            "time: 5.87 ms (started: 2024-06-28 05:29:33 +00:00)\n"
          ]
        }
      ],
      "source": [
        "y_pred"
      ]
    },
    {
      "cell_type": "code",
      "execution_count": null,
      "metadata": {
        "colab": {
          "base_uri": "https://localhost:8080/"
        },
        "id": "r1Xi_KLfTM0w",
        "outputId": "7be2e758-2652-46a6-b039-b3e2960d59e7"
      },
      "outputs": [
        {
          "name": "stdout",
          "output_type": "stream",
          "text": [
            "14.858364841362388 3.1571408887452717\n",
            "time: 1.94 ms (started: 2024-06-28 05:29:33 +00:00)\n"
          ]
        }
      ],
      "source": [
        "from sklearn.metrics import mean_squared_error, mean_absolute_error\n",
        "\n",
        "mse = mean_squared_error(y_test, y_pred)\n",
        "mae = mean_absolute_error(y_test, y_pred)\n",
        "\n",
        "print(mse, mae)"
      ]
    },
    {
      "cell_type": "code",
      "execution_count": null,
      "metadata": {
        "colab": {
          "base_uri": "https://localhost:8080/",
          "height": 467
        },
        "id": "jkHNa8_ZThSn",
        "outputId": "73da5f2d-31bd-428a-906b-8068c843accc"
      },
      "outputs": [
        {
          "data": {
            "image/png": "[encoded data removed]",
            "text/plain": [
              "<Figure size 640x480 with 1 Axes>"
            ]
          },
          "metadata": {},
          "output_type": "display_data"
        },
        {
          "name": "stdout",
          "output_type": "stream",
          "text": [
            "time: 383 ms (started: 2024-06-28 05:30:01 +00:00)\n"
          ]
        }
      ],
      "source": [
        "plt.scatter(y_test, y_pred)\n",
        "plt.plot([0, 45], [0, 45])\n",
        "plt.xlabel('y_test')\n",
        "plt.ylabel('y_pred')\n",
        "plt.show()"
      ]
    }
  ],
  "metadata": {
    "colab": {
      "provenance": []
    },
    "kernelspec": {
      "display_name": "Python 3",
      "name": "python3"
    },
    "language_info": {
      "codemirror_mode": {
        "name": "ipython",
        "version": 3
      },
      "file_extension": ".py",
      "mimetype": "text/x-python",
      "name": "python",
      "nbconvert_exporter": "python",
      "pygments_lexer": "ipython3",
      "version": "3.9.6"
    }
  },
  "nbformat": 4,
  "nbformat_minor": 0
}
