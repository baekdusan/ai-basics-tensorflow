{
  "cells": [
    {
      "cell_type": "markdown",
      "metadata": {
        "id": "NbCXR0I5aay9"
      },
      "source": [
        "# SVM binary classification\n",
        "- 인디언 당뇨병 데이터 셋을 이용해서 당뇨병 여부 예측"
      ]
    },
    {
      "cell_type": "code",
      "execution_count": 1,
      "metadata": {
        "id": "62DraA2vbvk1"
      },
      "outputs": [],
      "source": [
        "import numpy as np\n",
        "import pandas as pd\n",
        "import matplotlib.pyplot as plt\n",
        "import seaborn as sns\n",
        "\n",
        "SEED = 42"
      ]
    },
    {
      "cell_type": "markdown",
      "metadata": {
        "id": "iYThYVgRb8Vw"
      },
      "source": [
        "# 1. 데이터 준비"
      ]
    },
    {
      "cell_type": "code",
      "execution_count": 2,
      "metadata": {
        "id": "6VL3Vz0mcFSq"
      },
      "outputs": [
        {
          "name": "stdout",
          "output_type": "stream",
          "text": [
            "--2024-07-07 11:54:37--  https://raw.githubusercontent.com/devdio/flyai_datasets/main/diabetes.csv\n",
            "raw.githubusercontent.com (raw.githubusercontent.com) 해석 중... 185.199.108.133, 185.199.109.133, 185.199.110.133, ...\n",
            "다음으로 연결 중: raw.githubusercontent.com (raw.githubusercontent.com)|185.199.108.133|:443... 연결했습니다.\n",
            "HTTP 요청을 보냈습니다. 응답 기다리는 중... 200 OK\n",
            "길이: 23873 (23K) [text/plain]\n",
            "저장 위치: `diabetes.csv'\n",
            "\n",
            "diabetes.csv        100%[===================>]  23.31K  --.-KB/s    /  0.02s   \n",
            "\n",
            "2024-07-07 11:54:38 (1.09 MB/s) - `diabetes.csv' 저장함 [23873/23873]\n",
            "\n"
          ]
        }
      ],
      "source": [
        "# !wget https://raw.githubusercontent.com/devdio/flyai_datasets/main/diabetes.csv"
      ]
    },
    {
      "cell_type": "code",
      "execution_count": 3,
      "metadata": {
        "colab": {
          "base_uri": "https://localhost:8080/"
        },
        "id": "vEU05nuHcWz0",
        "outputId": "08f33ae7-505a-40fc-88a5-8bcd6e95dff1"
      },
      "outputs": [
        {
          "data": {
            "text/plain": [
              "(768, 9)"
            ]
          },
          "execution_count": 3,
          "metadata": {},
          "output_type": "execute_result"
        }
      ],
      "source": [
        "diabetes = pd.read_csv('diabetes.csv')\n",
        "diabetes.shape"
      ]
    },
    {
      "cell_type": "code",
      "execution_count": 4,
      "metadata": {
        "colab": {
          "base_uri": "https://localhost:8080/",
          "height": 206
        },
        "id": "1DGn-ianc4o2",
        "outputId": "d0a77414-5300-404d-bf27-b660ca8933ae"
      },
      "outputs": [
        {
          "data": {
            "text/html": [
              "<div>\n",
              "<style scoped>\n",
              "    .dataframe tbody tr th:only-of-type {\n",
              "        vertical-align: middle;\n",
              "    }\n",
              "\n",
              "    .dataframe tbody tr th {\n",
              "        vertical-align: top;\n",
              "    }\n",
              "\n",
              "    .dataframe thead th {\n",
              "        text-align: right;\n",
              "    }\n",
              "</style>\n",
              "<table border=\"1\" class=\"dataframe\">\n",
              "  <thead>\n",
              "    <tr style=\"text-align: right;\">\n",
              "      <th></th>\n",
              "      <th>Pregnancies</th>\n",
              "      <th>Glucose</th>\n",
              "      <th>BloodPressure</th>\n",
              "      <th>SkinThickness</th>\n",
              "      <th>Insulin</th>\n",
              "      <th>BMI</th>\n",
              "      <th>DiabetesPedigreeFunction</th>\n",
              "      <th>Age</th>\n",
              "      <th>Outcome</th>\n",
              "    </tr>\n",
              "  </thead>\n",
              "  <tbody>\n",
              "    <tr>\n",
              "      <th>0</th>\n",
              "      <td>6</td>\n",
              "      <td>148</td>\n",
              "      <td>72</td>\n",
              "      <td>35</td>\n",
              "      <td>0</td>\n",
              "      <td>33.6</td>\n",
              "      <td>0.627</td>\n",
              "      <td>50</td>\n",
              "      <td>1</td>\n",
              "    </tr>\n",
              "    <tr>\n",
              "      <th>1</th>\n",
              "      <td>1</td>\n",
              "      <td>85</td>\n",
              "      <td>66</td>\n",
              "      <td>29</td>\n",
              "      <td>0</td>\n",
              "      <td>26.6</td>\n",
              "      <td>0.351</td>\n",
              "      <td>31</td>\n",
              "      <td>0</td>\n",
              "    </tr>\n",
              "    <tr>\n",
              "      <th>2</th>\n",
              "      <td>8</td>\n",
              "      <td>183</td>\n",
              "      <td>64</td>\n",
              "      <td>0</td>\n",
              "      <td>0</td>\n",
              "      <td>23.3</td>\n",
              "      <td>0.672</td>\n",
              "      <td>32</td>\n",
              "      <td>1</td>\n",
              "    </tr>\n",
              "    <tr>\n",
              "      <th>3</th>\n",
              "      <td>1</td>\n",
              "      <td>89</td>\n",
              "      <td>66</td>\n",
              "      <td>23</td>\n",
              "      <td>94</td>\n",
              "      <td>28.1</td>\n",
              "      <td>0.167</td>\n",
              "      <td>21</td>\n",
              "      <td>0</td>\n",
              "    </tr>\n",
              "    <tr>\n",
              "      <th>4</th>\n",
              "      <td>0</td>\n",
              "      <td>137</td>\n",
              "      <td>40</td>\n",
              "      <td>35</td>\n",
              "      <td>168</td>\n",
              "      <td>43.1</td>\n",
              "      <td>2.288</td>\n",
              "      <td>33</td>\n",
              "      <td>1</td>\n",
              "    </tr>\n",
              "  </tbody>\n",
              "</table>\n",
              "</div>"
            ],
            "text/plain": [
              "   Pregnancies  Glucose  BloodPressure  SkinThickness  Insulin   BMI  \\\n",
              "0            6      148             72             35        0  33.6   \n",
              "1            1       85             66             29        0  26.6   \n",
              "2            8      183             64              0        0  23.3   \n",
              "3            1       89             66             23       94  28.1   \n",
              "4            0      137             40             35      168  43.1   \n",
              "\n",
              "   DiabetesPedigreeFunction  Age  Outcome  \n",
              "0                     0.627   50        1  \n",
              "1                     0.351   31        0  \n",
              "2                     0.672   32        1  \n",
              "3                     0.167   21        0  \n",
              "4                     2.288   33        1  "
            ]
          },
          "execution_count": 4,
          "metadata": {},
          "output_type": "execute_result"
        }
      ],
      "source": [
        "diabetes.head()"
      ]
    },
    {
      "cell_type": "code",
      "execution_count": 5,
      "metadata": {
        "colab": {
          "base_uri": "https://localhost:8080/",
          "height": 206
        },
        "id": "ejvOYefIc7Bt",
        "outputId": "dd4ef6de-86e8-49c5-fa1e-f81550f09706"
      },
      "outputs": [
        {
          "data": {
            "text/html": [
              "<div>\n",
              "<style scoped>\n",
              "    .dataframe tbody tr th:only-of-type {\n",
              "        vertical-align: middle;\n",
              "    }\n",
              "\n",
              "    .dataframe tbody tr th {\n",
              "        vertical-align: top;\n",
              "    }\n",
              "\n",
              "    .dataframe thead th {\n",
              "        text-align: right;\n",
              "    }\n",
              "</style>\n",
              "<table border=\"1\" class=\"dataframe\">\n",
              "  <thead>\n",
              "    <tr style=\"text-align: right;\">\n",
              "      <th></th>\n",
              "      <th>Pregnancies</th>\n",
              "      <th>Glucose</th>\n",
              "      <th>BloodPressure</th>\n",
              "      <th>SkinThickness</th>\n",
              "      <th>Insulin</th>\n",
              "      <th>BMI</th>\n",
              "      <th>DiabetesPedigreeFunction</th>\n",
              "      <th>Age</th>\n",
              "      <th>Outcome</th>\n",
              "    </tr>\n",
              "  </thead>\n",
              "  <tbody>\n",
              "    <tr>\n",
              "      <th>0</th>\n",
              "      <td>6</td>\n",
              "      <td>148</td>\n",
              "      <td>72</td>\n",
              "      <td>35</td>\n",
              "      <td>0</td>\n",
              "      <td>33.6</td>\n",
              "      <td>0.627</td>\n",
              "      <td>50</td>\n",
              "      <td>1</td>\n",
              "    </tr>\n",
              "    <tr>\n",
              "      <th>1</th>\n",
              "      <td>1</td>\n",
              "      <td>85</td>\n",
              "      <td>66</td>\n",
              "      <td>29</td>\n",
              "      <td>0</td>\n",
              "      <td>26.6</td>\n",
              "      <td>0.351</td>\n",
              "      <td>31</td>\n",
              "      <td>0</td>\n",
              "    </tr>\n",
              "    <tr>\n",
              "      <th>2</th>\n",
              "      <td>8</td>\n",
              "      <td>183</td>\n",
              "      <td>64</td>\n",
              "      <td>0</td>\n",
              "      <td>0</td>\n",
              "      <td>23.3</td>\n",
              "      <td>0.672</td>\n",
              "      <td>32</td>\n",
              "      <td>1</td>\n",
              "    </tr>\n",
              "    <tr>\n",
              "      <th>3</th>\n",
              "      <td>1</td>\n",
              "      <td>89</td>\n",
              "      <td>66</td>\n",
              "      <td>23</td>\n",
              "      <td>94</td>\n",
              "      <td>28.1</td>\n",
              "      <td>0.167</td>\n",
              "      <td>21</td>\n",
              "      <td>0</td>\n",
              "    </tr>\n",
              "    <tr>\n",
              "      <th>4</th>\n",
              "      <td>0</td>\n",
              "      <td>137</td>\n",
              "      <td>40</td>\n",
              "      <td>35</td>\n",
              "      <td>168</td>\n",
              "      <td>43.1</td>\n",
              "      <td>2.288</td>\n",
              "      <td>33</td>\n",
              "      <td>1</td>\n",
              "    </tr>\n",
              "  </tbody>\n",
              "</table>\n",
              "</div>"
            ],
            "text/plain": [
              "   Pregnancies  Glucose  BloodPressure  SkinThickness  Insulin   BMI  \\\n",
              "0            6      148             72             35        0  33.6   \n",
              "1            1       85             66             29        0  26.6   \n",
              "2            8      183             64              0        0  23.3   \n",
              "3            1       89             66             23       94  28.1   \n",
              "4            0      137             40             35      168  43.1   \n",
              "\n",
              "   DiabetesPedigreeFunction  Age  Outcome  \n",
              "0                     0.627   50        1  \n",
              "1                     0.351   31        0  \n",
              "2                     0.672   32        1  \n",
              "3                     0.167   21        0  \n",
              "4                     2.288   33        1  "
            ]
          },
          "execution_count": 5,
          "metadata": {},
          "output_type": "execute_result"
        }
      ],
      "source": [
        "df = diabetes.copy()\n",
        "df.head()"
      ]
    },
    {
      "cell_type": "code",
      "execution_count": 6,
      "metadata": {
        "colab": {
          "base_uri": "https://localhost:8080/"
        },
        "id": "tPbJB6WAddht",
        "outputId": "3744206c-ba8c-421c-9b8e-c9563e506d0f"
      },
      "outputs": [
        {
          "name": "stdout",
          "output_type": "stream",
          "text": [
            "<class 'pandas.core.frame.DataFrame'>\n",
            "RangeIndex: 768 entries, 0 to 767\n",
            "Data columns (total 9 columns):\n",
            " #   Column                    Non-Null Count  Dtype  \n",
            "---  ------                    --------------  -----  \n",
            " 0   Pregnancies               768 non-null    int64  \n",
            " 1   Glucose                   768 non-null    int64  \n",
            " 2   BloodPressure             768 non-null    int64  \n",
            " 3   SkinThickness             768 non-null    int64  \n",
            " 4   Insulin                   768 non-null    int64  \n",
            " 5   BMI                       768 non-null    float64\n",
            " 6   DiabetesPedigreeFunction  768 non-null    float64\n",
            " 7   Age                       768 non-null    int64  \n",
            " 8   Outcome                   768 non-null    int64  \n",
            "dtypes: float64(2), int64(7)\n",
            "memory usage: 54.1 KB\n"
          ]
        }
      ],
      "source": [
        "df.info()"
      ]
    },
    {
      "cell_type": "code",
      "execution_count": 7,
      "metadata": {
        "colab": {
          "base_uri": "https://localhost:8080/"
        },
        "id": "j-aze1VmeAgN",
        "outputId": "b2bfc717-dfdb-4be2-a0fe-16689e3fc3db"
      },
      "outputs": [
        {
          "data": {
            "text/plain": [
              "Index(['Pregnancies', 'Glucose', 'BloodPressure', 'SkinThickness', 'Insulin',\n",
              "       'BMI', 'DiabetesPedigreeFunction', 'Age', 'Outcome'],\n",
              "      dtype='object')"
            ]
          },
          "execution_count": 7,
          "metadata": {},
          "output_type": "execute_result"
        }
      ],
      "source": [
        "df.columns"
      ]
    },
    {
      "cell_type": "code",
      "execution_count": 8,
      "metadata": {
        "colab": {
          "base_uri": "https://localhost:8080/"
        },
        "id": "9dxGfhXpeqwM",
        "outputId": "2dfb2801-226b-45a4-de8a-78ce61087dd7"
      },
      "outputs": [
        {
          "data": {
            "text/plain": [
              "Outcome\n",
              "0    500\n",
              "1    268\n",
              "Name: count, dtype: int64"
            ]
          },
          "execution_count": 8,
          "metadata": {},
          "output_type": "execute_result"
        }
      ],
      "source": [
        "df['Outcome'].value_counts() # 데이터 불균형을 확인하기 위해 봐야하는 과정"
      ]
    },
    {
      "cell_type": "code",
      "execution_count": 9,
      "metadata": {
        "colab": {
          "base_uri": "https://localhost:8080/",
          "height": 467
        },
        "id": "LKQyXF9ievh5",
        "outputId": "3ece0d4c-ce3f-4cb2-902e-7d86ddb434f1"
      },
      "outputs": [
        {
          "data": {
            "text/plain": [
              "<Axes: xlabel='Outcome', ylabel='count'>"
            ]
          },
          "execution_count": 9,
          "metadata": {},
          "output_type": "execute_result"
        },
        {
          "data": {
            "image/png": "[encoded data removed]",
            "text/plain": [
              "<Figure size 640x480 with 1 Axes>"
            ]
          },
          "metadata": {},
          "output_type": "display_data"
        }
      ],
      "source": [
        "sns.countplot(x='Outcome', data=df)"
      ]
    },
    {
      "cell_type": "markdown",
      "metadata": {
        "id": "N3AyLKZje5uX"
      },
      "source": [
        "## 연속형 변수"
      ]
    },
    {
      "cell_type": "code",
      "execution_count": 10,
      "metadata": {
        "id": "duXF-nMVfGbD"
      },
      "outputs": [],
      "source": [
        "tmp = df['Pregnancies'].sort_values(ascending=False)"
      ]
    },
    {
      "cell_type": "code",
      "execution_count": 11,
      "metadata": {
        "colab": {
          "base_uri": "https://localhost:8080/",
          "height": 467
        },
        "id": "-OMQk6Cifkto",
        "outputId": "ebb4ab3d-8a3f-451e-a098-2958f25a9929"
      },
      "outputs": [
        {
          "data": {
            "text/plain": [
              "<Axes: xlabel='None'>"
            ]
          },
          "execution_count": 11,
          "metadata": {},
          "output_type": "execute_result"
        },
        {
          "data": {
            "image/png": "[encoded data removed]",
            "text/plain": [
              "<Figure size 640x480 with 1 Axes>"
            ]
          },
          "metadata": {},
          "output_type": "display_data"
        }
      ],
      "source": [
        "sns.barplot(x=tmp.index, y=tmp.values)"
      ]
    },
    {
      "cell_type": "code",
      "execution_count": 12,
      "metadata": {
        "colab": {
          "base_uri": "https://localhost:8080/"
        },
        "id": "zVFJQbO9gnwz",
        "outputId": "03e87f91-f31c-4985-9d56-a877f90834dd"
      },
      "outputs": [
        {
          "data": {
            "text/plain": [
              "Pregnancies                 0\n",
              "Glucose                     0\n",
              "BloodPressure               0\n",
              "SkinThickness               0\n",
              "Insulin                     0\n",
              "BMI                         0\n",
              "DiabetesPedigreeFunction    0\n",
              "Age                         0\n",
              "Outcome                     0\n",
              "dtype: int64"
            ]
          },
          "execution_count": 12,
          "metadata": {},
          "output_type": "execute_result"
        }
      ],
      "source": [
        "# 결측치\n",
        "df.isna().sum()"
      ]
    },
    {
      "cell_type": "code",
      "execution_count": 13,
      "metadata": {
        "colab": {
          "base_uri": "https://localhost:8080/",
          "height": 331
        },
        "id": "y2cRKnhahHx9",
        "outputId": "a0458327-8fc1-4059-9432-248444d12ea0"
      },
      "outputs": [
        {
          "data": {
            "text/html": [
              "<div>\n",
              "<style scoped>\n",
              "    .dataframe tbody tr th:only-of-type {\n",
              "        vertical-align: middle;\n",
              "    }\n",
              "\n",
              "    .dataframe tbody tr th {\n",
              "        vertical-align: top;\n",
              "    }\n",
              "\n",
              "    .dataframe thead th {\n",
              "        text-align: right;\n",
              "    }\n",
              "</style>\n",
              "<table border=\"1\" class=\"dataframe\">\n",
              "  <thead>\n",
              "    <tr style=\"text-align: right;\">\n",
              "      <th></th>\n",
              "      <th>count</th>\n",
              "      <th>mean</th>\n",
              "      <th>std</th>\n",
              "      <th>min</th>\n",
              "      <th>25%</th>\n",
              "      <th>50%</th>\n",
              "      <th>75%</th>\n",
              "      <th>max</th>\n",
              "    </tr>\n",
              "  </thead>\n",
              "  <tbody>\n",
              "    <tr>\n",
              "      <th>Pregnancies</th>\n",
              "      <td>768.0</td>\n",
              "      <td>3.845052</td>\n",
              "      <td>3.369578</td>\n",
              "      <td>0.000</td>\n",
              "      <td>1.00000</td>\n",
              "      <td>3.0000</td>\n",
              "      <td>6.00000</td>\n",
              "      <td>17.00</td>\n",
              "    </tr>\n",
              "    <tr>\n",
              "      <th>Glucose</th>\n",
              "      <td>768.0</td>\n",
              "      <td>120.894531</td>\n",
              "      <td>31.972618</td>\n",
              "      <td>0.000</td>\n",
              "      <td>99.00000</td>\n",
              "      <td>117.0000</td>\n",
              "      <td>140.25000</td>\n",
              "      <td>199.00</td>\n",
              "    </tr>\n",
              "    <tr>\n",
              "      <th>BloodPressure</th>\n",
              "      <td>768.0</td>\n",
              "      <td>69.105469</td>\n",
              "      <td>19.355807</td>\n",
              "      <td>0.000</td>\n",
              "      <td>62.00000</td>\n",
              "      <td>72.0000</td>\n",
              "      <td>80.00000</td>\n",
              "      <td>122.00</td>\n",
              "    </tr>\n",
              "    <tr>\n",
              "      <th>SkinThickness</th>\n",
              "      <td>768.0</td>\n",
              "      <td>20.536458</td>\n",
              "      <td>15.952218</td>\n",
              "      <td>0.000</td>\n",
              "      <td>0.00000</td>\n",
              "      <td>23.0000</td>\n",
              "      <td>32.00000</td>\n",
              "      <td>99.00</td>\n",
              "    </tr>\n",
              "    <tr>\n",
              "      <th>Insulin</th>\n",
              "      <td>768.0</td>\n",
              "      <td>79.799479</td>\n",
              "      <td>115.244002</td>\n",
              "      <td>0.000</td>\n",
              "      <td>0.00000</td>\n",
              "      <td>30.5000</td>\n",
              "      <td>127.25000</td>\n",
              "      <td>846.00</td>\n",
              "    </tr>\n",
              "    <tr>\n",
              "      <th>BMI</th>\n",
              "      <td>768.0</td>\n",
              "      <td>31.992578</td>\n",
              "      <td>7.884160</td>\n",
              "      <td>0.000</td>\n",
              "      <td>27.30000</td>\n",
              "      <td>32.0000</td>\n",
              "      <td>36.60000</td>\n",
              "      <td>67.10</td>\n",
              "    </tr>\n",
              "    <tr>\n",
              "      <th>DiabetesPedigreeFunction</th>\n",
              "      <td>768.0</td>\n",
              "      <td>0.471876</td>\n",
              "      <td>0.331329</td>\n",
              "      <td>0.078</td>\n",
              "      <td>0.24375</td>\n",
              "      <td>0.3725</td>\n",
              "      <td>0.62625</td>\n",
              "      <td>2.42</td>\n",
              "    </tr>\n",
              "    <tr>\n",
              "      <th>Age</th>\n",
              "      <td>768.0</td>\n",
              "      <td>33.240885</td>\n",
              "      <td>11.760232</td>\n",
              "      <td>21.000</td>\n",
              "      <td>24.00000</td>\n",
              "      <td>29.0000</td>\n",
              "      <td>41.00000</td>\n",
              "      <td>81.00</td>\n",
              "    </tr>\n",
              "    <tr>\n",
              "      <th>Outcome</th>\n",
              "      <td>768.0</td>\n",
              "      <td>0.348958</td>\n",
              "      <td>0.476951</td>\n",
              "      <td>0.000</td>\n",
              "      <td>0.00000</td>\n",
              "      <td>0.0000</td>\n",
              "      <td>1.00000</td>\n",
              "      <td>1.00</td>\n",
              "    </tr>\n",
              "  </tbody>\n",
              "</table>\n",
              "</div>"
            ],
            "text/plain": [
              "                          count        mean         std     min       25%  \\\n",
              "Pregnancies               768.0    3.845052    3.369578   0.000   1.00000   \n",
              "Glucose                   768.0  120.894531   31.972618   0.000  99.00000   \n",
              "BloodPressure             768.0   69.105469   19.355807   0.000  62.00000   \n",
              "SkinThickness             768.0   20.536458   15.952218   0.000   0.00000   \n",
              "Insulin                   768.0   79.799479  115.244002   0.000   0.00000   \n",
              "BMI                       768.0   31.992578    7.884160   0.000  27.30000   \n",
              "DiabetesPedigreeFunction  768.0    0.471876    0.331329   0.078   0.24375   \n",
              "Age                       768.0   33.240885   11.760232  21.000  24.00000   \n",
              "Outcome                   768.0    0.348958    0.476951   0.000   0.00000   \n",
              "\n",
              "                               50%        75%     max  \n",
              "Pregnancies                 3.0000    6.00000   17.00  \n",
              "Glucose                   117.0000  140.25000  199.00  \n",
              "BloodPressure              72.0000   80.00000  122.00  \n",
              "SkinThickness              23.0000   32.00000   99.00  \n",
              "Insulin                    30.5000  127.25000  846.00  \n",
              "BMI                        32.0000   36.60000   67.10  \n",
              "DiabetesPedigreeFunction    0.3725    0.62625    2.42  \n",
              "Age                        29.0000   41.00000   81.00  \n",
              "Outcome                     0.0000    1.00000    1.00  "
            ]
          },
          "execution_count": 13,
          "metadata": {},
          "output_type": "execute_result"
        }
      ],
      "source": [
        "df.describe().T"
      ]
    },
    {
      "cell_type": "code",
      "execution_count": 14,
      "metadata": {
        "colab": {
          "base_uri": "https://localhost:8080/"
        },
        "id": "OAAW0oLUhErD",
        "outputId": "8430d314-320b-409e-e896-75868a73bf96"
      },
      "outputs": [
        {
          "data": {
            "text/plain": [
              "((691, 9), (77, 9))"
            ]
          },
          "execution_count": 14,
          "metadata": {},
          "output_type": "execute_result"
        }
      ],
      "source": [
        "# 데이터 분리; 이전과는 다르게 내장 함수를 이용해서 쉽게 분리한다.\n",
        "\n",
        "from sklearn.model_selection import train_test_split\n",
        "\n",
        "train, test = train_test_split(df, test_size=0.1, random_state=SEED, stratify=df['Outcome'])\n",
        "# 훈련 테스트 비율 9: 1\n",
        "# stratify를 쓰면 해당 파라미터의 비율이 잘 맞게 나눠준다\n",
        "train.shape, test.shape"
      ]
    },
    {
      "cell_type": "markdown",
      "metadata": {
        "id": "eWKxvZW7ibEb"
      },
      "source": [
        "# X, y 변수 분리"
      ]
    },
    {
      "cell_type": "code",
      "execution_count": 15,
      "metadata": {
        "id": "ygIdOM16fKXX"
      },
      "outputs": [],
      "source": [
        "X_train = train.drop('Outcome', axis=1)\n",
        "y_train = train['Outcome']\n",
        "\n",
        "X_test = test.drop('Outcome', axis=1)\n",
        "y_test = test['Outcome']"
      ]
    },
    {
      "cell_type": "code",
      "execution_count": 16,
      "metadata": {
        "id": "fTNmMz4GmsCu"
      },
      "outputs": [],
      "source": [
        "col_list = ['Glucose', 'BloodPressure', 'SkinThickness', 'Insulin', 'BMI']\n",
        "median_list = []\n",
        "\n",
        "for col in col_list:\n",
        "  med = X_train[col].median()\n",
        "  X_train.loc[X_train[col] == 0, col] = med # 결측치가 있는 데이터 (0)를 median으로 설정\n",
        "  median_list.append(med)"
      ]
    },
    {
      "cell_type": "code",
      "execution_count": 17,
      "metadata": {
        "colab": {
          "base_uri": "https://localhost:8080/",
          "height": 206
        },
        "id": "ah1kZyKCmyO4",
        "outputId": "66b52f16-bfe3-48ac-8b4a-99e1d8a9ac3c"
      },
      "outputs": [
        {
          "data": {
            "text/html": [
              "<div>\n",
              "<style scoped>\n",
              "    .dataframe tbody tr th:only-of-type {\n",
              "        vertical-align: middle;\n",
              "    }\n",
              "\n",
              "    .dataframe tbody tr th {\n",
              "        vertical-align: top;\n",
              "    }\n",
              "\n",
              "    .dataframe thead th {\n",
              "        text-align: right;\n",
              "    }\n",
              "</style>\n",
              "<table border=\"1\" class=\"dataframe\">\n",
              "  <thead>\n",
              "    <tr style=\"text-align: right;\">\n",
              "      <th></th>\n",
              "      <th>Pregnancies</th>\n",
              "      <th>Glucose</th>\n",
              "      <th>BloodPressure</th>\n",
              "      <th>SkinThickness</th>\n",
              "      <th>Insulin</th>\n",
              "      <th>BMI</th>\n",
              "      <th>DiabetesPedigreeFunction</th>\n",
              "      <th>Age</th>\n",
              "    </tr>\n",
              "  </thead>\n",
              "  <tbody>\n",
              "    <tr>\n",
              "      <th>255</th>\n",
              "      <td>1</td>\n",
              "      <td>113</td>\n",
              "      <td>64</td>\n",
              "      <td>35</td>\n",
              "      <td>40</td>\n",
              "      <td>33.6</td>\n",
              "      <td>0.543</td>\n",
              "      <td>21</td>\n",
              "    </tr>\n",
              "    <tr>\n",
              "      <th>125</th>\n",
              "      <td>1</td>\n",
              "      <td>88</td>\n",
              "      <td>30</td>\n",
              "      <td>42</td>\n",
              "      <td>99</td>\n",
              "      <td>55.0</td>\n",
              "      <td>0.496</td>\n",
              "      <td>26</td>\n",
              "    </tr>\n",
              "    <tr>\n",
              "      <th>46</th>\n",
              "      <td>1</td>\n",
              "      <td>146</td>\n",
              "      <td>56</td>\n",
              "      <td>23</td>\n",
              "      <td>40</td>\n",
              "      <td>29.7</td>\n",
              "      <td>0.564</td>\n",
              "      <td>29</td>\n",
              "    </tr>\n",
              "    <tr>\n",
              "      <th>312</th>\n",
              "      <td>2</td>\n",
              "      <td>155</td>\n",
              "      <td>74</td>\n",
              "      <td>17</td>\n",
              "      <td>96</td>\n",
              "      <td>26.6</td>\n",
              "      <td>0.433</td>\n",
              "      <td>27</td>\n",
              "    </tr>\n",
              "    <tr>\n",
              "      <th>519</th>\n",
              "      <td>6</td>\n",
              "      <td>129</td>\n",
              "      <td>90</td>\n",
              "      <td>7</td>\n",
              "      <td>326</td>\n",
              "      <td>19.6</td>\n",
              "      <td>0.582</td>\n",
              "      <td>60</td>\n",
              "    </tr>\n",
              "  </tbody>\n",
              "</table>\n",
              "</div>"
            ],
            "text/plain": [
              "     Pregnancies  Glucose  BloodPressure  SkinThickness  Insulin   BMI  \\\n",
              "255            1      113             64             35       40  33.6   \n",
              "125            1       88             30             42       99  55.0   \n",
              "46             1      146             56             23       40  29.7   \n",
              "312            2      155             74             17       96  26.6   \n",
              "519            6      129             90              7      326  19.6   \n",
              "\n",
              "     DiabetesPedigreeFunction  Age  \n",
              "255                     0.543   21  \n",
              "125                     0.496   26  \n",
              "46                      0.564   29  \n",
              "312                     0.433   27  \n",
              "519                     0.582   60  "
            ]
          },
          "execution_count": 17,
          "metadata": {},
          "output_type": "execute_result"
        }
      ],
      "source": [
        "X_train.head()"
      ]
    },
    {
      "cell_type": "markdown",
      "metadata": {
        "id": "TBL3VqxUoWbM"
      },
      "source": [
        "## scaling"
      ]
    },
    {
      "cell_type": "code",
      "execution_count": 18,
      "metadata": {
        "colab": {
          "base_uri": "https://localhost:8080/"
        },
        "id": "VKN5hrvyoiYK",
        "outputId": "c8cdbd30-0bc6-42fe-8f34-b5ad535e39ea"
      },
      "outputs": [
        {
          "data": {
            "text/plain": [
              "array([[-0.8500507 , -0.28476158, -0.66987668, ...,  0.18416848,\n",
              "         0.2110448 , -1.05618828],\n",
              "       [-0.8500507 , -1.11097193, -3.45488511, ...,  3.36345057,\n",
              "         0.0685775 , -0.63068332],\n",
              "       [-0.8500507 ,  0.80583607, -1.32517278, ..., -0.39523339,\n",
              "         0.27470041, -0.37538035],\n",
              "       ...,\n",
              "       [-0.8500507 , -0.8135362 , -0.1784046 , ...,  0.85270911,\n",
              "        -0.77410146, -0.29027936],\n",
              "       [-1.1456647 , -0.58219731, -0.66987668, ...,  0.18416848,\n",
              "         0.11101457, -0.97108729],\n",
              "       [ 0.03679132,  0.73973924, -1.16134875, ..., -0.42494631,\n",
              "        -0.56494733,  0.30542758]])"
            ]
          },
          "execution_count": 18,
          "metadata": {},
          "output_type": "execute_result"
        }
      ],
      "source": [
        "from sklearn.preprocessing import StandardScaler # 평균이 0, 표준편차가 1인 데이터로 변경하는 녀석\n",
        "\n",
        "ss = StandardScaler()\n",
        "X_train = ss.fit_transform(X_train)\n",
        "\n",
        "X_train"
      ]
    },
    {
      "cell_type": "code",
      "execution_count": 19,
      "metadata": {
        "colab": {
          "base_uri": "https://localhost:8080/"
        },
        "id": "uasM17VaoT9Y",
        "outputId": "8b0c58e0-3d7d-49c5-adae-cdaadf60e2fc"
      },
      "outputs": [
        {
          "data": {
            "text/plain": [
              "array([1.14432658e+01, 9.15585198e+02, 1.49040674e+02, 8.39423684e+01,\n",
              "       9.95053998e+03, 4.53074291e+01, 1.08834177e-01, 1.38079995e+02])"
            ]
          },
          "execution_count": 19,
          "metadata": {},
          "output_type": "execute_result"
        }
      ],
      "source": [
        "ss.mean_\n",
        "ss.var_"
      ]
    },
    {
      "cell_type": "code",
      "execution_count": 20,
      "metadata": {
        "id": "ORXosU4SpttO"
      },
      "outputs": [],
      "source": [
        "y_train_e = y_train.to_numpy()"
      ]
    },
    {
      "cell_type": "markdown",
      "metadata": {
        "id": "KBVobekQpvX4"
      },
      "source": [
        "# 모델 학습"
      ]
    },
    {
      "cell_type": "code",
      "execution_count": 21,
      "metadata": {
        "colab": {
          "base_uri": "https://localhost:8080/",
          "height": 74
        },
        "id": "VDgBtAB5qNh9",
        "outputId": "91dd53d8-e6e1-437d-f155-702773b3d23c"
      },
      "outputs": [
        {
          "data": {
            "text/html": [
              "<style>#sk-container-id-1 {color: black;}#sk-container-id-1 pre{padding: 0;}#sk-container-id-1 div.sk-toggleable {background-color: white;}#sk-container-id-1 label.sk-toggleable__label {cursor: pointer;display: block;width: 100%;margin-bottom: 0;padding: 0.3em;box-sizing: border-box;text-align: center;}#sk-container-id-1 label.sk-toggleable__label-arrow:before {content: \"▸\";float: left;margin-right: 0.25em;color: #696969;}#sk-container-id-1 label.sk-toggleable__label-arrow:hover:before {color: black;}#sk-container-id-1 div.sk-estimator:hover label.sk-toggleable__label-arrow:before {color: black;}#sk-container-id-1 div.sk-toggleable__content {max-height: 0;max-width: 0;overflow: hidden;text-align: left;background-color: #f0f8ff;}#sk-container-id-1 div.sk-toggleable__content pre {margin: 0.2em;color: black;border-radius: 0.25em;background-color: #f0f8ff;}#sk-container-id-1 input.sk-toggleable__control:checked~div.sk-toggleable__content {max-height: 200px;max-width: 100%;overflow: auto;}#sk-container-id-1 input.sk-toggleable__control:checked~label.sk-toggleable__label-arrow:before {content: \"▾\";}#sk-container-id-1 div.sk-estimator input.sk-toggleable__control:checked~label.sk-toggleable__label {background-color: #d4ebff;}#sk-container-id-1 div.sk-label input.sk-toggleable__control:checked~label.sk-toggleable__label {background-color: #d4ebff;}#sk-container-id-1 input.sk-hidden--visually {border: 0;clip: rect(1px 1px 1px 1px);clip: rect(1px, 1px, 1px, 1px);height: 1px;margin: -1px;overflow: hidden;padding: 0;position: absolute;width: 1px;}#sk-container-id-1 div.sk-estimator {font-family: monospace;background-color: #f0f8ff;border: 1px dotted black;border-radius: 0.25em;box-sizing: border-box;margin-bottom: 0.5em;}#sk-container-id-1 div.sk-estimator:hover {background-color: #d4ebff;}#sk-container-id-1 div.sk-parallel-item::after {content: \"\";width: 100%;border-bottom: 1px solid gray;flex-grow: 1;}#sk-container-id-1 div.sk-label:hover label.sk-toggleable__label {background-color: #d4ebff;}#sk-container-id-1 div.sk-serial::before {content: \"\";position: absolute;border-left: 1px solid gray;box-sizing: border-box;top: 0;bottom: 0;left: 50%;z-index: 0;}#sk-container-id-1 div.sk-serial {display: flex;flex-direction: column;align-items: center;background-color: white;padding-right: 0.2em;padding-left: 0.2em;position: relative;}#sk-container-id-1 div.sk-item {position: relative;z-index: 1;}#sk-container-id-1 div.sk-parallel {display: flex;align-items: stretch;justify-content: center;background-color: white;position: relative;}#sk-container-id-1 div.sk-item::before, #sk-container-id-1 div.sk-parallel-item::before {content: \"\";position: absolute;border-left: 1px solid gray;box-sizing: border-box;top: 0;bottom: 0;left: 50%;z-index: -1;}#sk-container-id-1 div.sk-parallel-item {display: flex;flex-direction: column;z-index: 1;position: relative;background-color: white;}#sk-container-id-1 div.sk-parallel-item:first-child::after {align-self: flex-end;width: 50%;}#sk-container-id-1 div.sk-parallel-item:last-child::after {align-self: flex-start;width: 50%;}#sk-container-id-1 div.sk-parallel-item:only-child::after {width: 0;}#sk-container-id-1 div.sk-dashed-wrapped {border: 1px dashed gray;margin: 0 0.4em 0.5em 0.4em;box-sizing: border-box;padding-bottom: 0.4em;background-color: white;}#sk-container-id-1 div.sk-label label {font-family: monospace;font-weight: bold;display: inline-block;line-height: 1.2em;}#sk-container-id-1 div.sk-label-container {text-align: center;}#sk-container-id-1 div.sk-container {/* jupyter's `normalize.less` sets `[hidden] { display: none; }` but bootstrap.min.css set `[hidden] { display: none !important; }` so we also need the `!important` here to be able to override the default hidden behavior on the sphinx rendered scikit-learn.org. See: https://github.com/scikit-learn/scikit-learn/issues/21755 */display: inline-block !important;position: relative;}#sk-container-id-1 div.sk-text-repr-fallback {display: none;}</style><div id=\"sk-container-id-1\" class=\"sk-top-container\"><div class=\"sk-text-repr-fallback\"><pre>SVC(random_state=42)</pre><b>In a Jupyter environment, please rerun this cell to show the HTML representation or trust the notebook. <br />On GitHub, the HTML representation is unable to render, please try loading this page with nbviewer.org.</b></div><div class=\"sk-container\" hidden><div class=\"sk-item\"><div class=\"sk-estimator sk-toggleable\"><input class=\"sk-toggleable__control sk-hidden--visually\" id=\"sk-estimator-id-1\" type=\"checkbox\" checked><label for=\"sk-estimator-id-1\" class=\"sk-toggleable__label sk-toggleable__label-arrow\">SVC</label><div class=\"sk-toggleable__content\"><pre>SVC(random_state=42)</pre></div></div></div></div></div>"
            ],
            "text/plain": [
              "SVC(random_state=42)"
            ]
          },
          "execution_count": 21,
          "metadata": {},
          "output_type": "execute_result"
        }
      ],
      "source": [
        "from sklearn.svm import SVC\n",
        "\n",
        "clf = SVC(random_state= SEED)\n",
        "clf.fit(X_train, y_train_e)"
      ]
    },
    {
      "cell_type": "markdown",
      "metadata": {
        "id": "6uL1Sr1Kq5kG"
      },
      "source": [
        "# 검증"
      ]
    },
    {
      "cell_type": "code",
      "execution_count": 22,
      "metadata": {
        "id": "Wa_K0pRWrRTl"
      },
      "outputs": [],
      "source": [
        "# 테스트 값 전처리부터\n",
        "\n",
        "X_test = test.drop('Outcome', axis=1)\n",
        "y_test = test['Outcome']\n",
        "\n",
        "for i, col in enumerate(col_list):\n",
        "  X_test.loc[X_test[col] == 0, col] = median_list[i] # test에 있는 데이터라도 train에 있는 median 값을 사용해야 한다\n",
        "  median_list.append(med)"
      ]
    },
    {
      "cell_type": "code",
      "execution_count": 23,
      "metadata": {
        "colab": {
          "base_uri": "https://localhost:8080/"
        },
        "collapsed": true,
        "id": "As3m9q8gsCid",
        "outputId": "dd016f47-cebf-45cc-d02c-3a6c9fbca940"
      },
      "outputs": [
        {
          "data": {
            "text/plain": [
              "array([[-5.54436689e-01, -1.11097193e+00,  1.49243450e-01,\n",
              "        -9.00023374e-01, -4.56615415e-01, -4.99228601e-01,\n",
              "        -7.40758045e-01, -9.71087289e-01],\n",
              "       [-1.14566470e+00,  7.72787653e-01, -1.45805753e-02,\n",
              "        -4.63437799e-01, -5.86938102e-01,  1.75895307e+00,\n",
              "         4.74760878e-01, -2.05178367e-01],\n",
              "       [ 1.81047536e+00,  2.44013034e-01, -8.33700702e-01,\n",
              "         9.55465319e-01, -5.86938102e-01,  1.31325932e+00,\n",
              "        -9.81395619e-02,  3.90528572e-01],\n",
              "       [ 3.67913235e-02,  3.43158275e-01, -1.45805753e-02,\n",
              "        -4.63437799e-01, -5.86938102e-01,  8.01732753e-02,\n",
              "        -5.19479039e-01, -8.85986297e-01],\n",
              "       [ 3.32405330e-01, -3.50858412e-01, -1.45805753e-02,\n",
              "         8.22941695e-02, -5.86938102e-01, -1.25690798e+00,\n",
              "        -2.01201017e-01, -5.45582332e-01],\n",
              "       [-1.14566470e+00, -4.83052067e-01,  3.13067475e-01,\n",
              "        -4.63437799e-01, -5.86938102e-01,  1.92237411e+00,\n",
              "         6.44509157e-01, -8.00885306e-01],\n",
              "       [-8.50050695e-01,  8.38884481e-01,  1.78748370e+00,\n",
              "         1.50119729e+00, -5.86938102e-01,  2.51663245e+00,\n",
              "        -3.49730760e-01, -5.45582332e-01],\n",
              "       [-1.14566470e+00,  2.22691786e+00,  2.60660383e+00,\n",
              "        -2.45145012e-01, -5.86938102e-01,  2.88163692e-01,\n",
              "        -1.16326877e-01,  6.45831546e-01],\n",
              "       [ 1.21924735e+00, -1.01182669e+00,  8.04539552e-01,\n",
              "        -4.63437799e-01, -5.86938102e-01,  4.81297651e-01,\n",
              "         3.44418450e-01,  2.94355831e+00],\n",
              "       [ 9.23633342e-01,  1.11819379e-01,  1.13218760e+00,\n",
              "        -4.63437799e-01, -5.86938102e-01,  7.78426818e-01,\n",
              "        -5.13416600e-01,  1.49684146e+00],\n",
              "       [-1.14566470e+00,  5.08400344e-01, -3.42228626e-01,\n",
              "        -1.44575534e+00,  4.95742687e-01, -1.12319985e+00,\n",
              "        -1.00144290e+00, -1.05618828e+00],\n",
              "       [-5.54436689e-01,  1.26741384e-02,  3.13067475e-01,\n",
              "        -2.68522242e-02,  1.01703344e+00,  5.25867026e-01,\n",
              "         2.91716470e-02, -6.30683323e-01],\n",
              "       [ 9.23633342e-01, -4.83052067e-01,  1.49243450e-01,\n",
              "        -4.63437799e-01, -5.86938102e-01, -4.10089851e-01,\n",
              "        -6.64977563e-01, -2.05178367e-01],\n",
              "       [-8.50050695e-01, -1.27621400e+00, -3.42228626e-01,\n",
              "        -4.63437799e-01, -5.86938102e-01, -2.10372610e+00,\n",
              "         4.56573563e-01, -5.45582332e-01],\n",
              "       [-1.14566470e+00, -8.79633031e-01,  6.40715526e-01,\n",
              "         1.93778286e+00, -6.56473518e-02,  6.15005776e-01,\n",
              "        -4.34604900e-01, -6.30683323e-01],\n",
              "       [ 1.51486135e+00,  2.06167579e+00,  1.05027559e+00,\n",
              "        -1.33660895e+00, -5.86938102e-01, -3.50664017e-01,\n",
              "         2.24196171e+00,  1.32663948e+00],\n",
              "       [-8.50050695e-01, -4.83052067e-01, -3.42228626e-01,\n",
              "        -9.00023374e-01, -5.86938102e-01, -8.70640060e-01,\n",
              "        -9.34756077e-01, -8.00885306e-01],\n",
              "       [ 1.21924735e+00,  9.71078136e-01,  4.76891501e-01,\n",
              "         5.18879744e-01,  1.11728166e+00,  1.56581911e+00,\n",
              "         1.29201883e-01,  2.20326590e-01],\n",
              "       [-1.14566470e+00, -5.16100481e-01, -1.78404601e-01,\n",
              "         1.06461171e+00,  4.95742687e-01,  1.04584307e+00,\n",
              "         3.98980397e-01, -9.71087289e-01],\n",
              "       [-2.58822683e-01, -3.50858412e-01, -8.33700702e-01,\n",
              "        -4.63437799e-01, -5.86938102e-01, -1.45004194e+00,\n",
              "        -1.00447412e+00, -1.05618828e+00],\n",
              "       [-5.54436689e-01, -6.81342549e-01, -1.16134875e+00,\n",
              "        -1.11831616e+00,  1.66864688e+00, -1.21233860e+00,\n",
              "         4.26261370e-01, -8.85986297e-01],\n",
              "       [-5.54436689e-01, -4.50003653e-01, -8.33700702e-01,\n",
              "        -1.88234092e+00,  1.79896956e+00, -1.04891756e+00,\n",
              "         1.23559691e+00, -9.71087289e-01],\n",
              "       [-8.50050695e-01, -1.67279496e+00,  4.76891501e-01,\n",
              "         2.48351483e+00, -5.36813992e-01,  1.24742650e-01,\n",
              "        -1.55732728e-01, -1.05618828e+00],\n",
              "       [-1.14566470e+00,  4.09255103e-01, -1.16134875e+00,\n",
              "        -7.90876980e-01,  1.92929225e+00, -8.85496518e-01,\n",
              "        -3.67918076e-01, -1.05618828e+00],\n",
              "       [-8.50050695e-01, -1.07792351e+00,  3.13067475e-01,\n",
              "         7.37172532e-01, -6.17012569e-01, -1.72386517e-01,\n",
              "        -8.52913157e-01, -8.85986297e-01],\n",
              "       [ 3.67913235e-02, -9.12681445e-01, -5.87964664e-01,\n",
              "        -5.72584193e-01, -5.86938102e-01, -1.13805631e+00,\n",
              "        -9.86286805e-01, -1.05618828e+00],\n",
              "       [-5.54436689e-01,  6.73642412e-01,  8.04539552e-01,\n",
              "        -1.00916977e+00, -3.46342371e-01, -1.13805631e+00,\n",
              "         8.71850601e-01, -1.05618828e+00],\n",
              "       [ 6.28019336e-01,  7.87709658e-02, -1.45805753e-02,\n",
              "        -4.63437799e-01, -5.86938102e-01, -7.07219018e-01,\n",
              "        -3.19418568e-01, -3.75380349e-01],\n",
              "       [-1.14566470e+00, -1.60669813e+00, -1.45805753e-02,\n",
              "        -4.63437799e-01, -5.86938102e-01, -1.67288881e+00,\n",
              "        -3.98230269e-01, -7.15784315e-01],\n",
              "       [ 3.32405330e-01, -5.49148894e-01, -1.45805753e-02,\n",
              "         1.91440563e-01,  2.27013620e+00,  6.74431610e-01,\n",
              "        -9.52943393e-01, -4.60481341e-01],\n",
              "       [ 9.23633342e-01,  1.23546545e+00, -6.69876677e-01,\n",
              "        -4.63437799e-01, -5.86938102e-01, -7.36931935e-01,\n",
              "        -5.43728793e-01,  5.60730555e-01],\n",
              "       [-2.58822683e-01,  1.69814324e+00,  9.68363577e-01,\n",
              "         6.28026138e-01,  3.76383470e+00,  4.96154110e-01,\n",
              "        -6.52852686e-01, -9.71087289e-01],\n",
              "       [ 1.81047536e+00, -6.81342549e-01,  3.13067475e-01,\n",
              "         2.26522204e+00,  8.16536995e-01,  8.01732753e-02,\n",
              "        -9.16568762e-01,  2.51805335e+00],\n",
              "       [-8.50050695e-01, -4.83052067e-01, -1.45805753e-02,\n",
              "         3.00586957e-01, -1.65895573e-01, -2.31812350e-01,\n",
              "         1.05372376e+00, -8.00885306e-01],\n",
              "       [-1.14566470e+00,  1.92948213e+00,  4.76891501e-01,\n",
              "         3.90241795e+00, -8.47583478e-01,  4.01713474e+00,\n",
              "         5.90064335e+00, -7.15784315e-01],\n",
              "       [-1.14566470e+00, -2.13547275e+00, -9.97524728e-01,\n",
              "        -4.63437799e-01, -5.86938102e-01, -1.58375006e+00,\n",
              "         7.93038900e-01,  2.85845732e+00],\n",
              "       [ 3.67913235e-02, -1.19519516e-01, -1.78404601e-01,\n",
              "        -4.63437799e-01, -5.86938102e-01,  1.80352245e+00,\n",
              "         1.30531496e+00, -6.30683323e-01],\n",
              "       [ 2.10608937e+00,  7.06690826e-01,  1.78748370e+00,\n",
              "         6.28026138e-01,  4.75693043e-01,  6.29862235e-01,\n",
              "        -6.64977563e-01,  1.49684146e+00],\n",
              "       [-1.14566470e+00, -6.81342549e-01, -5.87964664e-01,\n",
              "         8.22941695e-02, -5.86938102e-01, -1.15291277e+00,\n",
              "        -7.16508291e-01, -9.71087289e-01],\n",
              "       [ 9.23633342e-01, -5.16100481e-01,  1.62365968e+00,\n",
              "        -1.00916977e+00, -5.86938102e-01, -1.43518548e+00,\n",
              "        -7.22570729e-01,  1.24153849e+00],\n",
              "       [-8.50050695e-01, -1.17706875e+00, -5.06052651e-01,\n",
              "         2.70180762e+00, -3.36317549e-01,  1.32811578e+00,\n",
              "         1.34472081e+00, -3.75380349e-01],\n",
              "       [ 2.10608937e+00, -6.15245722e-01, -3.42228626e-01,\n",
              "         1.39205089e+00, -5.86938102e-01,  2.05608224e+00,\n",
              "        -1.05297363e+00,  7.30932537e-01],\n",
              "       [ 2.10608937e+00, -5.34226890e-02,  6.40715526e-01,\n",
              "         1.06461171e+00,  5.15792331e-01,  1.47668036e+00,\n",
              "         9.44599863e-01,  1.24153849e+00],\n",
              "       [-8.50050695e-01,  3.10109862e-01, -6.69876677e-01,\n",
              "        -1.44575534e+00,  3.17237019e+00, -1.28662089e+00,\n",
              "        -2.55762963e-01, -1.05618828e+00],\n",
              "       [-1.14566470e+00, -7.47439377e-01, -1.45805753e-02,\n",
              "        -4.63437799e-01, -5.86938102e-01, -1.09348694e+00,\n",
              "        -6.68008783e-01, -9.71087289e-01],\n",
              "       [-8.50050695e-01,  2.35911151e+00, -1.81664485e+00,\n",
              "        -1.22746255e+00,  2.77137731e+00, -9.59778810e-01,\n",
              "         5.50541360e-01, -8.00885306e-01],\n",
              "       [ 3.67913235e-02,  4.57225521e-02, -8.33700702e-01,\n",
              "        -4.63437799e-01, -5.86938102e-01, -5.35348500e-02,\n",
              "        -7.49851703e-01,  1.35225598e-01],\n",
              "       [ 6.28019336e-01,  1.07022338e+00,  4.76891501e-01,\n",
              "         1.50119729e+00,  4.15544110e-01,  2.04122578e+00,\n",
              "         2.95918942e-01, -5.45582332e-01],\n",
              "       [-2.58822683e-01,  2.35911151e+00, -1.78404601e-01,\n",
              "         4.09733351e-01, -5.86938102e-01,  3.77302443e-01,\n",
              "        -7.04383414e-01, -7.15784315e-01],\n",
              "       [-2.58822683e-01,  9.38029722e-01,  3.13067475e-01,\n",
              "        -4.63437799e-01, -5.86938102e-01, -1.68774527e+00,\n",
              "        -8.07444869e-01,  3.05427581e-01],\n",
              "       [ 3.32405330e-01,  8.38884481e-01,  2.31155463e-01,\n",
              "        -4.63437799e-01, -5.86938102e-01, -3.65520476e-01,\n",
              "        -1.19358097e-01, -4.60481341e-01],\n",
              "       [ 3.67913235e-02,  8.05836067e-01,  1.62365968e+00,\n",
              "        -4.63437799e-01, -5.86938102e-01, -1.72386517e-01,\n",
              "         1.98919926e-01,  2.34785137e+00],\n",
              "       [ 1.51486135e+00,  6.07545585e-01,  1.78748370e+00,\n",
              "        -4.63437799e-01, -5.86938102e-01,  5.04603586e-02,\n",
              "         7.90007681e-01,  9.86235511e-01],\n",
              "       [-5.54436689e-01, -5.34226890e-02,  3.13067475e-01,\n",
              "         1.06461171e+00,  6.46753358e-02,  1.09041244e+00,\n",
              "        -7.83195115e-01, -3.75380349e-01],\n",
              "       [ 3.32405330e-01,  7.87709658e-02,  1.49243450e-01,\n",
              "        -4.63437799e-01, -5.86938102e-01,  2.43594317e-01,\n",
              "        -7.68039018e-01,  3.90528572e-01],\n",
              "       [ 9.23633342e-01,  2.39215992e+00, -3.42228626e-01,\n",
              "         8.22941695e-02, -5.86938102e-01,  5.25867026e-01,\n",
              "         8.23351093e-01,  6.45831546e-01],\n",
              "       [ 1.81047536e+00,  1.33461069e+00,  9.68363577e-01,\n",
              "        -4.63437799e-01, -5.86938102e-01, -6.92362560e-01,\n",
              "        -8.83225350e-01,  1.75214443e+00],\n",
              "       [ 3.67913235e-02, -7.47439377e-01, -1.45805753e-02,\n",
              "        -1.11831616e+00, -5.86938102e-01, -1.00434819e+00,\n",
              "        -5.43728793e-01, -4.60481341e-01],\n",
              "       [ 9.23633342e-01, -2.51713171e-01, -5.06052651e-01,\n",
              "        -4.63437799e-01, -5.86938102e-01,  6.53168170e-02,\n",
              "        -6.52852686e-01,  7.30932537e-01],\n",
              "       [-5.54436689e-01, -7.14390963e-01, -6.69876677e-01,\n",
              "        -4.63437799e-01, -5.86938102e-01, -3.95233392e-01,\n",
              "        -3.19418568e-01, -1.05618828e+00],\n",
              "       [-2.58822683e-01, -1.85616344e-01, -1.45805753e-02,\n",
              "        -4.63437799e-01, -5.86938102e-01, -1.31633381e+00,\n",
              "        -8.68069254e-01, -8.85986297e-01],\n",
              "       [-8.50050695e-01,  2.10964621e-01,  2.11513175e+00,\n",
              "         1.50119729e+00, -4.06491304e-01, -5.35348500e-02,\n",
              "         2.56933339e+00, -3.49763843e-02],\n",
              "       [-2.58822683e-01, -1.44145606e+00, -1.78404601e-01,\n",
              "        -4.63437799e-01, -5.86938102e-01,  2.07474419e-02,\n",
              "        -6.16478055e-01,  4.75629564e-01],\n",
              "       [ 3.67913235e-02,  7.39739240e-01,  8.04539552e-01,\n",
              "         5.18879744e-01, -5.86938102e-01,  9.12134944e-01,\n",
              "         2.44388214e-01,  3.05427581e-01],\n",
              "       [-1.14566470e+00,  1.43375593e+00,  1.45983565e+00,\n",
              "         6.28026138e-01,  5.82894806e+00,  2.96232620e+00,\n",
              "        -1.40576632e-01, -8.85986297e-01],\n",
              "       [-2.58822683e-01, -1.37535924e+00, -1.45805753e-02,\n",
              "        -4.63437799e-01, -5.86938102e-01, -5.35348500e-02,\n",
              "        -9.07475104e-01, -9.71087289e-01],\n",
              "       [-2.58822683e-01,  1.20241703e+00, -1.78404601e-01,\n",
              "         3.00586957e-01,  2.30021067e+00,  4.66441193e-01,\n",
              "        -3.92167830e-01,  1.35225598e-01],\n",
              "       [ 1.21924735e+00, -5.49148894e-01,  2.27895578e+00,\n",
              "         9.55465319e-01, -5.86938102e-01,  1.62524495e+00,\n",
              "        -7.10445852e-01,  9.86235511e-01],\n",
              "       [-5.54436689e-01,  8.05836067e-01,  3.13067475e-01,\n",
              "         8.46318925e-01,  9.56884505e-01,  8.67565569e-01,\n",
              "        -4.37636119e-01, -3.75380349e-01],\n",
              "       [-8.50050695e-01,  1.03717496e+00,  8.04539552e-01,\n",
              "         1.61034368e+00,  3.87410774e+00,  1.22412057e+00,\n",
              "         6.47540376e-01, -8.85986297e-01],\n",
              "       [-2.58822683e-01, -1.44145606e+00, -1.81664485e+00,\n",
              "         5.18879744e-01, -1.05746640e-01, -2.02099434e-01,\n",
              "        -6.83164879e-01, -6.30683323e-01],\n",
              "       [ 3.67913235e-02, -4.16955240e-01, -6.69876677e-01,\n",
              "         1.82863647e+00,  4.52640304e-03,  3.62445984e-01,\n",
              "         1.30834617e+00, -6.30683323e-01],\n",
              "       [-1.14566470e+00,  3.10109862e-01, -1.45805753e-02,\n",
              "        -4.63437799e-01, -5.86938102e-01,  1.61038849e+00,\n",
              "        -6.16478055e-01, -6.30683323e-01],\n",
              "       [-8.50050695e-01, -9.45729859e-01, -1.78404601e-01,\n",
              "         4.09733351e-01, -5.86938102e-01, -2.91238184e-01,\n",
              "        -4.80073189e-01, -8.85986297e-01],\n",
              "       [ 6.28019336e-01, -6.48294136e-01,  1.45983565e+00,\n",
              "         1.28290450e+00, -5.86938102e-01,  4.96154110e-01,\n",
              "         6.08134526e-01, -4.60481341e-01],\n",
              "       [-8.50050695e-01, -1.24316558e+00, -6.69876677e-01,\n",
              "        -4.63437799e-01,  1.64923557e-01,  6.74431610e-01,\n",
              "        -7.20298412e-03, -4.60481341e-01],\n",
              "       [-5.54436689e-01, -1.57364972e+00, -1.45805753e-02,\n",
              "        -4.63437799e-01, -5.86938102e-01, -5.35348500e-02,\n",
              "        -1.12572289e+00, -9.71087289e-01]])"
            ]
          },
          "execution_count": 23,
          "metadata": {},
          "output_type": "execute_result"
        }
      ],
      "source": [
        "X_test = ss.transform(X_test)\n",
        "X_test"
      ]
    },
    {
      "cell_type": "code",
      "execution_count": 24,
      "metadata": {
        "colab": {
          "base_uri": "https://localhost:8080/"
        },
        "id": "iiNRsUuTsHYW",
        "outputId": "877a7f6c-af11-4575-d482-d91c98e1079b"
      },
      "outputs": [
        {
          "data": {
            "text/plain": [
              "array([0, 1, 1, 1, 0, 0, 1, 1, 0, 0, 0, 0, 1, 0, 0, 1, 0, 1, 0, 0, 0, 0,\n",
              "       0, 0, 0, 0, 0, 1, 0, 0, 0, 1, 0, 0, 1, 0, 0, 1, 0, 0, 0, 0, 1, 0,\n",
              "       0, 0, 1, 0, 1, 0, 0, 1, 1, 0, 1, 1, 0, 0, 1, 0, 0, 1, 0, 1, 0, 0,\n",
              "       1, 1, 0, 0, 1, 1, 1, 0, 0, 0, 0])"
            ]
          },
          "execution_count": 24,
          "metadata": {},
          "output_type": "execute_result"
        }
      ],
      "source": [
        "y_test_e = y_test.to_numpy()\n",
        "y_test_e"
      ]
    },
    {
      "cell_type": "code",
      "execution_count": 25,
      "metadata": {
        "colab": {
          "base_uri": "https://localhost:8080/"
        },
        "id": "9NCVu1uwsYgb",
        "outputId": "07a59d69-649f-4a9c-b22f-2c4fba7a9499"
      },
      "outputs": [
        {
          "name": "stdout",
          "output_type": "stream",
          "text": [
            "(77, 8) (77,)\n",
            "<class 'numpy.ndarray'> <class 'numpy.ndarray'>\n"
          ]
        }
      ],
      "source": [
        "print(X_test.shape, y_test_e.shape)\n",
        "print(type(X_test), type(y_test_e))"
      ]
    },
    {
      "cell_type": "code",
      "execution_count": 26,
      "metadata": {
        "colab": {
          "base_uri": "https://localhost:8080/"
        },
        "id": "vkiw4Eqvsohi",
        "outputId": "0e31d744-5f93-42fb-b3d7-ddbf16874861"
      },
      "outputs": [
        {
          "data": {
            "text/plain": [
              "array([0, 1, 1, 0, 0, 0, 1, 1, 0, 0, 0, 0, 0, 0, 0, 1, 0, 1, 0, 0, 0, 0,\n",
              "       0, 0, 0, 0, 0, 0, 0, 0, 1, 0, 0, 0, 1, 0, 1, 1, 0, 0, 0, 0, 1, 0,\n",
              "       0, 1, 0, 1, 1, 0, 1, 1, 1, 0, 0, 1, 1, 0, 0, 0, 0, 1, 0, 1, 1, 0,\n",
              "       1, 0, 0, 0, 0, 0, 0, 0, 0, 0, 0])"
            ]
          },
          "execution_count": 26,
          "metadata": {},
          "output_type": "execute_result"
        }
      ],
      "source": [
        "y_pred = clf.predict(X_test)\n",
        "y_pred"
      ]
    },
    {
      "cell_type": "code",
      "execution_count": 27,
      "metadata": {
        "colab": {
          "base_uri": "https://localhost:8080/"
        },
        "id": "LUA-xYOysuAV",
        "outputId": "cbb79326-df12-4ac9-ff6a-d3469df55714"
      },
      "outputs": [
        {
          "name": "stdout",
          "output_type": "stream",
          "text": [
            "accuracy:  0.77\n",
            "recall_score:  0.59\n",
            "precision_score:  0.7\n",
            "f1_score:  0.64\n"
          ]
        }
      ],
      "source": [
        "from sklearn.metrics import accuracy_score, recall_score, precision_score, f1_score\n",
        "\n",
        "print('accuracy: ',accuracy_score(y_test_e, y_pred).round(2))\n",
        "print('recall_score: ', recall_score(y_test_e, y_pred).round(2))\n",
        "print('precision_score: ',precision_score(y_test_e, y_pred).round(2))\n",
        "print('f1_score: ', f1_score(y_test_e, y_pred).round(2))\n"
      ]
    },
    {
      "cell_type": "code",
      "execution_count": 28,
      "metadata": {
        "colab": {
          "base_uri": "https://localhost:8080/",
          "height": 472
        },
        "id": "k8as9YgUtRjK",
        "outputId": "b409e12a-a7df-4b87-fac5-678bf54cbe4a"
      },
      "outputs": [
        {
          "data": {
            "image/png": "[encoded data removed]",
            "text/plain": [
              "<Figure size 640x480 with 1 Axes>"
            ]
          },
          "metadata": {},
          "output_type": "display_data"
        }
      ],
      "source": [
        "from sklearn.metrics import confusion_matrix\n",
        "\n",
        "cfm = confusion_matrix(y_test_e, y_pred)\n",
        "s = sns.heatmap(cfm, annot=True, fmt='d', cmap='Blues', cbar=False)\n",
        "s.set(xlabel='Predicted', ylabel='Actual')\n",
        "plt.title('Confusion Matrix')\n",
        "plt.show()"
      ]
    },
    {
      "cell_type": "markdown",
      "metadata": {
        "id": "vpQxvgYzs_EK"
      },
      "source": [
        "# 모델 튜닝"
      ]
    },
    {
      "cell_type": "code",
      "execution_count": 32,
      "metadata": {
        "colab": {
          "background_save": true,
          "base_uri": "https://localhost:8080/"
        },
        "id": "WwIQIsMGuCJ8",
        "outputId": "fd1d8963-f438-4162-ce99-2d989dfdb971"
      },
      "outputs": [
        {
          "name": "stdout",
          "output_type": "stream",
          "text": [
            "Fitting 5 folds for each of 36 candidates, totalling 180 fits\n",
            "[CV] END ...............C=0.001, gamma=0.001, kernel=sigmoid; total time=   0.0s\n",
            "[CV] END ...............C=0.001, gamma=0.001, kernel=sigmoid; total time=   0.0s\n",
            "[CV] END ...............C=0.001, gamma=0.001, kernel=sigmoid; total time=   0.0s\n",
            "[CV] END ...............C=0.001, gamma=0.001, kernel=sigmoid; total time=   0.0s\n",
            "[CV] END ................C=0.001, gamma=0.01, kernel=sigmoid; total time=   0.0s\n",
            "[CV] END ...............C=0.001, gamma=0.001, kernel=sigmoid; total time=   0.0s\n",
            "[CV] END ................C=0.001, gamma=0.01, kernel=sigmoid; total time=   0.0s\n",
            "[CV] END .................C=0.001, gamma=0.1, kernel=sigmoid; total time=   0.0s\n",
            "[CV] END .................C=0.001, gamma=0.1, kernel=sigmoid; total time=   0.0s\n",
            "[CV] END .................C=0.001, gamma=0.1, kernel=sigmoid; total time=   0.0s\n",
            "[CV] END ...................C=0.001, gamma=1, kernel=sigmoid; total time=   0.0s\n",
            "[CV] END ...................C=0.001, gamma=1, kernel=sigmoid; total time=   0.0s\n",
            "[CV] END ................C=0.001, gamma=0.01, kernel=sigmoid; total time=   0.0s\n",
            "[CV] END ................C=0.001, gamma=0.01, kernel=sigmoid; total time=   0.0s\n",
            "[CV] END ...................C=0.001, gamma=1, kernel=sigmoid; total time=   0.0s\n",
            "[CV] END ...................C=0.001, gamma=1, kernel=sigmoid; total time=   0.0s\n",
            "[CV] END ..................C=0.001, gamma=10, kernel=sigmoid; total time=   0.0s\n",
            "[CV] END ................C=0.001, gamma=0.01, kernel=sigmoid; total time=   0.0s\n",
            "[CV] END ..................C=0.001, gamma=10, kernel=sigmoid; total time=   0.0s\n",
            "[CV] END ...................C=0.001, gamma=1, kernel=sigmoid; total time=   0.0s\n",
            "[CV] END ..................C=0.001, gamma=10, kernel=sigmoid; total time=   0.0s\n",
            "[CV] END .................C=0.001, gamma=0.1, kernel=sigmoid; total time=   0.0s\n",
            "[CV] END .................C=0.001, gamma=100, kernel=sigmoid; total time=   0.0s\n",
            "[CV] END ..................C=0.001, gamma=10, kernel=sigmoid; total time=   0.0s\n",
            "[CV] END ..................C=0.001, gamma=10, kernel=sigmoid; total time=   0.0s\n",
            "[CV] END .................C=0.001, gamma=100, kernel=sigmoid; total time=   0.0s\n",
            "[CV] END .................C=0.001, gamma=100, kernel=sigmoid; total time=   0.0s\n",
            "[CV] END .................C=0.001, gamma=100, kernel=sigmoid; total time=   0.0s\n",
            "[CV] END .................C=0.001, gamma=100, kernel=sigmoid; total time=   0.0s\n",
            "[CV] END ................C=0.01, gamma=0.001, kernel=sigmoid; total time=   0.0s\n",
            "[CV] END ................C=0.01, gamma=0.001, kernel=sigmoid; total time=   0.0s\n",
            "[CV] END .................C=0.001, gamma=0.1, kernel=sigmoid; total time=   0.0s\n",
            "[CV] END ................C=0.01, gamma=0.001, kernel=sigmoid; total time=   0.0s\n",
            "[CV] END ................C=0.01, gamma=0.001, kernel=sigmoid; total time=   0.0s\n",
            "[CV] END .................C=0.01, gamma=0.01, kernel=sigmoid; total time=   0.0s[CV] END ................C=0.01, gamma=0.001, kernel=sigmoid; total time=   0.0s\n",
            "\n",
            "[CV] END .................C=0.01, gamma=0.01, kernel=sigmoid; total time=   0.0s\n",
            "[CV] END .................C=0.01, gamma=0.01, kernel=sigmoid; total time=   0.0s\n",
            "[CV] END .................C=0.01, gamma=0.01, kernel=sigmoid; total time=   0.0s\n",
            "[CV] END .................C=0.01, gamma=0.01, kernel=sigmoid; total time=   0.0s\n",
            "[CV] END ..................C=0.01, gamma=0.1, kernel=sigmoid; total time=   0.0s\n",
            "[CV] END ..................C=0.01, gamma=0.1, kernel=sigmoid; total time=   0.0s\n",
            "[CV] END ..................C=0.01, gamma=0.1, kernel=sigmoid; total time=   0.0s\n",
            "[CV] END ..................C=0.01, gamma=0.1, kernel=sigmoid; total time=   0.0s\n",
            "[CV] END ..................C=0.01, gamma=0.1, kernel=sigmoid; total time=   0.0s\n",
            "[CV] END ....................C=0.01, gamma=1, kernel=sigmoid; total time=   0.0s\n",
            "[CV] END ....................C=0.01, gamma=1, kernel=sigmoid; total time=   0.0s\n",
            "[CV] END ....................C=0.01, gamma=1, kernel=sigmoid; total time=   0.0s\n",
            "[CV] END ....................C=0.01, gamma=1, kernel=sigmoid; total time=   0.0s\n",
            "[CV] END ....................C=0.01, gamma=1, kernel=sigmoid; total time=   0.0s\n",
            "[CV] END ...................C=0.01, gamma=10, kernel=sigmoid; total time=   0.0s\n",
            "[CV] END ...................C=0.01, gamma=10, kernel=sigmoid; total time=   0.0s\n",
            "[CV] END ..................C=0.01, gamma=100, kernel=sigmoid; total time=   0.0s\n",
            "[CV] END ...................C=0.01, gamma=10, kernel=sigmoid; total time=   0.0s\n",
            "[CV] END ..................C=0.01, gamma=100, kernel=sigmoid; total time=   0.0s\n",
            "[CV] END ...................C=0.01, gamma=10, kernel=sigmoid; total time=   0.0s\n",
            "[CV] END ...................C=0.01, gamma=10, kernel=sigmoid; total time=   0.0s\n",
            "[CV] END ..................C=0.01, gamma=100, kernel=sigmoid; total time=   0.0s\n",
            "[CV] END ..................C=0.01, gamma=100, kernel=sigmoid; total time=   0.0s\n",
            "[CV] END ..................C=0.01, gamma=100, kernel=sigmoid; total time=   0.0s\n",
            "[CV] END .................C=0.1, gamma=0.001, kernel=sigmoid; total time=   0.0s\n",
            "[CV] END .................C=0.1, gamma=0.001, kernel=sigmoid; total time=   0.0s\n",
            "[CV] END .................C=0.1, gamma=0.001, kernel=sigmoid; total time=   0.0s\n",
            "[CV] END .................C=0.1, gamma=0.001, kernel=sigmoid; total time=   0.0s\n",
            "[CV] END .................C=0.1, gamma=0.001, kernel=sigmoid; total time=   0.0s\n",
            "[CV] END ..................C=0.1, gamma=0.01, kernel=sigmoid; total time=   0.0s\n",
            "[CV] END ..................C=0.1, gamma=0.01, kernel=sigmoid; total time=   0.0s\n",
            "[CV] END ..................C=0.1, gamma=0.01, kernel=sigmoid; total time=   0.0s\n",
            "[CV] END ..................C=0.1, gamma=0.01, kernel=sigmoid; total time=   0.0s\n",
            "[CV] END ..................C=0.1, gamma=0.01, kernel=sigmoid; total time=   0.0s\n",
            "[CV] END ...................C=0.1, gamma=0.1, kernel=sigmoid; total time=   0.0s\n",
            "[CV] END ...................C=0.1, gamma=0.1, kernel=sigmoid; total time=   0.0s\n",
            "[CV] END ...................C=0.1, gamma=0.1, kernel=sigmoid; total time=   0.0s\n",
            "[CV] END ...................C=0.1, gamma=0.1, kernel=sigmoid; total time=   0.0s\n",
            "[CV] END ...................C=0.1, gamma=100, kernel=sigmoid; total time=   0.0s\n",
            "[CV] END ...................C=0.1, gamma=100, kernel=sigmoid; total time=   0.0s\n",
            "[CV] END .....................C=0.1, gamma=1, kernel=sigmoid; total time=   0.0s\n",
            "[CV] END ....................C=0.1, gamma=10, kernel=sigmoid; total time=   0.0s\n",
            "[CV] END .....................C=0.1, gamma=1, kernel=sigmoid; total time=   0.0s\n",
            "[CV] END ....................C=0.1, gamma=10, kernel=sigmoid; total time=   0.0s\n",
            "[CV] END ....................C=0.1, gamma=10, kernel=sigmoid; total time=   0.0s\n",
            "[CV] END ...................C=1, gamma=0.001, kernel=sigmoid; total time=   0.0s\n",
            "[CV] END ...................C=1, gamma=0.001, kernel=sigmoid; total time=   0.0s\n",
            "[CV] END ...................C=1, gamma=0.001, kernel=sigmoid; total time=   0.0s\n",
            "[CV] END ...................C=0.1, gamma=100, kernel=sigmoid; total time=   0.0s\n",
            "[CV] END ...................C=0.1, gamma=100, kernel=sigmoid; total time=   0.0s\n",
            "[CV] END ...................C=0.1, gamma=0.1, kernel=sigmoid; total time=   0.0s\n",
            "[CV] END .....................C=0.1, gamma=1, kernel=sigmoid; total time=   0.0s\n",
            "[CV] END ...................C=0.1, gamma=100, kernel=sigmoid; total time=   0.0s\n",
            "[CV] END .....................C=0.1, gamma=1, kernel=sigmoid; total time=   0.0s\n",
            "[CV] END ....................C=0.1, gamma=10, kernel=sigmoid; total time=   0.0s\n",
            "[CV] END .....................C=0.1, gamma=1, kernel=sigmoid; total time=   0.0s\n",
            "[CV] END ....................C=0.1, gamma=10, kernel=sigmoid; total time=   0.0s\n",
            "[CV] END ...................C=1, gamma=0.001, kernel=sigmoid; total time=   0.0s\n",
            "[CV] END ....................C=1, gamma=0.01, kernel=sigmoid; total time=   0.0s\n",
            "[CV] END ...................C=1, gamma=0.001, kernel=sigmoid; total time=   0.0s\n",
            "[CV] END ....................C=1, gamma=0.01, kernel=sigmoid; total time=   0.0s\n",
            "[CV] END ....................C=1, gamma=0.01, kernel=sigmoid; total time=   0.0s\n",
            "[CV] END .....................C=1, gamma=0.1, kernel=sigmoid; total time=   0.0s\n",
            "[CV] END .....................C=1, gamma=100, kernel=sigmoid; total time=   0.0s\n",
            "[CV] END .....................C=1, gamma=0.1, kernel=sigmoid; total time=   0.0s\n",
            "[CV] END .....................C=1, gamma=0.1, kernel=sigmoid; total time=   0.0s\n",
            "[CV] END ......................C=1, gamma=10, kernel=sigmoid; total time=   0.0s\n",
            "[CV] END .......................C=1, gamma=1, kernel=sigmoid; total time=   0.0s\n",
            "[CV] END .......................C=1, gamma=1, kernel=sigmoid; total time=   0.0s\n",
            "[CV] END .....................C=1, gamma=100, kernel=sigmoid; total time=   0.0s\n",
            "[CV] END ......................C=1, gamma=10, kernel=sigmoid; total time=   0.0s\n",
            "[CV] END ......................C=1, gamma=10, kernel=sigmoid; total time=   0.0s\n",
            "[CV] END ....................C=1, gamma=0.01, kernel=sigmoid; total time=   0.0s\n",
            "[CV] END ....................C=1, gamma=0.01, kernel=sigmoid; total time=   0.0s\n",
            "[CV] END .....................C=1, gamma=100, kernel=sigmoid; total time=   0.0s\n",
            "[CV] END .....................C=1, gamma=100, kernel=sigmoid; total time=   0.0s\n",
            "[CV] END .....................C=1, gamma=100, kernel=sigmoid; total time=   0.0s\n",
            "[CV] END .....................C=1, gamma=0.1, kernel=sigmoid; total time=   0.0s\n",
            "[CV] END .......................C=1, gamma=1, kernel=sigmoid; total time=   0.0s\n",
            "[CV] END .....................C=1, gamma=0.1, kernel=sigmoid; total time=   0.0s\n",
            "[CV] END .......................C=1, gamma=1, kernel=sigmoid; total time=   0.0s\n",
            "[CV] END ......................C=1, gamma=10, kernel=sigmoid; total time=   0.0s\n",
            "[CV] END ......................C=1, gamma=10, kernel=sigmoid; total time=   0.0s\n",
            "[CV] END .......................C=1, gamma=1, kernel=sigmoid; total time=   0.0s\n",
            "[CV] END ..................C=10, gamma=0.001, kernel=sigmoid; total time=   0.0s\n",
            "[CV] END ....................C=10, gamma=0.1, kernel=sigmoid; total time=   0.0s\n",
            "[CV] END ..................C=10, gamma=0.001, kernel=sigmoid; total time=   0.0s\n",
            "[CV] END ...................C=10, gamma=0.01, kernel=sigmoid; total time=   0.0s\n",
            "[CV] END ....................C=10, gamma=100, kernel=sigmoid; total time=   0.0s\n",
            "[CV] END .....................C=10, gamma=10, kernel=sigmoid; total time=   0.0s\n",
            "[CV] END .....................C=10, gamma=10, kernel=sigmoid; total time=   0.0s\n",
            "[CV] END ...................C=100, gamma=0.1, kernel=sigmoid; total time=   0.0s\n",
            "[CV] END ......................C=10, gamma=1, kernel=sigmoid; total time=   0.0s\n",
            "[CV] END .................C=100, gamma=0.001, kernel=sigmoid; total time=   0.0s\n",
            "[CV] END ...................C=100, gamma=0.1, kernel=sigmoid; total time=   0.0s\n",
            "[CV] END ..................C=100, gamma=0.01, kernel=sigmoid; total time=   0.0s\n",
            "[CV] END ....................C=10, gamma=0.1, kernel=sigmoid; total time=   0.0s\n",
            "[CV] END ...................C=10, gamma=0.01, kernel=sigmoid; total time=   0.0s\n",
            "[CV] END ....................C=10, gamma=100, kernel=sigmoid; total time=   0.0s\n",
            "[CV] END ..................C=10, gamma=0.001, kernel=sigmoid; total time=   0.0s\n",
            "[CV] END ...................C=100, gamma=0.1, kernel=sigmoid; total time=   0.0s\n",
            "[CV] END ....................C=10, gamma=100, kernel=sigmoid; total time=   0.0s\n",
            "[CV] END ...................C=10, gamma=0.01, kernel=sigmoid; total time=   0.0s\n",
            "[CV] END .....................C=10, gamma=10, kernel=sigmoid; total time=   0.0s\n",
            "[CV] END .................C=100, gamma=0.001, kernel=sigmoid; total time=   0.0s\n",
            "[CV] END .....................C=100, gamma=1, kernel=sigmoid; total time=   0.0s\n",
            "[CV] END ......................C=10, gamma=1, kernel=sigmoid; total time=   0.0s\n",
            "[CV] END ....................C=10, gamma=0.1, kernel=sigmoid; total time=   0.0s\n",
            "[CV] END ..................C=100, gamma=0.01, kernel=sigmoid; total time=   0.0s\n",
            "[CV] END ...................C=100, gamma=0.1, kernel=sigmoid; total time=   0.0s\n",
            "[CV] END ....................C=10, gamma=100, kernel=sigmoid; total time=   0.0s\n",
            "[CV] END .................C=100, gamma=0.001, kernel=sigmoid; total time=   0.0s\n",
            "[CV] END ....................C=10, gamma=0.1, kernel=sigmoid; total time=   0.0s\n",
            "[CV] END ..................C=10, gamma=0.001, kernel=sigmoid; total time=   0.0s\n",
            "[CV] END ...................C=10, gamma=0.01, kernel=sigmoid; total time=   0.0s\n",
            "[CV] END .....................C=10, gamma=10, kernel=sigmoid; total time=   0.0s\n",
            "[CV] END .................C=100, gamma=0.001, kernel=sigmoid; total time=   0.0s\n",
            "[CV] END .....................C=100, gamma=1, kernel=sigmoid; total time=   0.0s\n",
            "[CV] END ...................C=100, gamma=0.1, kernel=sigmoid; total time=   0.0s\n",
            "[CV] END ......................C=10, gamma=1, kernel=sigmoid; total time=   0.0s\n",
            "[CV] END ....................C=10, gamma=100, kernel=sigmoid; total time=   0.0s\n",
            "[CV] END ......................C=10, gamma=1, kernel=sigmoid; total time=   0.0s\n",
            "[CV] END ....................C=10, gamma=0.1, kernel=sigmoid; total time=   0.0s\n",
            "[CV] END ..................C=100, gamma=0.01, kernel=sigmoid; total time=   0.0s\n",
            "[CV] END .................C=100, gamma=0.001, kernel=sigmoid; total time=   0.0s\n",
            "[CV] END ..................C=10, gamma=0.001, kernel=sigmoid; total time=   0.0s\n",
            "[CV] END ...................C=10, gamma=0.01, kernel=sigmoid; total time=   0.0s\n",
            "[CV] END .....................C=10, gamma=10, kernel=sigmoid; total time=   0.0s\n",
            "[CV] END .....................C=100, gamma=1, kernel=sigmoid; total time=   0.0s\n",
            "[CV] END ....................C=100, gamma=10, kernel=sigmoid; total time=   0.0s\n",
            "[CV] END .....................C=100, gamma=1, kernel=sigmoid; total time=   0.0s\n",
            "[CV] END .....................C=100, gamma=1, kernel=sigmoid; total time=   0.0s\n",
            "[CV] END ..................C=100, gamma=0.01, kernel=sigmoid; total time=   0.0s\n",
            "[CV] END ......................C=10, gamma=1, kernel=sigmoid; total time=   0.0s\n",
            "[CV] END ....................C=100, gamma=10, kernel=sigmoid; total time=   0.0s\n",
            "[CV] END ....................C=100, gamma=10, kernel=sigmoid; total time=   0.0s\n",
            "[CV] END ...................C=100, gamma=100, kernel=sigmoid; total time=   0.0s\n",
            "[CV] END ..................C=100, gamma=0.01, kernel=sigmoid; total time=   0.0s\n",
            "[CV] END ....................C=100, gamma=10, kernel=sigmoid; total time=   0.0s\n",
            "[CV] END ....................C=100, gamma=10, kernel=sigmoid; total time=   0.0s\n",
            "[CV] END ...................C=100, gamma=100, kernel=sigmoid; total time=   0.0s\n",
            "[CV] END ...................C=100, gamma=100, kernel=sigmoid; total time=   0.0s\n",
            "[CV] END ...................C=100, gamma=100, kernel=sigmoid; total time=   0.0s\n",
            "[CV] END ...................C=100, gamma=100, kernel=sigmoid; total time=   0.0s\n"
          ]
        },
        {
          "data": {
            "text/html": [
              "<style>#sk-container-id-2 {color: black;}#sk-container-id-2 pre{padding: 0;}#sk-container-id-2 div.sk-toggleable {background-color: white;}#sk-container-id-2 label.sk-toggleable__label {cursor: pointer;display: block;width: 100%;margin-bottom: 0;padding: 0.3em;box-sizing: border-box;text-align: center;}#sk-container-id-2 label.sk-toggleable__label-arrow:before {content: \"▸\";float: left;margin-right: 0.25em;color: #696969;}#sk-container-id-2 label.sk-toggleable__label-arrow:hover:before {color: black;}#sk-container-id-2 div.sk-estimator:hover label.sk-toggleable__label-arrow:before {color: black;}#sk-container-id-2 div.sk-toggleable__content {max-height: 0;max-width: 0;overflow: hidden;text-align: left;background-color: #f0f8ff;}#sk-container-id-2 div.sk-toggleable__content pre {margin: 0.2em;color: black;border-radius: 0.25em;background-color: #f0f8ff;}#sk-container-id-2 input.sk-toggleable__control:checked~div.sk-toggleable__content {max-height: 200px;max-width: 100%;overflow: auto;}#sk-container-id-2 input.sk-toggleable__control:checked~label.sk-toggleable__label-arrow:before {content: \"▾\";}#sk-container-id-2 div.sk-estimator input.sk-toggleable__control:checked~label.sk-toggleable__label {background-color: #d4ebff;}#sk-container-id-2 div.sk-label input.sk-toggleable__control:checked~label.sk-toggleable__label {background-color: #d4ebff;}#sk-container-id-2 input.sk-hidden--visually {border: 0;clip: rect(1px 1px 1px 1px);clip: rect(1px, 1px, 1px, 1px);height: 1px;margin: -1px;overflow: hidden;padding: 0;position: absolute;width: 1px;}#sk-container-id-2 div.sk-estimator {font-family: monospace;background-color: #f0f8ff;border: 1px dotted black;border-radius: 0.25em;box-sizing: border-box;margin-bottom: 0.5em;}#sk-container-id-2 div.sk-estimator:hover {background-color: #d4ebff;}#sk-container-id-2 div.sk-parallel-item::after {content: \"\";width: 100%;border-bottom: 1px solid gray;flex-grow: 1;}#sk-container-id-2 div.sk-label:hover label.sk-toggleable__label {background-color: #d4ebff;}#sk-container-id-2 div.sk-serial::before {content: \"\";position: absolute;border-left: 1px solid gray;box-sizing: border-box;top: 0;bottom: 0;left: 50%;z-index: 0;}#sk-container-id-2 div.sk-serial {display: flex;flex-direction: column;align-items: center;background-color: white;padding-right: 0.2em;padding-left: 0.2em;position: relative;}#sk-container-id-2 div.sk-item {position: relative;z-index: 1;}#sk-container-id-2 div.sk-parallel {display: flex;align-items: stretch;justify-content: center;background-color: white;position: relative;}#sk-container-id-2 div.sk-item::before, #sk-container-id-2 div.sk-parallel-item::before {content: \"\";position: absolute;border-left: 1px solid gray;box-sizing: border-box;top: 0;bottom: 0;left: 50%;z-index: -1;}#sk-container-id-2 div.sk-parallel-item {display: flex;flex-direction: column;z-index: 1;position: relative;background-color: white;}#sk-container-id-2 div.sk-parallel-item:first-child::after {align-self: flex-end;width: 50%;}#sk-container-id-2 div.sk-parallel-item:last-child::after {align-self: flex-start;width: 50%;}#sk-container-id-2 div.sk-parallel-item:only-child::after {width: 0;}#sk-container-id-2 div.sk-dashed-wrapped {border: 1px dashed gray;margin: 0 0.4em 0.5em 0.4em;box-sizing: border-box;padding-bottom: 0.4em;background-color: white;}#sk-container-id-2 div.sk-label label {font-family: monospace;font-weight: bold;display: inline-block;line-height: 1.2em;}#sk-container-id-2 div.sk-label-container {text-align: center;}#sk-container-id-2 div.sk-container {/* jupyter's `normalize.less` sets `[hidden] { display: none; }` but bootstrap.min.css set `[hidden] { display: none !important; }` so we also need the `!important` here to be able to override the default hidden behavior on the sphinx rendered scikit-learn.org. See: https://github.com/scikit-learn/scikit-learn/issues/21755 */display: inline-block !important;position: relative;}#sk-container-id-2 div.sk-text-repr-fallback {display: none;}</style><div id=\"sk-container-id-2\" class=\"sk-top-container\"><div class=\"sk-text-repr-fallback\"><pre>GridSearchCV(cv=5, estimator=SVC(random_state=42), n_jobs=-1,\n",
              "             param_grid={&#x27;C&#x27;: [0.001, 0.01, 0.1, 1, 10, 100],\n",
              "                         &#x27;gamma&#x27;: [0.001, 0.01, 0.1, 1, 10, 100],\n",
              "                         &#x27;kernel&#x27;: [&#x27;sigmoid&#x27;]},\n",
              "             return_train_score=True, verbose=2)</pre><b>In a Jupyter environment, please rerun this cell to show the HTML representation or trust the notebook. <br />On GitHub, the HTML representation is unable to render, please try loading this page with nbviewer.org.</b></div><div class=\"sk-container\" hidden><div class=\"sk-item sk-dashed-wrapped\"><div class=\"sk-label-container\"><div class=\"sk-label sk-toggleable\"><input class=\"sk-toggleable__control sk-hidden--visually\" id=\"sk-estimator-id-2\" type=\"checkbox\" ><label for=\"sk-estimator-id-2\" class=\"sk-toggleable__label sk-toggleable__label-arrow\">GridSearchCV</label><div class=\"sk-toggleable__content\"><pre>GridSearchCV(cv=5, estimator=SVC(random_state=42), n_jobs=-1,\n",
              "             param_grid={&#x27;C&#x27;: [0.001, 0.01, 0.1, 1, 10, 100],\n",
              "                         &#x27;gamma&#x27;: [0.001, 0.01, 0.1, 1, 10, 100],\n",
              "                         &#x27;kernel&#x27;: [&#x27;sigmoid&#x27;]},\n",
              "             return_train_score=True, verbose=2)</pre></div></div></div><div class=\"sk-parallel\"><div class=\"sk-parallel-item\"><div class=\"sk-item\"><div class=\"sk-label-container\"><div class=\"sk-label sk-toggleable\"><input class=\"sk-toggleable__control sk-hidden--visually\" id=\"sk-estimator-id-3\" type=\"checkbox\" ><label for=\"sk-estimator-id-3\" class=\"sk-toggleable__label sk-toggleable__label-arrow\">estimator: SVC</label><div class=\"sk-toggleable__content\"><pre>SVC(random_state=42)</pre></div></div></div><div class=\"sk-serial\"><div class=\"sk-item\"><div class=\"sk-estimator sk-toggleable\"><input class=\"sk-toggleable__control sk-hidden--visually\" id=\"sk-estimator-id-4\" type=\"checkbox\" ><label for=\"sk-estimator-id-4\" class=\"sk-toggleable__label sk-toggleable__label-arrow\">SVC</label><div class=\"sk-toggleable__content\"><pre>SVC(random_state=42)</pre></div></div></div></div></div></div></div></div></div></div>"
            ],
            "text/plain": [
              "GridSearchCV(cv=5, estimator=SVC(random_state=42), n_jobs=-1,\n",
              "             param_grid={'C': [0.001, 0.01, 0.1, 1, 10, 100],\n",
              "                         'gamma': [0.001, 0.01, 0.1, 1, 10, 100],\n",
              "                         'kernel': ['sigmoid']},\n",
              "             return_train_score=True, verbose=2)"
            ]
          },
          "execution_count": 32,
          "metadata": {},
          "output_type": "execute_result"
        }
      ],
      "source": [
        "from sklearn.model_selection import GridSearchCV\n",
        "\n",
        "params_grid = {\n",
        "    'C': [0.001, 0.01, 0.1, 1, 10, 100],\n",
        "    'gamma': [0.001, 0.01, 0.1, 1, 10, 100],\n",
        "    'kernel': ['sigmoid']\n",
        "}\n",
        "\n",
        "clf = SVC(random_state= SEED)\n",
        "grid_search = GridSearchCV(estimator=clf, param_grid=params_grid, cv=5, n_jobs= -1, refit= True, verbose= 2, return_train_score= True)\n",
        "grid_search.fit(X_train, y_train_e)"
      ]
    },
    {
      "cell_type": "code",
      "execution_count": 33,
      "metadata": {
        "colab": {
          "base_uri": "https://localhost:8080/",
          "height": 74
        },
        "id": "UaAaK8o7vWf_",
        "outputId": "a77a36f4-2aa1-43e4-d47a-50ca087d4cda"
      },
      "outputs": [
        {
          "data": {
            "text/html": [
              "<style>#sk-container-id-3 {color: black;}#sk-container-id-3 pre{padding: 0;}#sk-container-id-3 div.sk-toggleable {background-color: white;}#sk-container-id-3 label.sk-toggleable__label {cursor: pointer;display: block;width: 100%;margin-bottom: 0;padding: 0.3em;box-sizing: border-box;text-align: center;}#sk-container-id-3 label.sk-toggleable__label-arrow:before {content: \"▸\";float: left;margin-right: 0.25em;color: #696969;}#sk-container-id-3 label.sk-toggleable__label-arrow:hover:before {color: black;}#sk-container-id-3 div.sk-estimator:hover label.sk-toggleable__label-arrow:before {color: black;}#sk-container-id-3 div.sk-toggleable__content {max-height: 0;max-width: 0;overflow: hidden;text-align: left;background-color: #f0f8ff;}#sk-container-id-3 div.sk-toggleable__content pre {margin: 0.2em;color: black;border-radius: 0.25em;background-color: #f0f8ff;}#sk-container-id-3 input.sk-toggleable__control:checked~div.sk-toggleable__content {max-height: 200px;max-width: 100%;overflow: auto;}#sk-container-id-3 input.sk-toggleable__control:checked~label.sk-toggleable__label-arrow:before {content: \"▾\";}#sk-container-id-3 div.sk-estimator input.sk-toggleable__control:checked~label.sk-toggleable__label {background-color: #d4ebff;}#sk-container-id-3 div.sk-label input.sk-toggleable__control:checked~label.sk-toggleable__label {background-color: #d4ebff;}#sk-container-id-3 input.sk-hidden--visually {border: 0;clip: rect(1px 1px 1px 1px);clip: rect(1px, 1px, 1px, 1px);height: 1px;margin: -1px;overflow: hidden;padding: 0;position: absolute;width: 1px;}#sk-container-id-3 div.sk-estimator {font-family: monospace;background-color: #f0f8ff;border: 1px dotted black;border-radius: 0.25em;box-sizing: border-box;margin-bottom: 0.5em;}#sk-container-id-3 div.sk-estimator:hover {background-color: #d4ebff;}#sk-container-id-3 div.sk-parallel-item::after {content: \"\";width: 100%;border-bottom: 1px solid gray;flex-grow: 1;}#sk-container-id-3 div.sk-label:hover label.sk-toggleable__label {background-color: #d4ebff;}#sk-container-id-3 div.sk-serial::before {content: \"\";position: absolute;border-left: 1px solid gray;box-sizing: border-box;top: 0;bottom: 0;left: 50%;z-index: 0;}#sk-container-id-3 div.sk-serial {display: flex;flex-direction: column;align-items: center;background-color: white;padding-right: 0.2em;padding-left: 0.2em;position: relative;}#sk-container-id-3 div.sk-item {position: relative;z-index: 1;}#sk-container-id-3 div.sk-parallel {display: flex;align-items: stretch;justify-content: center;background-color: white;position: relative;}#sk-container-id-3 div.sk-item::before, #sk-container-id-3 div.sk-parallel-item::before {content: \"\";position: absolute;border-left: 1px solid gray;box-sizing: border-box;top: 0;bottom: 0;left: 50%;z-index: -1;}#sk-container-id-3 div.sk-parallel-item {display: flex;flex-direction: column;z-index: 1;position: relative;background-color: white;}#sk-container-id-3 div.sk-parallel-item:first-child::after {align-self: flex-end;width: 50%;}#sk-container-id-3 div.sk-parallel-item:last-child::after {align-self: flex-start;width: 50%;}#sk-container-id-3 div.sk-parallel-item:only-child::after {width: 0;}#sk-container-id-3 div.sk-dashed-wrapped {border: 1px dashed gray;margin: 0 0.4em 0.5em 0.4em;box-sizing: border-box;padding-bottom: 0.4em;background-color: white;}#sk-container-id-3 div.sk-label label {font-family: monospace;font-weight: bold;display: inline-block;line-height: 1.2em;}#sk-container-id-3 div.sk-label-container {text-align: center;}#sk-container-id-3 div.sk-container {/* jupyter's `normalize.less` sets `[hidden] { display: none; }` but bootstrap.min.css set `[hidden] { display: none !important; }` so we also need the `!important` here to be able to override the default hidden behavior on the sphinx rendered scikit-learn.org. See: https://github.com/scikit-learn/scikit-learn/issues/21755 */display: inline-block !important;position: relative;}#sk-container-id-3 div.sk-text-repr-fallback {display: none;}</style><div id=\"sk-container-id-3\" class=\"sk-top-container\"><div class=\"sk-text-repr-fallback\"><pre>SVC(C=1, gamma=0.01, kernel=&#x27;sigmoid&#x27;, random_state=42)</pre><b>In a Jupyter environment, please rerun this cell to show the HTML representation or trust the notebook. <br />On GitHub, the HTML representation is unable to render, please try loading this page with nbviewer.org.</b></div><div class=\"sk-container\" hidden><div class=\"sk-item\"><div class=\"sk-estimator sk-toggleable\"><input class=\"sk-toggleable__control sk-hidden--visually\" id=\"sk-estimator-id-5\" type=\"checkbox\" checked><label for=\"sk-estimator-id-5\" class=\"sk-toggleable__label sk-toggleable__label-arrow\">SVC</label><div class=\"sk-toggleable__content\"><pre>SVC(C=1, gamma=0.01, kernel=&#x27;sigmoid&#x27;, random_state=42)</pre></div></div></div></div></div>"
            ],
            "text/plain": [
              "SVC(C=1, gamma=0.01, kernel='sigmoid', random_state=42)"
            ]
          },
          "execution_count": 33,
          "metadata": {},
          "output_type": "execute_result"
        }
      ],
      "source": [
        "grid_search.best_estimator_"
      ]
    },
    {
      "cell_type": "code",
      "execution_count": 34,
      "metadata": {
        "colab": {
          "base_uri": "https://localhost:8080/"
        },
        "id": "i4ISyjOWweS-",
        "outputId": "8e6f6c84-b7ad-405b-fdc6-1a399eea96c8"
      },
      "outputs": [
        {
          "data": {
            "text/plain": [
              "{'C': 1, 'gamma': 0.01, 'kernel': 'sigmoid'}"
            ]
          },
          "execution_count": 34,
          "metadata": {},
          "output_type": "execute_result"
        }
      ],
      "source": [
        "grid_search.best_params_"
      ]
    },
    {
      "cell_type": "code",
      "execution_count": 35,
      "metadata": {
        "colab": {
          "base_uri": "https://localhost:8080/"
        },
        "id": "-_5uT4T8wlh1",
        "outputId": "c6494feb-495b-4488-d371-b4f92713b894"
      },
      "outputs": [
        {
          "data": {
            "text/plain": [
              "array([0, 1, 1, 0, 0, 0, 1, 1, 0, 0, 0, 0, 0, 0, 0, 1, 0, 1, 0, 0, 0, 0,\n",
              "       0, 0, 0, 0, 0, 0, 0, 0, 1, 1, 0, 0, 1, 0, 1, 1, 0, 0, 0, 0, 1, 0,\n",
              "       0, 1, 0, 1, 1, 0, 0, 1, 1, 0, 0, 1, 1, 0, 0, 0, 0, 0, 0, 1, 1, 0,\n",
              "       1, 0, 0, 1, 0, 0, 0, 0, 0, 0, 0])"
            ]
          },
          "execution_count": 35,
          "metadata": {},
          "output_type": "execute_result"
        }
      ],
      "source": [
        "y_pred = grid_search.best_estimator_.predict(X_test)\n",
        "y_pred"
      ]
    },
    {
      "cell_type": "code",
      "execution_count": 36,
      "metadata": {
        "colab": {
          "base_uri": "https://localhost:8080/"
        },
        "id": "tHsJV-Xhwt7f",
        "outputId": "fa12466d-6963-4993-b0b6-0d6284e67675"
      },
      "outputs": [
        {
          "name": "stdout",
          "output_type": "stream",
          "text": [
            "accuracy:  0.77\n",
            "recall_score:  0.59\n",
            "precision_score:  0.7\n",
            "f1_score:  0.64\n"
          ]
        }
      ],
      "source": [
        "print('accuracy: ',accuracy_score(y_test_e, y_pred).round(2))\n",
        "print('recall_score: ', recall_score(y_test_e, y_pred).round(2))\n",
        "print('precision_score: ',precision_score(y_test_e, y_pred).round(2))\n",
        "print('f1_score: ', f1_score(y_test_e, y_pred).round(2))"
      ]
    }
  ],
  "metadata": {
    "colab": {
      "provenance": []
    },
    "kernelspec": {
      "display_name": "Python 3",
      "name": "python3"
    },
    "language_info": {
      "codemirror_mode": {
        "name": "ipython",
        "version": 3
      },
      "file_extension": ".py",
      "mimetype": "text/x-python",
      "name": "python",
      "nbconvert_exporter": "python",
      "pygments_lexer": "ipython3",
      "version": "3.9.6"
    }
  },
  "nbformat": 4,
  "nbformat_minor": 0
}
