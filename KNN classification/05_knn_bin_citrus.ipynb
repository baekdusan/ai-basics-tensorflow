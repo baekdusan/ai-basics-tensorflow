{
  "cells": [
    {
      "cell_type": "markdown",
      "metadata": {
        "id": "L9zmsLRPdSP0"
      },
      "source": [
        "# KNN binary classification\n",
        "orange, grapefruits"
      ]
    },
    {
      "cell_type": "markdown",
      "metadata": {
        "id": "IW8tihGtdb_7"
      },
      "source": [
        "1. data preparation"
      ]
    },
    {
      "cell_type": "code",
      "execution_count": 12,
      "metadata": {
        "id": "6F0HabeiZJpp"
      },
      "outputs": [],
      "source": [
        "# !wget https://raw.githubusercontent.com/devdio/flyai_datasets/main/citrus.csv"
      ]
    },
    {
      "cell_type": "code",
      "execution_count": 13,
      "metadata": {
        "id": "yUWfr4gedvBL"
      },
      "outputs": [],
      "source": [
        "import numpy as np\n",
        "import pandas as pd\n",
        "import matplotlib.pyplot as plt\n",
        "import seaborn as sns\n",
        "import sklearn\n",
        "\n",
        "SEED = 42"
      ]
    },
    {
      "cell_type": "code",
      "execution_count": 14,
      "metadata": {
        "colab": {
          "base_uri": "https://localhost:8080/"
        },
        "id": "CbVAtFZZetDy",
        "outputId": "8265a95f-2464-434a-e41d-625553b7ed38"
      },
      "outputs": [
        {
          "data": {
            "text/plain": [
              "0.3745401188473625"
            ]
          },
          "execution_count": 14,
          "metadata": {},
          "output_type": "execute_result"
        }
      ],
      "source": [
        "np.random.seed(SEED) # seed는 셀 안에서만 고정이다\n",
        "np.random.random()"
      ]
    },
    {
      "cell_type": "code",
      "execution_count": 15,
      "metadata": {
        "colab": {
          "base_uri": "https://localhost:8080/"
        },
        "id": "wJ1z8AYBfpB8",
        "outputId": "36afa86d-eb85-4218-b3b7-964da4480e02"
      },
      "outputs": [
        {
          "name": "stdout",
          "output_type": "stream",
          "text": [
            "<class 'pandas.core.frame.DataFrame'>\n",
            "RangeIndex: 10000 entries, 0 to 9999\n",
            "Data columns (total 6 columns):\n",
            " #   Column    Non-Null Count  Dtype  \n",
            "---  ------    --------------  -----  \n",
            " 0   name      10000 non-null  object \n",
            " 1   diameter  10000 non-null  float64\n",
            " 2   weight    10000 non-null  float64\n",
            " 3   red       10000 non-null  int64  \n",
            " 4   green     10000 non-null  int64  \n",
            " 5   blue      10000 non-null  int64  \n",
            "dtypes: float64(2), int64(3), object(1)\n",
            "memory usage: 468.9+ KB\n"
          ]
        },
        {
          "data": {
            "text/plain": [
              "(10000, 6)"
            ]
          },
          "execution_count": 15,
          "metadata": {},
          "output_type": "execute_result"
        }
      ],
      "source": [
        "citrus = pd.read_csv('citrus.csv')\n",
        "citrus.info()\n",
        "citrus.shape"
      ]
    },
    {
      "cell_type": "code",
      "execution_count": 16,
      "metadata": {
        "colab": {
          "base_uri": "https://localhost:8080/",
          "height": 206
        },
        "id": "k_1DU1Avf_WO",
        "outputId": "5d85b88d-5a40-4ef6-a528-669f6f92560b"
      },
      "outputs": [
        {
          "data": {
            "text/html": [
              "<div>\n",
              "<style scoped>\n",
              "    .dataframe tbody tr th:only-of-type {\n",
              "        vertical-align: middle;\n",
              "    }\n",
              "\n",
              "    .dataframe tbody tr th {\n",
              "        vertical-align: top;\n",
              "    }\n",
              "\n",
              "    .dataframe thead th {\n",
              "        text-align: right;\n",
              "    }\n",
              "</style>\n",
              "<table border=\"1\" class=\"dataframe\">\n",
              "  <thead>\n",
              "    <tr style=\"text-align: right;\">\n",
              "      <th></th>\n",
              "      <th>name</th>\n",
              "      <th>diameter</th>\n",
              "      <th>weight</th>\n",
              "      <th>red</th>\n",
              "      <th>green</th>\n",
              "      <th>blue</th>\n",
              "    </tr>\n",
              "  </thead>\n",
              "  <tbody>\n",
              "    <tr>\n",
              "      <th>0</th>\n",
              "      <td>orange</td>\n",
              "      <td>2.96</td>\n",
              "      <td>86.76</td>\n",
              "      <td>172</td>\n",
              "      <td>85</td>\n",
              "      <td>2</td>\n",
              "    </tr>\n",
              "    <tr>\n",
              "      <th>1</th>\n",
              "      <td>orange</td>\n",
              "      <td>3.91</td>\n",
              "      <td>88.05</td>\n",
              "      <td>166</td>\n",
              "      <td>78</td>\n",
              "      <td>3</td>\n",
              "    </tr>\n",
              "    <tr>\n",
              "      <th>2</th>\n",
              "      <td>orange</td>\n",
              "      <td>4.42</td>\n",
              "      <td>95.17</td>\n",
              "      <td>156</td>\n",
              "      <td>81</td>\n",
              "      <td>2</td>\n",
              "    </tr>\n",
              "    <tr>\n",
              "      <th>3</th>\n",
              "      <td>orange</td>\n",
              "      <td>4.47</td>\n",
              "      <td>95.60</td>\n",
              "      <td>163</td>\n",
              "      <td>81</td>\n",
              "      <td>4</td>\n",
              "    </tr>\n",
              "    <tr>\n",
              "      <th>4</th>\n",
              "      <td>orange</td>\n",
              "      <td>4.48</td>\n",
              "      <td>95.76</td>\n",
              "      <td>161</td>\n",
              "      <td>72</td>\n",
              "      <td>9</td>\n",
              "    </tr>\n",
              "  </tbody>\n",
              "</table>\n",
              "</div>"
            ],
            "text/plain": [
              "     name  diameter  weight  red  green  blue\n",
              "0  orange      2.96   86.76  172     85     2\n",
              "1  orange      3.91   88.05  166     78     3\n",
              "2  orange      4.42   95.17  156     81     2\n",
              "3  orange      4.47   95.60  163     81     4\n",
              "4  orange      4.48   95.76  161     72     9"
            ]
          },
          "execution_count": 16,
          "metadata": {},
          "output_type": "execute_result"
        }
      ],
      "source": [
        "citrus.head()"
      ]
    },
    {
      "cell_type": "code",
      "execution_count": 17,
      "metadata": {
        "id": "Xs8wQmKHgBJg"
      },
      "outputs": [],
      "source": [
        "df = citrus.copy() # 원본 데이터는 유지하기 위함. 판다스에서는 그냥 copy 써도 깊은 복사임. 얕은 복사 하고 싶으면 deep 파라미터 사용하기."
      ]
    },
    {
      "cell_type": "code",
      "execution_count": 18,
      "metadata": {
        "colab": {
          "base_uri": "https://localhost:8080/",
          "height": 206
        },
        "id": "S7N92hAngZbG",
        "outputId": "87f78d34-09bb-4d47-d454-e0cc3d1b6541"
      },
      "outputs": [
        {
          "data": {
            "text/html": [
              "<div>\n",
              "<style scoped>\n",
              "    .dataframe tbody tr th:only-of-type {\n",
              "        vertical-align: middle;\n",
              "    }\n",
              "\n",
              "    .dataframe tbody tr th {\n",
              "        vertical-align: top;\n",
              "    }\n",
              "\n",
              "    .dataframe thead th {\n",
              "        text-align: right;\n",
              "    }\n",
              "</style>\n",
              "<table border=\"1\" class=\"dataframe\">\n",
              "  <thead>\n",
              "    <tr style=\"text-align: right;\">\n",
              "      <th></th>\n",
              "      <th>count</th>\n",
              "      <th>mean</th>\n",
              "      <th>std</th>\n",
              "      <th>min</th>\n",
              "      <th>25%</th>\n",
              "      <th>50%</th>\n",
              "      <th>75%</th>\n",
              "      <th>max</th>\n",
              "    </tr>\n",
              "  </thead>\n",
              "  <tbody>\n",
              "    <tr>\n",
              "      <th>diameter</th>\n",
              "      <td>10000.0</td>\n",
              "      <td>9.975685</td>\n",
              "      <td>1.947844</td>\n",
              "      <td>2.96</td>\n",
              "      <td>8.46</td>\n",
              "      <td>9.980</td>\n",
              "      <td>11.4800</td>\n",
              "      <td>16.45</td>\n",
              "    </tr>\n",
              "    <tr>\n",
              "      <th>weight</th>\n",
              "      <td>10000.0</td>\n",
              "      <td>175.050792</td>\n",
              "      <td>29.212119</td>\n",
              "      <td>86.76</td>\n",
              "      <td>152.22</td>\n",
              "      <td>174.985</td>\n",
              "      <td>197.7225</td>\n",
              "      <td>261.51</td>\n",
              "    </tr>\n",
              "    <tr>\n",
              "      <th>red</th>\n",
              "      <td>10000.0</td>\n",
              "      <td>153.847800</td>\n",
              "      <td>10.432954</td>\n",
              "      <td>115.00</td>\n",
              "      <td>147.00</td>\n",
              "      <td>154.000</td>\n",
              "      <td>161.0000</td>\n",
              "      <td>192.00</td>\n",
              "    </tr>\n",
              "    <tr>\n",
              "      <th>green</th>\n",
              "      <td>10000.0</td>\n",
              "      <td>76.010600</td>\n",
              "      <td>11.708433</td>\n",
              "      <td>31.00</td>\n",
              "      <td>68.00</td>\n",
              "      <td>76.000</td>\n",
              "      <td>84.0000</td>\n",
              "      <td>116.00</td>\n",
              "    </tr>\n",
              "    <tr>\n",
              "      <th>blue</th>\n",
              "      <td>10000.0</td>\n",
              "      <td>11.363200</td>\n",
              "      <td>9.061275</td>\n",
              "      <td>2.00</td>\n",
              "      <td>2.00</td>\n",
              "      <td>10.000</td>\n",
              "      <td>17.0000</td>\n",
              "      <td>56.00</td>\n",
              "    </tr>\n",
              "  </tbody>\n",
              "</table>\n",
              "</div>"
            ],
            "text/plain": [
              "            count        mean        std     min     25%      50%       75%  \\\n",
              "diameter  10000.0    9.975685   1.947844    2.96    8.46    9.980   11.4800   \n",
              "weight    10000.0  175.050792  29.212119   86.76  152.22  174.985  197.7225   \n",
              "red       10000.0  153.847800  10.432954  115.00  147.00  154.000  161.0000   \n",
              "green     10000.0   76.010600  11.708433   31.00   68.00   76.000   84.0000   \n",
              "blue      10000.0   11.363200   9.061275    2.00    2.00   10.000   17.0000   \n",
              "\n",
              "             max  \n",
              "diameter   16.45  \n",
              "weight    261.51  \n",
              "red       192.00  \n",
              "green     116.00  \n",
              "blue       56.00  "
            ]
          },
          "execution_count": 18,
          "metadata": {},
          "output_type": "execute_result"
        }
      ],
      "source": [
        "df.describe().T"
      ]
    },
    {
      "cell_type": "markdown",
      "metadata": {
        "id": "r_FNB15phEz4"
      },
      "source": [
        "# 범주형 데이터"
      ]
    },
    {
      "cell_type": "code",
      "execution_count": 19,
      "metadata": {
        "colab": {
          "base_uri": "https://localhost:8080/"
        },
        "id": "IywABgRlhl7A",
        "outputId": "6dbf5e27-79ce-444e-bbb7-927748589b6c"
      },
      "outputs": [
        {
          "data": {
            "text/plain": [
              "2"
            ]
          },
          "execution_count": 19,
          "metadata": {},
          "output_type": "execute_result"
        }
      ],
      "source": [
        "df['name'].nunique() # 고유한 데이터의 개수를 반환함. 그래서 몇개의 카테고리로 이루어져 있는지 확인할 수 있음."
      ]
    },
    {
      "cell_type": "code",
      "execution_count": 20,
      "metadata": {
        "colab": {
          "base_uri": "https://localhost:8080/"
        },
        "id": "cWgE0r6ch3Os",
        "outputId": "c07f5ca3-3d60-4ae7-8323-5cbbe386ef10"
      },
      "outputs": [
        {
          "data": {
            "text/plain": [
              "name\n",
              "orange        5000\n",
              "grapefruit    5000\n",
              "Name: count, dtype: int64"
            ]
          },
          "execution_count": 20,
          "metadata": {},
          "output_type": "execute_result"
        }
      ],
      "source": [
        "df['name'].value_counts() # 데이터가 어느 쪽에 치우치지 않았나 보기 위해서"
      ]
    },
    {
      "cell_type": "code",
      "execution_count": 21,
      "metadata": {
        "colab": {
          "base_uri": "https://localhost:8080/",
          "height": 461
        },
        "id": "5oQwKr0Eh6LF",
        "outputId": "14261beb-d6c2-46a6-83bc-fc6b01ae0c7c"
      },
      "outputs": [
        {
          "data": {
            "text/plain": [
              "<Axes: xlabel='name'>"
            ]
          },
          "execution_count": 21,
          "metadata": {},
          "output_type": "execute_result"
        },
        {
          "data": {
            "image/png": "[encoded data removed]",
            "text/plain": [
              "<Figure size 400x400 with 1 Axes>"
            ]
          },
          "metadata": {},
          "output_type": "display_data"
        }
      ],
      "source": [
        "df['name'].value_counts().plot(kind='bar', figsize=(4,4))"
      ]
    },
    {
      "cell_type": "markdown",
      "metadata": {
        "id": "IIpM8UuliRZ8"
      },
      "source": [
        "# 연속형 변수"
      ]
    },
    {
      "cell_type": "code",
      "execution_count": 22,
      "metadata": {
        "colab": {
          "base_uri": "https://localhost:8080/",
          "height": 928
        },
        "id": "bU6Q3RwviroJ",
        "outputId": "dc4b8614-748f-4512-c719-4b73673a4e47"
      },
      "outputs": [
        {
          "data": {
            "text/plain": [
              "(array([  2.,   0.,   0.,   0.,   0.,   1.,   3.,   1.,   1.,   2.,   4.,\n",
              "          5.,   9.,   9.,   7.,  12.,  11.,  14.,  14.,  28.,  25.,  25.,\n",
              "         23.,  38.,  42.,  49.,  49.,  54.,  57.,  46.,  79.,  80., 117.,\n",
              "        102.,  95., 117., 130., 140., 122., 127., 141., 140., 165., 164.,\n",
              "        138., 170., 167., 127., 165., 134., 138., 140., 137., 127., 115.,\n",
              "         94., 105., 109.,  93.,  83.,  76.,  95.,  78.,  62.,  55.,  49.,\n",
              "         51.,  38.,  32.,  27.,  29.,  17.,  25.,  15.,  11.,  10.,   7.,\n",
              "          5.,   6.,   2.,   2.,   1.,   3.,   4.,   1.,   0.,   1.,   1.,\n",
              "          0.,   0.,   3.,   0.,   0.,   0.,   0.,   0.,   0.,   0.,   0.,\n",
              "          2.]),\n",
              " array([ 86.76  ,  88.2033,  89.6466,  91.0899,  92.5332,  93.9765,\n",
              "         95.4198,  96.8631,  98.3064,  99.7497, 101.193 , 102.6363,\n",
              "        104.0796, 105.5229, 106.9662, 108.4095, 109.8528, 111.2961,\n",
              "        112.7394, 114.1827, 115.626 , 117.0693, 118.5126, 119.9559,\n",
              "        121.3992, 122.8425, 124.2858, 125.7291, 127.1724, 128.6157,\n",
              "        130.059 , 131.5023, 132.9456, 134.3889, 135.8322, 137.2755,\n",
              "        138.7188, 140.1621, 141.6054, 143.0487, 144.492 , 145.9353,\n",
              "        147.3786, 148.8219, 150.2652, 151.7085, 153.1518, 154.5951,\n",
              "        156.0384, 157.4817, 158.925 , 160.3683, 161.8116, 163.2549,\n",
              "        164.6982, 166.1415, 167.5848, 169.0281, 170.4714, 171.9147,\n",
              "        173.358 , 174.8013, 176.2446, 177.6879, 179.1312, 180.5745,\n",
              "        182.0178, 183.4611, 184.9044, 186.3477, 187.791 , 189.2343,\n",
              "        190.6776, 192.1209, 193.5642, 195.0075, 196.4508, 197.8941,\n",
              "        199.3374, 200.7807, 202.224 , 203.6673, 205.1106, 206.5539,\n",
              "        207.9972, 209.4405, 210.8838, 212.3271, 213.7704, 215.2137,\n",
              "        216.657 , 218.1003, 219.5436, 220.9869, 222.4302, 223.8735,\n",
              "        225.3168, 226.7601, 228.2034, 229.6467, 231.09  ]),\n",
              " <BarContainer object of 100 artists>)"
            ]
          },
          "execution_count": 22,
          "metadata": {},
          "output_type": "execute_result"
        },
        {
          "data": {
            "image/png": "[encoded data removed]",
            "text/plain": [
              "<Figure size 640x480 with 1 Axes>"
            ]
          },
          "metadata": {},
          "output_type": "display_data"
        }
      ],
      "source": [
        "df_orange = df[df['name'] == 'orange']\n",
        "plt.hist(df_orange['weight'], bins=100) # 100개의 간격으로 나눠 준다"
      ]
    },
    {
      "cell_type": "code",
      "execution_count": 23,
      "metadata": {
        "colab": {
          "base_uri": "https://localhost:8080/",
          "height": 206
        },
        "id": "LMhq7pGqjHUI",
        "outputId": "9a71fafb-a7cc-4905-f99b-744abd680786"
      },
      "outputs": [
        {
          "data": {
            "text/html": [
              "<div>\n",
              "<style scoped>\n",
              "    .dataframe tbody tr th:only-of-type {\n",
              "        vertical-align: middle;\n",
              "    }\n",
              "\n",
              "    .dataframe tbody tr th {\n",
              "        vertical-align: top;\n",
              "    }\n",
              "\n",
              "    .dataframe thead th {\n",
              "        text-align: right;\n",
              "    }\n",
              "</style>\n",
              "<table border=\"1\" class=\"dataframe\">\n",
              "  <thead>\n",
              "    <tr style=\"text-align: right;\">\n",
              "      <th></th>\n",
              "      <th>name</th>\n",
              "      <th>diameter</th>\n",
              "      <th>weight</th>\n",
              "      <th>red</th>\n",
              "      <th>green</th>\n",
              "      <th>blue</th>\n",
              "    </tr>\n",
              "  </thead>\n",
              "  <tbody>\n",
              "    <tr>\n",
              "      <th>5000</th>\n",
              "      <td>grapefruit</td>\n",
              "      <td>7.63</td>\n",
              "      <td>126.79</td>\n",
              "      <td>150</td>\n",
              "      <td>74</td>\n",
              "      <td>24</td>\n",
              "    </tr>\n",
              "    <tr>\n",
              "      <th>5001</th>\n",
              "      <td>grapefruit</td>\n",
              "      <td>7.69</td>\n",
              "      <td>133.98</td>\n",
              "      <td>150</td>\n",
              "      <td>43</td>\n",
              "      <td>15</td>\n",
              "    </tr>\n",
              "    <tr>\n",
              "      <th>5002</th>\n",
              "      <td>grapefruit</td>\n",
              "      <td>7.72</td>\n",
              "      <td>135.56</td>\n",
              "      <td>150</td>\n",
              "      <td>54</td>\n",
              "      <td>21</td>\n",
              "    </tr>\n",
              "    <tr>\n",
              "      <th>5003</th>\n",
              "      <td>grapefruit</td>\n",
              "      <td>7.77</td>\n",
              "      <td>135.62</td>\n",
              "      <td>150</td>\n",
              "      <td>75</td>\n",
              "      <td>15</td>\n",
              "    </tr>\n",
              "    <tr>\n",
              "      <th>5004</th>\n",
              "      <td>grapefruit</td>\n",
              "      <td>7.84</td>\n",
              "      <td>136.63</td>\n",
              "      <td>149</td>\n",
              "      <td>77</td>\n",
              "      <td>20</td>\n",
              "    </tr>\n",
              "  </tbody>\n",
              "</table>\n",
              "</div>"
            ],
            "text/plain": [
              "            name  diameter  weight  red  green  blue\n",
              "5000  grapefruit      7.63  126.79  150     74    24\n",
              "5001  grapefruit      7.69  133.98  150     43    15\n",
              "5002  grapefruit      7.72  135.56  150     54    21\n",
              "5003  grapefruit      7.77  135.62  150     75    15\n",
              "5004  grapefruit      7.84  136.63  149     77    20"
            ]
          },
          "execution_count": 23,
          "metadata": {},
          "output_type": "execute_result"
        }
      ],
      "source": [
        "df_citrus = df[df['name'] != 'orange']\n",
        "df_citrus.head()"
      ]
    },
    {
      "cell_type": "code",
      "execution_count": 24,
      "metadata": {
        "colab": {
          "base_uri": "https://localhost:8080/",
          "height": 430
        },
        "id": "klwm3iJDjuAe",
        "outputId": "f6a57000-d6ed-4e15-996f-4b9e0cd1a371"
      },
      "outputs": [
        {
          "data": {
            "image/png": "[encoded data removed]",
            "text/plain": [
              "<Figure size 640x480 with 1 Axes>"
            ]
          },
          "metadata": {},
          "output_type": "display_data"
        }
      ],
      "source": [
        "plt.hist(df_orange['weight'], color= 'r', bins=100)\n",
        "plt.hist(df_citrus['weight'], color= 'g', bins=100)\n",
        "plt.show()"
      ]
    },
    {
      "cell_type": "code",
      "execution_count": 25,
      "metadata": {
        "colab": {
          "base_uri": "https://localhost:8080/",
          "height": 697
        },
        "id": "WiC4dR_IkFg3",
        "outputId": "48951aec-de44-4814-ce28-3c8e19db333d"
      },
      "outputs": [
        {
          "data": {
            "text/plain": [
              "{'whiskers': [<matplotlib.lines.Line2D at 0x1340bb1f0>,\n",
              "  <matplotlib.lines.Line2D at 0x1340bb490>,\n",
              "  <matplotlib.lines.Line2D at 0x1340c74c0>,\n",
              "  <matplotlib.lines.Line2D at 0x1340c7760>],\n",
              " 'caps': [<matplotlib.lines.Line2D at 0x1340bb730>,\n",
              "  <matplotlib.lines.Line2D at 0x1340bb9d0>,\n",
              "  <matplotlib.lines.Line2D at 0x1340c7a00>,\n",
              "  <matplotlib.lines.Line2D at 0x1340c7ca0>],\n",
              " 'boxes': [<matplotlib.lines.Line2D at 0x1340adf10>,\n",
              "  <matplotlib.lines.Line2D at 0x1340c7220>],\n",
              " 'medians': [<matplotlib.lines.Line2D at 0x1340bbc70>,\n",
              "  <matplotlib.lines.Line2D at 0x1340c7f40>],\n",
              " 'fliers': [<matplotlib.lines.Line2D at 0x1340bbf10>,\n",
              "  <matplotlib.lines.Line2D at 0x1340d7220>],\n",
              " 'means': []}"
            ]
          },
          "execution_count": 25,
          "metadata": {},
          "output_type": "execute_result"
        },
        {
          "data": {
            "image/png": "[encoded data removed]",
            "text/plain": [
              "<Figure size 640x480 with 1 Axes>"
            ]
          },
          "metadata": {},
          "output_type": "display_data"
        }
      ],
      "source": [
        "plt.boxplot([df_orange['weight'], df_citrus['weight']])"
      ]
    },
    {
      "cell_type": "code",
      "execution_count": 26,
      "metadata": {
        "colab": {
          "base_uri": "https://localhost:8080/"
        },
        "id": "DnIuXDJ9kn3C",
        "outputId": "71f676d2-425f-4467-c740-a880c070a12a"
      },
      "outputs": [
        {
          "data": {
            "text/plain": [
              "Index(['name', 'diameter', 'weight', 'red', 'green', 'blue'], dtype='object')"
            ]
          },
          "execution_count": 26,
          "metadata": {},
          "output_type": "execute_result"
        }
      ],
      "source": [
        "df.columns"
      ]
    },
    {
      "cell_type": "code",
      "execution_count": 27,
      "metadata": {
        "colab": {
          "base_uri": "https://localhost:8080/",
          "height": 1000
        },
        "id": "W9RGawwikpkb",
        "outputId": "ad871c8c-57a2-4899-fbf8-24c4de538d75"
      },
      "outputs": [
        {
          "data": {
            "text/plain": [
              "{'whiskers': [<matplotlib.lines.Line2D at 0x134140850>,\n",
              "  <matplotlib.lines.Line2D at 0x1341409d0>,\n",
              "  <matplotlib.lines.Line2D at 0x1341529d0>,\n",
              "  <matplotlib.lines.Line2D at 0x134152c70>,\n",
              "  <matplotlib.lines.Line2D at 0x13415e640>,\n",
              "  <matplotlib.lines.Line2D at 0x13415e8e0>,\n",
              "  <matplotlib.lines.Line2D at 0x1341708e0>,\n",
              "  <matplotlib.lines.Line2D at 0x134170b80>,\n",
              "  <matplotlib.lines.Line2D at 0x13417eb80>,\n",
              "  <matplotlib.lines.Line2D at 0x13417ee20>],\n",
              " 'caps': [<matplotlib.lines.Line2D at 0x134140c70>,\n",
              "  <matplotlib.lines.Line2D at 0x134140f10>,\n",
              "  <matplotlib.lines.Line2D at 0x134152f10>,\n",
              "  <matplotlib.lines.Line2D at 0x13415e1f0>,\n",
              "  <matplotlib.lines.Line2D at 0x13415eb80>,\n",
              "  <matplotlib.lines.Line2D at 0x13415ee20>,\n",
              "  <matplotlib.lines.Line2D at 0x134170e20>,\n",
              "  <matplotlib.lines.Line2D at 0x13417e100>,\n",
              "  <matplotlib.lines.Line2D at 0x13418d100>,\n",
              "  <matplotlib.lines.Line2D at 0x13418d3a0>],\n",
              " 'boxes': [<matplotlib.lines.Line2D at 0x1341405b0>,\n",
              "  <matplotlib.lines.Line2D at 0x134152730>,\n",
              "  <matplotlib.lines.Line2D at 0x13415e3a0>,\n",
              "  <matplotlib.lines.Line2D at 0x134170640>,\n",
              "  <matplotlib.lines.Line2D at 0x13417e8e0>],\n",
              " 'medians': [<matplotlib.lines.Line2D at 0x1341521f0>,\n",
              "  <matplotlib.lines.Line2D at 0x1340e0b80>,\n",
              "  <matplotlib.lines.Line2D at 0x134170100>,\n",
              "  <matplotlib.lines.Line2D at 0x13417e3a0>,\n",
              "  <matplotlib.lines.Line2D at 0x13418d640>],\n",
              " 'fliers': [<matplotlib.lines.Line2D at 0x134152490>,\n",
              "  <matplotlib.lines.Line2D at 0x13408a3d0>,\n",
              "  <matplotlib.lines.Line2D at 0x1341703a0>,\n",
              "  <matplotlib.lines.Line2D at 0x13417e640>,\n",
              "  <matplotlib.lines.Line2D at 0x13418d8e0>],\n",
              " 'means': []}"
            ]
          },
          "execution_count": 27,
          "metadata": {},
          "output_type": "execute_result"
        },
        {
          "data": {
            "image/png": "[encoded data removed]",
            "text/plain": [
              "<Figure size 640x480 with 1 Axes>"
            ]
          },
          "metadata": {},
          "output_type": "display_data"
        }
      ],
      "source": [
        "plt.boxplot(df[['diameter', 'weight', 'red', 'green', 'blue']]) # 연속형 변수들의 이상치가 있나 확인하기 위해 boxplot을 찍어본다"
      ]
    },
    {
      "cell_type": "markdown",
      "metadata": {
        "id": "o_CiGob8lUvC"
      },
      "source": [
        "# missing value"
      ]
    },
    {
      "cell_type": "code",
      "execution_count": 28,
      "metadata": {
        "colab": {
          "base_uri": "https://localhost:8080/"
        },
        "id": "B4LN6EArlXR_",
        "outputId": "3ec8549e-0473-45d2-9897-362fbde7c9ad"
      },
      "outputs": [
        {
          "data": {
            "text/plain": [
              "name        0\n",
              "diameter    0\n",
              "weight      0\n",
              "red         0\n",
              "green       0\n",
              "blue        0\n",
              "dtype: int64"
            ]
          },
          "execution_count": 28,
          "metadata": {},
          "output_type": "execute_result"
        }
      ],
      "source": [
        "df.isna().sum(axis=0) # 결측치 확인"
      ]
    },
    {
      "cell_type": "code",
      "execution_count": 29,
      "metadata": {
        "colab": {
          "base_uri": "https://localhost:8080/"
        },
        "id": "72QvScUHleuV",
        "outputId": "44934ef1-7268-4048-a57f-0d1704724ab6"
      },
      "outputs": [
        {
          "data": {
            "text/plain": [
              "0"
            ]
          },
          "execution_count": 29,
          "metadata": {},
          "output_type": "execute_result"
        }
      ],
      "source": [
        "df.duplicated().sum() # 중복치 확인"
      ]
    },
    {
      "cell_type": "code",
      "execution_count": 30,
      "metadata": {
        "colab": {
          "base_uri": "https://localhost:8080/",
          "height": 206
        },
        "id": "_Fexfukblb4J",
        "outputId": "280bc6f2-9b60-478f-d478-103a8e4ab49d"
      },
      "outputs": [
        {
          "data": {
            "text/html": [
              "<div>\n",
              "<style scoped>\n",
              "    .dataframe tbody tr th:only-of-type {\n",
              "        vertical-align: middle;\n",
              "    }\n",
              "\n",
              "    .dataframe tbody tr th {\n",
              "        vertical-align: top;\n",
              "    }\n",
              "\n",
              "    .dataframe thead th {\n",
              "        text-align: right;\n",
              "    }\n",
              "</style>\n",
              "<table border=\"1\" class=\"dataframe\">\n",
              "  <thead>\n",
              "    <tr style=\"text-align: right;\">\n",
              "      <th></th>\n",
              "      <th>name</th>\n",
              "      <th>diameter</th>\n",
              "      <th>weight</th>\n",
              "      <th>red</th>\n",
              "      <th>green</th>\n",
              "      <th>blue</th>\n",
              "    </tr>\n",
              "  </thead>\n",
              "  <tbody>\n",
              "    <tr>\n",
              "      <th>6252</th>\n",
              "      <td>grapefruit</td>\n",
              "      <td>10.66</td>\n",
              "      <td>184.37</td>\n",
              "      <td>166</td>\n",
              "      <td>60</td>\n",
              "      <td>18</td>\n",
              "    </tr>\n",
              "    <tr>\n",
              "      <th>4684</th>\n",
              "      <td>orange</td>\n",
              "      <td>10.40</td>\n",
              "      <td>181.34</td>\n",
              "      <td>166</td>\n",
              "      <td>109</td>\n",
              "      <td>13</td>\n",
              "    </tr>\n",
              "    <tr>\n",
              "      <th>1731</th>\n",
              "      <td>orange</td>\n",
              "      <td>7.99</td>\n",
              "      <td>145.45</td>\n",
              "      <td>150</td>\n",
              "      <td>72</td>\n",
              "      <td>2</td>\n",
              "    </tr>\n",
              "    <tr>\n",
              "      <th>4742</th>\n",
              "      <td>orange</td>\n",
              "      <td>10.55</td>\n",
              "      <td>182.99</td>\n",
              "      <td>151</td>\n",
              "      <td>84</td>\n",
              "      <td>2</td>\n",
              "    </tr>\n",
              "    <tr>\n",
              "      <th>4521</th>\n",
              "      <td>orange</td>\n",
              "      <td>10.10</td>\n",
              "      <td>177.31</td>\n",
              "      <td>160</td>\n",
              "      <td>72</td>\n",
              "      <td>2</td>\n",
              "    </tr>\n",
              "  </tbody>\n",
              "</table>\n",
              "</div>"
            ],
            "text/plain": [
              "            name  diameter  weight  red  green  blue\n",
              "6252  grapefruit     10.66  184.37  166     60    18\n",
              "4684      orange     10.40  181.34  166    109    13\n",
              "1731      orange      7.99  145.45  150     72     2\n",
              "4742      orange     10.55  182.99  151     84     2\n",
              "4521      orange     10.10  177.31  160     72     2"
            ]
          },
          "execution_count": 30,
          "metadata": {},
          "output_type": "execute_result"
        }
      ],
      "source": [
        "df = df.sample(frac=1) # 데이터의 편중을 막기 위해 데이터끼리 섞어줌 1이면 전부를, 0.5면 전체중 반을 무작위로 골라서 섞어줌.\n",
        "df.head()"
      ]
    },
    {
      "cell_type": "code",
      "execution_count": 31,
      "metadata": {
        "id": "KF178Ee3lZTG"
      },
      "outputs": [],
      "source": [
        "idx_train = int(len(df) * 0.6) # 6:2:2로 나눠서 학습\n",
        "idx_val = int(len(df) * 0.8)"
      ]
    },
    {
      "cell_type": "code",
      "execution_count": 32,
      "metadata": {
        "colab": {
          "base_uri": "https://localhost:8080/"
        },
        "id": "nZTtL00k11xn",
        "outputId": "69244a8c-36dc-4cb1-8f02-f4f686af9f18"
      },
      "outputs": [
        {
          "name": "stdout",
          "output_type": "stream",
          "text": [
            "(6000, 6) (2000, 6) (2000, 6)\n"
          ]
        }
      ],
      "source": [
        "train = df.iloc[:idx_train,:]\n",
        "val = df.iloc[idx_train:idx_val,:]\n",
        "test = df.iloc[idx_val:,:]\n",
        "print(train.shape, val.shape, test.shape)"
      ]
    },
    {
      "cell_type": "markdown",
      "metadata": {
        "id": "-Hg5_PCk2kLZ"
      },
      "source": [
        "## X, y 변수 분리"
      ]
    },
    {
      "cell_type": "code",
      "execution_count": 33,
      "metadata": {
        "id": "KLMaXdtm23tW"
      },
      "outputs": [],
      "source": [
        "X_train = train.drop('name', axis=1)\n",
        "y_train = train['name']\n",
        "X_val = val.drop('name', axis=1)\n",
        "y_val = val['name']"
      ]
    },
    {
      "cell_type": "code",
      "execution_count": 34,
      "metadata": {
        "colab": {
          "base_uri": "https://localhost:8080/"
        },
        "id": "LhNivSBs3vUD",
        "outputId": "785761d2-f7c4-4f28-94fc-c5132bffaaa2"
      },
      "outputs": [
        {
          "data": {
            "text/plain": [
              "(name\n",
              " orange        3062\n",
              " grapefruit    2938\n",
              " Name: count, dtype: int64,\n",
              " name\n",
              " grapefruit    1042\n",
              " orange         958\n",
              " Name: count, dtype: int64)"
            ]
          },
          "execution_count": 34,
          "metadata": {},
          "output_type": "execute_result"
        }
      ],
      "source": [
        "y_train.value_counts(), y_val.value_counts()"
      ]
    },
    {
      "cell_type": "markdown",
      "metadata": {
        "id": "OfYDQLpQ4SSB"
      },
      "source": [
        "스케일링"
      ]
    },
    {
      "cell_type": "code",
      "execution_count": 35,
      "metadata": {
        "colab": {
          "base_uri": "https://localhost:8080/",
          "height": 206
        },
        "id": "B6jIjAUI4X6s",
        "outputId": "3d73c32e-f7c3-4ef4-9cbc-1e9977fc993e"
      },
      "outputs": [
        {
          "data": {
            "text/html": [
              "<div>\n",
              "<style scoped>\n",
              "    .dataframe tbody tr th:only-of-type {\n",
              "        vertical-align: middle;\n",
              "    }\n",
              "\n",
              "    .dataframe tbody tr th {\n",
              "        vertical-align: top;\n",
              "    }\n",
              "\n",
              "    .dataframe thead th {\n",
              "        text-align: right;\n",
              "    }\n",
              "</style>\n",
              "<table border=\"1\" class=\"dataframe\">\n",
              "  <thead>\n",
              "    <tr style=\"text-align: right;\">\n",
              "      <th></th>\n",
              "      <th>diameter</th>\n",
              "      <th>weight</th>\n",
              "      <th>red</th>\n",
              "      <th>green</th>\n",
              "      <th>blue</th>\n",
              "    </tr>\n",
              "  </thead>\n",
              "  <tbody>\n",
              "    <tr>\n",
              "      <th>6252</th>\n",
              "      <td>10.66</td>\n",
              "      <td>184.37</td>\n",
              "      <td>166</td>\n",
              "      <td>60</td>\n",
              "      <td>18</td>\n",
              "    </tr>\n",
              "    <tr>\n",
              "      <th>4684</th>\n",
              "      <td>10.40</td>\n",
              "      <td>181.34</td>\n",
              "      <td>166</td>\n",
              "      <td>109</td>\n",
              "      <td>13</td>\n",
              "    </tr>\n",
              "    <tr>\n",
              "      <th>1731</th>\n",
              "      <td>7.99</td>\n",
              "      <td>145.45</td>\n",
              "      <td>150</td>\n",
              "      <td>72</td>\n",
              "      <td>2</td>\n",
              "    </tr>\n",
              "    <tr>\n",
              "      <th>4742</th>\n",
              "      <td>10.55</td>\n",
              "      <td>182.99</td>\n",
              "      <td>151</td>\n",
              "      <td>84</td>\n",
              "      <td>2</td>\n",
              "    </tr>\n",
              "    <tr>\n",
              "      <th>4521</th>\n",
              "      <td>10.10</td>\n",
              "      <td>177.31</td>\n",
              "      <td>160</td>\n",
              "      <td>72</td>\n",
              "      <td>2</td>\n",
              "    </tr>\n",
              "  </tbody>\n",
              "</table>\n",
              "</div>"
            ],
            "text/plain": [
              "      diameter  weight  red  green  blue\n",
              "6252     10.66  184.37  166     60    18\n",
              "4684     10.40  181.34  166    109    13\n",
              "1731      7.99  145.45  150     72     2\n",
              "4742     10.55  182.99  151     84     2\n",
              "4521     10.10  177.31  160     72     2"
            ]
          },
          "execution_count": 35,
          "metadata": {},
          "output_type": "execute_result"
        }
      ],
      "source": [
        "X_train.head()"
      ]
    },
    {
      "cell_type": "code",
      "execution_count": 36,
      "metadata": {
        "colab": {
          "base_uri": "https://localhost:8080/"
        },
        "id": "cDAtM67_4aCv",
        "outputId": "b3cae351-5a85-4bd8-8f75-0bc4ae6d0815"
      },
      "outputs": [
        {
          "data": {
            "text/plain": [
              "diameter      9.933920\n",
              "weight      174.431958\n",
              "red         154.092833\n",
              "green        76.101833\n",
              "blue         11.238000\n",
              "dtype: float64"
            ]
          },
          "execution_count": 36,
          "metadata": {},
          "output_type": "execute_result"
        }
      ],
      "source": [
        "u = X_train.mean(); u"
      ]
    },
    {
      "cell_type": "code",
      "execution_count": 37,
      "metadata": {
        "colab": {
          "base_uri": "https://localhost:8080/"
        },
        "id": "uHS26_iH4sAg",
        "outputId": "ccd25659-e5b9-4ed0-b393-b8790c4605da"
      },
      "outputs": [
        {
          "data": {
            "text/plain": [
              "diameter     1.949700\n",
              "weight      29.219868\n",
              "red         10.514798\n",
              "green       11.764135\n",
              "blue         8.991412\n",
              "dtype: float64"
            ]
          },
          "execution_count": 37,
          "metadata": {},
          "output_type": "execute_result"
        }
      ],
      "source": [
        "std = X_train.std(); std"
      ]
    },
    {
      "cell_type": "code",
      "execution_count": 38,
      "metadata": {
        "colab": {
          "base_uri": "https://localhost:8080/"
        },
        "id": "FqKYFpkZ4prU",
        "outputId": "ec7fac4e-c36e-4bc0-d5ab-10d878201c7d"
      },
      "outputs": [
        {
          "data": {
            "text/plain": [
              "(diameter      9.933920\n",
              " weight      174.431958\n",
              " red         154.092833\n",
              " green        76.101833\n",
              " blue         11.238000\n",
              " dtype: float64,\n",
              " diameter     1.949700\n",
              " weight      29.219868\n",
              " red         10.514798\n",
              " green       11.764135\n",
              " blue         8.991412\n",
              " dtype: float64)"
            ]
          },
          "execution_count": 38,
          "metadata": {},
          "output_type": "execute_result"
        }
      ],
      "source": [
        "u, std"
      ]
    },
    {
      "cell_type": "code",
      "execution_count": 39,
      "metadata": {
        "id": "pIfZNWQf5eGx"
      },
      "outputs": [],
      "source": [
        "X_train_s = (X_train - u) / std\n",
        "X_val_s = (X_val - u) / std"
      ]
    },
    {
      "cell_type": "code",
      "execution_count": 40,
      "metadata": {
        "colab": {
          "base_uri": "https://localhost:8080/"
        },
        "id": "e54zGRnJ5zTn",
        "outputId": "8e705ff0-d564-4344-a888-2df8ce66723f"
      },
      "outputs": [
        {
          "data": {
            "text/plain": [
              "{'mean': diameter      9.933920\n",
              " weight      174.431958\n",
              " red         154.092833\n",
              " green        76.101833\n",
              " blue         11.238000\n",
              " dtype: float64,\n",
              " 'std': diameter     1.949700\n",
              " weight      29.219868\n",
              " red         10.514798\n",
              " green       11.764135\n",
              " blue         8.991412\n",
              " dtype: float64}"
            ]
          },
          "execution_count": 40,
          "metadata": {},
          "output_type": "execute_result"
        }
      ],
      "source": [
        "ss_dic = {'mean': u, 'std': std}\n",
        "ss_dic"
      ]
    },
    {
      "cell_type": "markdown",
      "metadata": {
        "id": "P9pTk0DG6Xz7"
      },
      "source": [
        "# 인코딩"
      ]
    },
    {
      "cell_type": "code",
      "execution_count": 41,
      "metadata": {
        "id": "x1QHliOf6ywr"
      },
      "outputs": [],
      "source": [
        "label_dict = {'orange':0, 'grapefruit':1}"
      ]
    },
    {
      "cell_type": "code",
      "execution_count": 42,
      "metadata": {
        "id": "XYSe57ii6gok"
      },
      "outputs": [],
      "source": [
        "y_train_e = y_train.map(label_dict)\n",
        "y_val_e = y_val.map(label_dict)\n",
        "# 그냥 이렇게만 하면 알아서 저거에 맞게 라벨 인코딩이 됨. 라벨 인코딩은 단순히 문자열에 0부터 숫자를 붙이는 것."
      ]
    },
    {
      "cell_type": "code",
      "execution_count": 43,
      "metadata": {
        "id": "S_geCz9W7ckX"
      },
      "outputs": [],
      "source": [
        "X_train_s = X_train_s.to_numpy()\n",
        "X_val_s = X_val_s.to_numpy()\n",
        "y_train_e = y_train_e.to_numpy()\n",
        "y_val_e = y_val_e.to_numpy() # 계산을 위해서는 ndarray로 변경을 해야 함.\n",
        "\n",
        "# X_train_s = X_tran_s.values 로도 numpy array로 변경 가능함."
      ]
    },
    {
      "cell_type": "markdown",
      "metadata": {
        "id": "V4osnQ9b8B1O"
      },
      "source": [
        "# 모델 학습"
      ]
    },
    {
      "cell_type": "code",
      "execution_count": 44,
      "metadata": {
        "id": "DdKM_E2W9VMV"
      },
      "outputs": [],
      "source": [
        "from sklearn.neighbors import KNeighborsClassifier"
      ]
    },
    {
      "cell_type": "code",
      "execution_count": 45,
      "metadata": {
        "colab": {
          "base_uri": "https://localhost:8080/",
          "height": 74
        },
        "id": "oH_Uum-P91aw",
        "outputId": "7c7074e9-4b02-4da9-d6de-c5a004a10792"
      },
      "outputs": [
        {
          "data": {
            "text/html": [
              "<style>#sk-container-id-1 {color: black;}#sk-container-id-1 pre{padding: 0;}#sk-container-id-1 div.sk-toggleable {background-color: white;}#sk-container-id-1 label.sk-toggleable__label {cursor: pointer;display: block;width: 100%;margin-bottom: 0;padding: 0.3em;box-sizing: border-box;text-align: center;}#sk-container-id-1 label.sk-toggleable__label-arrow:before {content: \"▸\";float: left;margin-right: 0.25em;color: #696969;}#sk-container-id-1 label.sk-toggleable__label-arrow:hover:before {color: black;}#sk-container-id-1 div.sk-estimator:hover label.sk-toggleable__label-arrow:before {color: black;}#sk-container-id-1 div.sk-toggleable__content {max-height: 0;max-width: 0;overflow: hidden;text-align: left;background-color: #f0f8ff;}#sk-container-id-1 div.sk-toggleable__content pre {margin: 0.2em;color: black;border-radius: 0.25em;background-color: #f0f8ff;}#sk-container-id-1 input.sk-toggleable__control:checked~div.sk-toggleable__content {max-height: 200px;max-width: 100%;overflow: auto;}#sk-container-id-1 input.sk-toggleable__control:checked~label.sk-toggleable__label-arrow:before {content: \"▾\";}#sk-container-id-1 div.sk-estimator input.sk-toggleable__control:checked~label.sk-toggleable__label {background-color: #d4ebff;}#sk-container-id-1 div.sk-label input.sk-toggleable__control:checked~label.sk-toggleable__label {background-color: #d4ebff;}#sk-container-id-1 input.sk-hidden--visually {border: 0;clip: rect(1px 1px 1px 1px);clip: rect(1px, 1px, 1px, 1px);height: 1px;margin: -1px;overflow: hidden;padding: 0;position: absolute;width: 1px;}#sk-container-id-1 div.sk-estimator {font-family: monospace;background-color: #f0f8ff;border: 1px dotted black;border-radius: 0.25em;box-sizing: border-box;margin-bottom: 0.5em;}#sk-container-id-1 div.sk-estimator:hover {background-color: #d4ebff;}#sk-container-id-1 div.sk-parallel-item::after {content: \"\";width: 100%;border-bottom: 1px solid gray;flex-grow: 1;}#sk-container-id-1 div.sk-label:hover label.sk-toggleable__label {background-color: #d4ebff;}#sk-container-id-1 div.sk-serial::before {content: \"\";position: absolute;border-left: 1px solid gray;box-sizing: border-box;top: 0;bottom: 0;left: 50%;z-index: 0;}#sk-container-id-1 div.sk-serial {display: flex;flex-direction: column;align-items: center;background-color: white;padding-right: 0.2em;padding-left: 0.2em;position: relative;}#sk-container-id-1 div.sk-item {position: relative;z-index: 1;}#sk-container-id-1 div.sk-parallel {display: flex;align-items: stretch;justify-content: center;background-color: white;position: relative;}#sk-container-id-1 div.sk-item::before, #sk-container-id-1 div.sk-parallel-item::before {content: \"\";position: absolute;border-left: 1px solid gray;box-sizing: border-box;top: 0;bottom: 0;left: 50%;z-index: -1;}#sk-container-id-1 div.sk-parallel-item {display: flex;flex-direction: column;z-index: 1;position: relative;background-color: white;}#sk-container-id-1 div.sk-parallel-item:first-child::after {align-self: flex-end;width: 50%;}#sk-container-id-1 div.sk-parallel-item:last-child::after {align-self: flex-start;width: 50%;}#sk-container-id-1 div.sk-parallel-item:only-child::after {width: 0;}#sk-container-id-1 div.sk-dashed-wrapped {border: 1px dashed gray;margin: 0 0.4em 0.5em 0.4em;box-sizing: border-box;padding-bottom: 0.4em;background-color: white;}#sk-container-id-1 div.sk-label label {font-family: monospace;font-weight: bold;display: inline-block;line-height: 1.2em;}#sk-container-id-1 div.sk-label-container {text-align: center;}#sk-container-id-1 div.sk-container {/* jupyter's `normalize.less` sets `[hidden] { display: none; }` but bootstrap.min.css set `[hidden] { display: none !important; }` so we also need the `!important` here to be able to override the default hidden behavior on the sphinx rendered scikit-learn.org. See: https://github.com/scikit-learn/scikit-learn/issues/21755 */display: inline-block !important;position: relative;}#sk-container-id-1 div.sk-text-repr-fallback {display: none;}</style><div id=\"sk-container-id-1\" class=\"sk-top-container\"><div class=\"sk-text-repr-fallback\"><pre>KNeighborsClassifier()</pre><b>In a Jupyter environment, please rerun this cell to show the HTML representation or trust the notebook. <br />On GitHub, the HTML representation is unable to render, please try loading this page with nbviewer.org.</b></div><div class=\"sk-container\" hidden><div class=\"sk-item\"><div class=\"sk-estimator sk-toggleable\"><input class=\"sk-toggleable__control sk-hidden--visually\" id=\"sk-estimator-id-1\" type=\"checkbox\" checked><label for=\"sk-estimator-id-1\" class=\"sk-toggleable__label sk-toggleable__label-arrow\">KNeighborsClassifier</label><div class=\"sk-toggleable__content\"><pre>KNeighborsClassifier()</pre></div></div></div></div></div>"
            ],
            "text/plain": [
              "KNeighborsClassifier()"
            ]
          },
          "execution_count": 45,
          "metadata": {},
          "output_type": "execute_result"
        }
      ],
      "source": [
        "clf = KNeighborsClassifier(n_neighbors= 5)\n",
        "# KNN 모델; 가까운 다섯 개를 기준으로 분류를 진행함.\n",
        "clf.fit(X_train_s, y_train_e)\n",
        "# 이 두개로 학습을 진행\n"
      ]
    },
    {
      "cell_type": "markdown",
      "metadata": {
        "id": "xdzlYtNI-qQB"
      },
      "source": [
        "# 검증"
      ]
    },
    {
      "cell_type": "code",
      "execution_count": 46,
      "metadata": {
        "colab": {
          "base_uri": "https://localhost:8080/"
        },
        "id": "tSprtG7c-xmU",
        "outputId": "05367d47-3c26-4dd7-df93-a825c9d64d0d"
      },
      "outputs": [
        {
          "data": {
            "text/plain": [
              "array([0, 0, 1, ..., 1, 0, 0])"
            ]
          },
          "execution_count": 46,
          "metadata": {},
          "output_type": "execute_result"
        }
      ],
      "source": [
        "y_pred = clf.predict(X_val_s) # validation data로 결과를 뽑아서\n",
        "y_pred"
      ]
    },
    {
      "cell_type": "code",
      "execution_count": 47,
      "metadata": {
        "colab": {
          "base_uri": "https://localhost:8080/"
        },
        "id": "rVgCqdVP_Bnp",
        "outputId": "d11bd616-2d3f-44ed-c385-2d409fb88369"
      },
      "outputs": [
        {
          "data": {
            "text/plain": [
              "array([0, 0, 1, ..., 1, 0, 1])"
            ]
          },
          "execution_count": 47,
          "metadata": {},
          "output_type": "execute_result"
        }
      ],
      "source": [
        "y_val_e"
      ]
    },
    {
      "cell_type": "code",
      "execution_count": 48,
      "metadata": {
        "colab": {
          "base_uri": "https://localhost:8080/"
        },
        "id": "BxLSHGCV_T-u",
        "outputId": "16e69470-6e9d-4476-c0d8-0b7250d6ac94"
      },
      "outputs": [
        {
          "data": {
            "text/plain": [
              "0.924"
            ]
          },
          "execution_count": 48,
          "metadata": {},
          "output_type": "execute_result"
        }
      ],
      "source": [
        "(y_pred == y_val_e).mean() # 두개가 같은지 비교한다. 어차핑 0이랑 1이니까 이걸로 평균내면 정확도를 알 수 있음."
      ]
    },
    {
      "cell_type": "markdown",
      "metadata": {
        "id": "FntLK2m-_XPh"
      },
      "source": [
        "# 테스트"
      ]
    },
    {
      "cell_type": "code",
      "execution_count": 49,
      "metadata": {
        "id": "OsCt5DRi_sMU"
      },
      "outputs": [],
      "source": [
        "# 테스트 데이터를 전처리 하는 과정\n",
        "X_test = test.drop('name', axis=1)\n",
        "y_test = test['name']\n",
        "X_test_s = (X_test - u) / std\n",
        "y_test_e = y_test.map(label_dict)"
      ]
    },
    {
      "cell_type": "code",
      "execution_count": 50,
      "metadata": {
        "id": "wx_V17YXBVaT"
      },
      "outputs": [],
      "source": [
        "X_test_s = X_test_s.to_numpy()\n",
        "y_test_e = y_test_e.to_numpy()"
      ]
    },
    {
      "cell_type": "code",
      "execution_count": 51,
      "metadata": {
        "colab": {
          "base_uri": "https://localhost:8080/"
        },
        "id": "8C3R3tKRBohP",
        "outputId": "73704b47-24e4-40f2-967c-a896dbf900c5"
      },
      "outputs": [
        {
          "data": {
            "text/plain": [
              "array([0, 1, 1, ..., 1, 1, 0])"
            ]
          },
          "execution_count": 51,
          "metadata": {},
          "output_type": "execute_result"
        }
      ],
      "source": [
        "y_pred = clf.predict(X_test_s)\n",
        "y_pred"
      ]
    },
    {
      "cell_type": "code",
      "execution_count": 52,
      "metadata": {
        "colab": {
          "base_uri": "https://localhost:8080/"
        },
        "id": "Oyifb1E2BviX",
        "outputId": "7aee7d0d-3631-41be-cea1-a3b1cf8261ae"
      },
      "outputs": [
        {
          "data": {
            "text/plain": [
              "0.917"
            ]
          },
          "execution_count": 52,
          "metadata": {},
          "output_type": "execute_result"
        }
      ],
      "source": [
        "(y_pred == y_test_e).mean()"
      ]
    },
    {
      "cell_type": "code",
      "execution_count": 53,
      "metadata": {
        "id": "h4gzqyXqB4vI"
      },
      "outputs": [],
      "source": [
        "from sklearn.metrics import confusion_matrix"
      ]
    },
    {
      "cell_type": "code",
      "execution_count": 54,
      "metadata": {
        "colab": {
          "base_uri": "https://localhost:8080/"
        },
        "id": "0A9UhuhwEUtx",
        "outputId": "e0f2901f-c330-4256-f658-ad2d41804a80"
      },
      "outputs": [
        {
          "data": {
            "text/plain": [
              "array([[896,  84],\n",
              "       [ 82, 938]])"
            ]
          },
          "execution_count": 54,
          "metadata": {},
          "output_type": "execute_result"
        }
      ],
      "source": [
        "cfm = confusion_matrix(y_test_e, y_pred)\n",
        "cfm"
      ]
    },
    {
      "cell_type": "code",
      "execution_count": 55,
      "metadata": {
        "colab": {
          "base_uri": "https://localhost:8080/",
          "height": 485
        },
        "id": "dBqJRvcREnmS",
        "outputId": "a5684ec7-f696-4cf9-aecd-cc2bb6c869de"
      },
      "outputs": [
        {
          "data": {
            "text/plain": [
              "[Text(0.5, 23.52222222222222, 'Predicted'),\n",
              " Text(50.722222222222214, 0.5, 'Actual')]"
            ]
          },
          "execution_count": 55,
          "metadata": {},
          "output_type": "execute_result"
        },
        {
          "data": {
            "image/png": "[encoded data removed]",
            "text/plain": [
              "<Figure size 640x480 with 2 Axes>"
            ]
          },
          "metadata": {},
          "output_type": "display_data"
        }
      ],
      "source": [
        "s = sns.heatmap(cfm, annot=True, cmap= 'Blues', fmt='d')\n",
        "s.set(xlabel='Predicted', ylabel='Actual')"
      ]
    },
    {
      "cell_type": "code",
      "execution_count": 56,
      "metadata": {
        "id": "EGB6TxwmEvVY"
      },
      "outputs": [],
      "source": [
        "from sklearn.metrics import accuracy_score, recall_score, precision_score, f1_score"
      ]
    },
    {
      "cell_type": "code",
      "execution_count": 57,
      "metadata": {
        "colab": {
          "base_uri": "https://localhost:8080/"
        },
        "id": "EdbFKoKIEpkG",
        "outputId": "6f1dcd75-1e75-4d21-81cb-d1b8fd06148c"
      },
      "outputs": [
        {
          "name": "stdout",
          "output_type": "stream",
          "text": [
            "accuracy:  0.917\n",
            "recall:  0.9196078431372549\n",
            "precision:  0.9178082191780822\n",
            "f1:  0.9187071498530851\n"
          ]
        }
      ],
      "source": [
        "print('accuracy: ', accuracy_score(y_test_e, y_pred))\n",
        "print('recall: ', recall_score(y_test_e, y_pred))\n",
        "print('precision: ', precision_score(y_test_e, y_pred))\n",
        "print('f1: ', f1_score(y_test_e, y_pred))"
      ]
    },
    {
      "cell_type": "code",
      "execution_count": null,
      "metadata": {
        "id": "MpPC9yKIGC2M"
      },
      "outputs": [],
      "source": []
    }
  ],
  "metadata": {
    "colab": {
      "provenance": []
    },
    "kernelspec": {
      "display_name": "Python 3",
      "name": "python3"
    },
    "language_info": {
      "codemirror_mode": {
        "name": "ipython",
        "version": 3
      },
      "file_extension": ".py",
      "mimetype": "text/x-python",
      "name": "python",
      "nbconvert_exporter": "python",
      "pygments_lexer": "ipython3",
      "version": "3.9.6"
    }
  },
  "nbformat": 4,
  "nbformat_minor": 0
}
