{
  "cells": [
    {
      "cell_type": "markdown",
      "metadata": {
        "id": "tyYNswdLH6O_"
      },
      "source": [
        "# KNN Macro Classification\n",
        "- 아이리스 데이터를 이용해서 세 종류의 꽃을 다중 분류"
      ]
    },
    {
      "cell_type": "markdown",
      "metadata": {
        "id": "AJx6zJW7IMfy"
      },
      "source": [
        "1. 데이터 준비"
      ]
    },
    {
      "cell_type": "code",
      "execution_count": 1,
      "metadata": {
        "id": "Rq7_dQ9bISHK"
      },
      "outputs": [
        {
          "name": "stdout",
          "output_type": "stream",
          "text": [
            "--2024-07-06 23:27:55--  https://raw.githubusercontent.com/devdio/flyai_datasets/main/iris.csv\n",
            "raw.githubusercontent.com (raw.githubusercontent.com) 해석 중... 185.199.111.133, 185.199.109.133, 185.199.108.133, ...\n",
            "다음으로 연결 중: raw.githubusercontent.com (raw.githubusercontent.com)|185.199.111.133|:443... 연결했습니다.\n",
            "HTTP 요청을 보냈습니다. 응답 기다리는 중... 200 OK\n",
            "길이: 3858 (3.8K) [text/plain]\n",
            "저장 위치: `iris.csv'\n",
            "\n",
            "iris.csv            100%[===================>]   3.77K  --.-KB/s    /  0s      \n",
            "\n",
            "2024-07-06 23:27:56 (21.1 MB/s) - `iris.csv' 저장함 [3858/3858]\n",
            "\n"
          ]
        }
      ],
      "source": [
        "# !wget https://raw.githubusercontent.com/devdio/flyai_datasets/main/iris.csv"
      ]
    },
    {
      "cell_type": "code",
      "execution_count": 2,
      "metadata": {
        "id": "8hXUiCzlIZzD"
      },
      "outputs": [],
      "source": [
        "import numpy as np\n",
        "import pandas as pd\n",
        "import matplotlib.pyplot as plt\n",
        "import seaborn as sns"
      ]
    },
    {
      "cell_type": "code",
      "execution_count": 3,
      "metadata": {
        "colab": {
          "base_uri": "https://localhost:8080/",
          "height": 423
        },
        "id": "QGROO3a7IvAn",
        "outputId": "240c5deb-f048-4f66-d2ab-aa10f0969485"
      },
      "outputs": [
        {
          "data": {
            "text/html": [
              "<div>\n",
              "<style scoped>\n",
              "    .dataframe tbody tr th:only-of-type {\n",
              "        vertical-align: middle;\n",
              "    }\n",
              "\n",
              "    .dataframe tbody tr th {\n",
              "        vertical-align: top;\n",
              "    }\n",
              "\n",
              "    .dataframe thead th {\n",
              "        text-align: right;\n",
              "    }\n",
              "</style>\n",
              "<table border=\"1\" class=\"dataframe\">\n",
              "  <thead>\n",
              "    <tr style=\"text-align: right;\">\n",
              "      <th></th>\n",
              "      <th>Sepal Length</th>\n",
              "      <th>Sepal Width</th>\n",
              "      <th>Petal Length</th>\n",
              "      <th>Petal Width</th>\n",
              "      <th>Species</th>\n",
              "    </tr>\n",
              "  </thead>\n",
              "  <tbody>\n",
              "    <tr>\n",
              "      <th>0</th>\n",
              "      <td>5.1</td>\n",
              "      <td>3.5</td>\n",
              "      <td>1.4</td>\n",
              "      <td>0.2</td>\n",
              "      <td>setosa</td>\n",
              "    </tr>\n",
              "    <tr>\n",
              "      <th>1</th>\n",
              "      <td>4.9</td>\n",
              "      <td>3.0</td>\n",
              "      <td>1.4</td>\n",
              "      <td>0.2</td>\n",
              "      <td>setosa</td>\n",
              "    </tr>\n",
              "    <tr>\n",
              "      <th>2</th>\n",
              "      <td>4.7</td>\n",
              "      <td>3.2</td>\n",
              "      <td>1.3</td>\n",
              "      <td>0.2</td>\n",
              "      <td>setosa</td>\n",
              "    </tr>\n",
              "    <tr>\n",
              "      <th>3</th>\n",
              "      <td>4.6</td>\n",
              "      <td>3.1</td>\n",
              "      <td>1.5</td>\n",
              "      <td>0.2</td>\n",
              "      <td>setosa</td>\n",
              "    </tr>\n",
              "    <tr>\n",
              "      <th>4</th>\n",
              "      <td>5.0</td>\n",
              "      <td>3.6</td>\n",
              "      <td>1.4</td>\n",
              "      <td>0.2</td>\n",
              "      <td>setosa</td>\n",
              "    </tr>\n",
              "    <tr>\n",
              "      <th>...</th>\n",
              "      <td>...</td>\n",
              "      <td>...</td>\n",
              "      <td>...</td>\n",
              "      <td>...</td>\n",
              "      <td>...</td>\n",
              "    </tr>\n",
              "    <tr>\n",
              "      <th>145</th>\n",
              "      <td>6.7</td>\n",
              "      <td>3.0</td>\n",
              "      <td>5.2</td>\n",
              "      <td>2.3</td>\n",
              "      <td>virginica</td>\n",
              "    </tr>\n",
              "    <tr>\n",
              "      <th>146</th>\n",
              "      <td>6.3</td>\n",
              "      <td>2.5</td>\n",
              "      <td>5.0</td>\n",
              "      <td>1.9</td>\n",
              "      <td>virginica</td>\n",
              "    </tr>\n",
              "    <tr>\n",
              "      <th>147</th>\n",
              "      <td>6.5</td>\n",
              "      <td>3.0</td>\n",
              "      <td>5.2</td>\n",
              "      <td>2.0</td>\n",
              "      <td>virginica</td>\n",
              "    </tr>\n",
              "    <tr>\n",
              "      <th>148</th>\n",
              "      <td>6.2</td>\n",
              "      <td>3.4</td>\n",
              "      <td>5.4</td>\n",
              "      <td>2.3</td>\n",
              "      <td>virginica</td>\n",
              "    </tr>\n",
              "    <tr>\n",
              "      <th>149</th>\n",
              "      <td>5.9</td>\n",
              "      <td>3.0</td>\n",
              "      <td>5.1</td>\n",
              "      <td>1.8</td>\n",
              "      <td>virginica</td>\n",
              "    </tr>\n",
              "  </tbody>\n",
              "</table>\n",
              "<p>150 rows × 5 columns</p>\n",
              "</div>"
            ],
            "text/plain": [
              "     Sepal Length  Sepal Width  Petal Length  Petal Width    Species\n",
              "0             5.1          3.5           1.4          0.2     setosa\n",
              "1             4.9          3.0           1.4          0.2     setosa\n",
              "2             4.7          3.2           1.3          0.2     setosa\n",
              "3             4.6          3.1           1.5          0.2     setosa\n",
              "4             5.0          3.6           1.4          0.2     setosa\n",
              "..            ...          ...           ...          ...        ...\n",
              "145           6.7          3.0           5.2          2.3  virginica\n",
              "146           6.3          2.5           5.0          1.9  virginica\n",
              "147           6.5          3.0           5.2          2.0  virginica\n",
              "148           6.2          3.4           5.4          2.3  virginica\n",
              "149           5.9          3.0           5.1          1.8  virginica\n",
              "\n",
              "[150 rows x 5 columns]"
            ]
          },
          "execution_count": 3,
          "metadata": {},
          "output_type": "execute_result"
        }
      ],
      "source": [
        "iris = pd.read_csv('iris.csv')\n",
        "iris"
      ]
    },
    {
      "cell_type": "code",
      "execution_count": 4,
      "metadata": {
        "colab": {
          "base_uri": "https://localhost:8080/"
        },
        "id": "gy4UaqGdI7hN",
        "outputId": "19cd0e95-9887-4780-bd96-5639596dee5e"
      },
      "outputs": [
        {
          "data": {
            "text/plain": [
              "(150, 5)"
            ]
          },
          "execution_count": 4,
          "metadata": {},
          "output_type": "execute_result"
        }
      ],
      "source": [
        "iris.shape"
      ]
    },
    {
      "cell_type": "code",
      "execution_count": 5,
      "metadata": {
        "colab": {
          "base_uri": "https://localhost:8080/",
          "height": 206
        },
        "id": "tItIQEykI0Kk",
        "outputId": "5f93cba0-be14-4440-80c7-f0dcae14191e"
      },
      "outputs": [
        {
          "data": {
            "text/html": [
              "<div>\n",
              "<style scoped>\n",
              "    .dataframe tbody tr th:only-of-type {\n",
              "        vertical-align: middle;\n",
              "    }\n",
              "\n",
              "    .dataframe tbody tr th {\n",
              "        vertical-align: top;\n",
              "    }\n",
              "\n",
              "    .dataframe thead th {\n",
              "        text-align: right;\n",
              "    }\n",
              "</style>\n",
              "<table border=\"1\" class=\"dataframe\">\n",
              "  <thead>\n",
              "    <tr style=\"text-align: right;\">\n",
              "      <th></th>\n",
              "      <th>Sepal Length</th>\n",
              "      <th>Sepal Width</th>\n",
              "      <th>Petal Length</th>\n",
              "      <th>Petal Width</th>\n",
              "      <th>Species</th>\n",
              "    </tr>\n",
              "  </thead>\n",
              "  <tbody>\n",
              "    <tr>\n",
              "      <th>0</th>\n",
              "      <td>5.1</td>\n",
              "      <td>3.5</td>\n",
              "      <td>1.4</td>\n",
              "      <td>0.2</td>\n",
              "      <td>setosa</td>\n",
              "    </tr>\n",
              "    <tr>\n",
              "      <th>1</th>\n",
              "      <td>4.9</td>\n",
              "      <td>3.0</td>\n",
              "      <td>1.4</td>\n",
              "      <td>0.2</td>\n",
              "      <td>setosa</td>\n",
              "    </tr>\n",
              "    <tr>\n",
              "      <th>2</th>\n",
              "      <td>4.7</td>\n",
              "      <td>3.2</td>\n",
              "      <td>1.3</td>\n",
              "      <td>0.2</td>\n",
              "      <td>setosa</td>\n",
              "    </tr>\n",
              "    <tr>\n",
              "      <th>3</th>\n",
              "      <td>4.6</td>\n",
              "      <td>3.1</td>\n",
              "      <td>1.5</td>\n",
              "      <td>0.2</td>\n",
              "      <td>setosa</td>\n",
              "    </tr>\n",
              "    <tr>\n",
              "      <th>4</th>\n",
              "      <td>5.0</td>\n",
              "      <td>3.6</td>\n",
              "      <td>1.4</td>\n",
              "      <td>0.2</td>\n",
              "      <td>setosa</td>\n",
              "    </tr>\n",
              "  </tbody>\n",
              "</table>\n",
              "</div>"
            ],
            "text/plain": [
              "   Sepal Length  Sepal Width  Petal Length  Petal Width Species\n",
              "0           5.1          3.5           1.4          0.2  setosa\n",
              "1           4.9          3.0           1.4          0.2  setosa\n",
              "2           4.7          3.2           1.3          0.2  setosa\n",
              "3           4.6          3.1           1.5          0.2  setosa\n",
              "4           5.0          3.6           1.4          0.2  setosa"
            ]
          },
          "execution_count": 5,
          "metadata": {},
          "output_type": "execute_result"
        }
      ],
      "source": [
        "iris.head()"
      ]
    },
    {
      "cell_type": "code",
      "execution_count": 6,
      "metadata": {
        "id": "OKIJmdXiKBFQ"
      },
      "outputs": [],
      "source": [
        "df = iris.copy()"
      ]
    },
    {
      "cell_type": "code",
      "execution_count": 7,
      "metadata": {
        "colab": {
          "base_uri": "https://localhost:8080/",
          "height": 206
        },
        "id": "mfs1FBnkKCnd",
        "outputId": "692233e0-bd95-47a6-bc9f-d4c32d8b7efd"
      },
      "outputs": [
        {
          "data": {
            "text/html": [
              "<div>\n",
              "<style scoped>\n",
              "    .dataframe tbody tr th:only-of-type {\n",
              "        vertical-align: middle;\n",
              "    }\n",
              "\n",
              "    .dataframe tbody tr th {\n",
              "        vertical-align: top;\n",
              "    }\n",
              "\n",
              "    .dataframe thead th {\n",
              "        text-align: right;\n",
              "    }\n",
              "</style>\n",
              "<table border=\"1\" class=\"dataframe\">\n",
              "  <thead>\n",
              "    <tr style=\"text-align: right;\">\n",
              "      <th></th>\n",
              "      <th>Sepal Length</th>\n",
              "      <th>Sepal Width</th>\n",
              "      <th>Petal Length</th>\n",
              "      <th>Petal Width</th>\n",
              "      <th>Species</th>\n",
              "    </tr>\n",
              "  </thead>\n",
              "  <tbody>\n",
              "    <tr>\n",
              "      <th>0</th>\n",
              "      <td>5.1</td>\n",
              "      <td>3.5</td>\n",
              "      <td>1.4</td>\n",
              "      <td>0.2</td>\n",
              "      <td>setosa</td>\n",
              "    </tr>\n",
              "    <tr>\n",
              "      <th>1</th>\n",
              "      <td>4.9</td>\n",
              "      <td>3.0</td>\n",
              "      <td>1.4</td>\n",
              "      <td>0.2</td>\n",
              "      <td>setosa</td>\n",
              "    </tr>\n",
              "    <tr>\n",
              "      <th>2</th>\n",
              "      <td>4.7</td>\n",
              "      <td>3.2</td>\n",
              "      <td>1.3</td>\n",
              "      <td>0.2</td>\n",
              "      <td>setosa</td>\n",
              "    </tr>\n",
              "    <tr>\n",
              "      <th>3</th>\n",
              "      <td>4.6</td>\n",
              "      <td>3.1</td>\n",
              "      <td>1.5</td>\n",
              "      <td>0.2</td>\n",
              "      <td>setosa</td>\n",
              "    </tr>\n",
              "    <tr>\n",
              "      <th>4</th>\n",
              "      <td>5.0</td>\n",
              "      <td>3.6</td>\n",
              "      <td>1.4</td>\n",
              "      <td>0.2</td>\n",
              "      <td>setosa</td>\n",
              "    </tr>\n",
              "  </tbody>\n",
              "</table>\n",
              "</div>"
            ],
            "text/plain": [
              "   Sepal Length  Sepal Width  Petal Length  Petal Width Species\n",
              "0           5.1          3.5           1.4          0.2  setosa\n",
              "1           4.9          3.0           1.4          0.2  setosa\n",
              "2           4.7          3.2           1.3          0.2  setosa\n",
              "3           4.6          3.1           1.5          0.2  setosa\n",
              "4           5.0          3.6           1.4          0.2  setosa"
            ]
          },
          "execution_count": 7,
          "metadata": {},
          "output_type": "execute_result"
        }
      ],
      "source": [
        "df.head()"
      ]
    },
    {
      "cell_type": "code",
      "execution_count": 9,
      "metadata": {
        "colab": {
          "base_uri": "https://localhost:8080/"
        },
        "id": "1OUH417XKISl",
        "outputId": "f3f03511-d4da-4537-99b2-12778f696724"
      },
      "outputs": [
        {
          "data": {
            "text/plain": [
              "(120, 30)"
            ]
          },
          "execution_count": 9,
          "metadata": {},
          "output_type": "execute_result"
        }
      ],
      "source": [
        "idx_train = int(len(df) * 0.8)\n",
        "idx_var = int(len(df) * 0.2)\n",
        "idx_train, idx_var"
      ]
    },
    {
      "cell_type": "code",
      "execution_count": 10,
      "metadata": {
        "colab": {
          "base_uri": "https://localhost:8080/",
          "height": 423
        },
        "id": "QJZ8BlUpLCt7",
        "outputId": "63a3443d-510c-4c46-cd09-7bc474e3c5ef"
      },
      "outputs": [
        {
          "data": {
            "text/html": [
              "<div>\n",
              "<style scoped>\n",
              "    .dataframe tbody tr th:only-of-type {\n",
              "        vertical-align: middle;\n",
              "    }\n",
              "\n",
              "    .dataframe tbody tr th {\n",
              "        vertical-align: top;\n",
              "    }\n",
              "\n",
              "    .dataframe thead th {\n",
              "        text-align: right;\n",
              "    }\n",
              "</style>\n",
              "<table border=\"1\" class=\"dataframe\">\n",
              "  <thead>\n",
              "    <tr style=\"text-align: right;\">\n",
              "      <th></th>\n",
              "      <th>Sepal Length</th>\n",
              "      <th>Sepal Width</th>\n",
              "      <th>Petal Length</th>\n",
              "      <th>Petal Width</th>\n",
              "      <th>Species</th>\n",
              "    </tr>\n",
              "  </thead>\n",
              "  <tbody>\n",
              "    <tr>\n",
              "      <th>40</th>\n",
              "      <td>5.0</td>\n",
              "      <td>3.5</td>\n",
              "      <td>1.3</td>\n",
              "      <td>0.3</td>\n",
              "      <td>setosa</td>\n",
              "    </tr>\n",
              "    <tr>\n",
              "      <th>26</th>\n",
              "      <td>5.0</td>\n",
              "      <td>3.4</td>\n",
              "      <td>1.6</td>\n",
              "      <td>0.4</td>\n",
              "      <td>setosa</td>\n",
              "    </tr>\n",
              "    <tr>\n",
              "      <th>128</th>\n",
              "      <td>6.4</td>\n",
              "      <td>2.8</td>\n",
              "      <td>5.6</td>\n",
              "      <td>2.1</td>\n",
              "      <td>virginica</td>\n",
              "    </tr>\n",
              "    <tr>\n",
              "      <th>59</th>\n",
              "      <td>5.2</td>\n",
              "      <td>2.7</td>\n",
              "      <td>3.9</td>\n",
              "      <td>1.4</td>\n",
              "      <td>versicolor</td>\n",
              "    </tr>\n",
              "    <tr>\n",
              "      <th>21</th>\n",
              "      <td>5.1</td>\n",
              "      <td>3.7</td>\n",
              "      <td>1.5</td>\n",
              "      <td>0.4</td>\n",
              "      <td>setosa</td>\n",
              "    </tr>\n",
              "    <tr>\n",
              "      <th>...</th>\n",
              "      <td>...</td>\n",
              "      <td>...</td>\n",
              "      <td>...</td>\n",
              "      <td>...</td>\n",
              "      <td>...</td>\n",
              "    </tr>\n",
              "    <tr>\n",
              "      <th>69</th>\n",
              "      <td>5.6</td>\n",
              "      <td>2.5</td>\n",
              "      <td>3.9</td>\n",
              "      <td>1.1</td>\n",
              "      <td>versicolor</td>\n",
              "    </tr>\n",
              "    <tr>\n",
              "      <th>25</th>\n",
              "      <td>5.0</td>\n",
              "      <td>3.0</td>\n",
              "      <td>1.6</td>\n",
              "      <td>0.2</td>\n",
              "      <td>setosa</td>\n",
              "    </tr>\n",
              "    <tr>\n",
              "      <th>72</th>\n",
              "      <td>6.3</td>\n",
              "      <td>2.5</td>\n",
              "      <td>4.9</td>\n",
              "      <td>1.5</td>\n",
              "      <td>versicolor</td>\n",
              "    </tr>\n",
              "    <tr>\n",
              "      <th>24</th>\n",
              "      <td>4.8</td>\n",
              "      <td>3.4</td>\n",
              "      <td>1.9</td>\n",
              "      <td>0.2</td>\n",
              "      <td>setosa</td>\n",
              "    </tr>\n",
              "    <tr>\n",
              "      <th>73</th>\n",
              "      <td>6.1</td>\n",
              "      <td>2.8</td>\n",
              "      <td>4.7</td>\n",
              "      <td>1.2</td>\n",
              "      <td>versicolor</td>\n",
              "    </tr>\n",
              "  </tbody>\n",
              "</table>\n",
              "<p>150 rows × 5 columns</p>\n",
              "</div>"
            ],
            "text/plain": [
              "     Sepal Length  Sepal Width  Petal Length  Petal Width     Species\n",
              "40            5.0          3.5           1.3          0.3      setosa\n",
              "26            5.0          3.4           1.6          0.4      setosa\n",
              "128           6.4          2.8           5.6          2.1   virginica\n",
              "59            5.2          2.7           3.9          1.4  versicolor\n",
              "21            5.1          3.7           1.5          0.4      setosa\n",
              "..            ...          ...           ...          ...         ...\n",
              "69            5.6          2.5           3.9          1.1  versicolor\n",
              "25            5.0          3.0           1.6          0.2      setosa\n",
              "72            6.3          2.5           4.9          1.5  versicolor\n",
              "24            4.8          3.4           1.9          0.2      setosa\n",
              "73            6.1          2.8           4.7          1.2  versicolor\n",
              "\n",
              "[150 rows x 5 columns]"
            ]
          },
          "execution_count": 10,
          "metadata": {},
          "output_type": "execute_result"
        }
      ],
      "source": [
        "df = df.sample(frac=1)\n",
        "df"
      ]
    },
    {
      "cell_type": "code",
      "execution_count": 11,
      "metadata": {
        "colab": {
          "base_uri": "https://localhost:8080/"
        },
        "id": "A_uGBcuIKDvJ",
        "outputId": "210a9d71-7fa8-41f1-fb27-b68b8606655a"
      },
      "outputs": [
        {
          "data": {
            "text/plain": [
              "(     Sepal Length  Sepal Width  Petal Length  Petal Width     Species\n",
              " 40            5.0          3.5           1.3          0.3      setosa\n",
              " 26            5.0          3.4           1.6          0.4      setosa\n",
              " 128           6.4          2.8           5.6          2.1   virginica\n",
              " 59            5.2          2.7           3.9          1.4  versicolor\n",
              " 21            5.1          3.7           1.5          0.4      setosa\n",
              " ..            ...          ...           ...          ...         ...\n",
              " 142           5.8          2.7           5.1          1.9   virginica\n",
              " 130           7.4          2.8           6.1          1.9   virginica\n",
              " 144           6.7          3.3           5.7          2.5   virginica\n",
              " 57            4.9          2.4           3.3          1.0  versicolor\n",
              " 95            5.7          3.0           4.2          1.2  versicolor\n",
              " \n",
              " [120 rows x 5 columns],\n",
              "      Sepal Length  Sepal Width  Petal Length  Petal Width     Species\n",
              " 139           6.9          3.1           5.4          2.1   virginica\n",
              " 135           7.7          3.0           6.1          2.3   virginica\n",
              " 2             4.7          3.2           1.3          0.2      setosa\n",
              " 114           5.8          2.8           5.1          2.4   virginica\n",
              " 149           5.9          3.0           5.1          1.8   virginica\n",
              " 115           6.4          3.2           5.3          2.3   virginica\n",
              " 85            6.0          3.4           4.5          1.6  versicolor\n",
              " 23            5.1          3.3           1.7          0.5      setosa\n",
              " 4             5.0          3.6           1.4          0.2      setosa\n",
              " 70            5.9          3.2           4.8          1.8  versicolor\n",
              " 9             4.9          3.1           1.5          0.1      setosa\n",
              " 27            5.2          3.5           1.5          0.2      setosa\n",
              " 138           6.0          3.0           4.8          1.8   virginica\n",
              " 16            5.4          3.9           1.3          0.4      setosa\n",
              " 126           6.2          2.8           4.8          1.8   virginica\n",
              " 65            6.7          3.1           4.4          1.4  versicolor\n",
              " 71            6.1          2.8           4.0          1.3  versicolor\n",
              " 100           6.3          3.3           6.0          2.5   virginica\n",
              " 113           5.7          2.5           5.0          2.0   virginica\n",
              " 46            5.1          3.8           1.6          0.2      setosa\n",
              " 42            4.4          3.2           1.3          0.2      setosa\n",
              " 134           6.1          2.6           5.6          1.4   virginica\n",
              " 19            5.1          3.8           1.5          0.3      setosa\n",
              " 77            6.7          3.0           5.0          1.7  versicolor\n",
              " 67            5.8          2.7           4.1          1.0  versicolor\n",
              " 69            5.6          2.5           3.9          1.1  versicolor\n",
              " 25            5.0          3.0           1.6          0.2      setosa\n",
              " 72            6.3          2.5           4.9          1.5  versicolor\n",
              " 24            4.8          3.4           1.9          0.2      setosa\n",
              " 73            6.1          2.8           4.7          1.2  versicolor)"
            ]
          },
          "execution_count": 11,
          "metadata": {},
          "output_type": "execute_result"
        }
      ],
      "source": [
        "train = df.iloc[:idx_train,:]\n",
        "var = df.iloc[idx_train:,:]\n",
        "train, var # 테스트 데이터 없이 8:2 로만 분류"
      ]
    },
    {
      "cell_type": "code",
      "execution_count": 12,
      "metadata": {
        "colab": {
          "base_uri": "https://localhost:8080/"
        },
        "id": "bOuNGaxuK6G1",
        "outputId": "e2b5282f-e1ef-4320-e547-eeb97b5a9699"
      },
      "outputs": [
        {
          "data": {
            "text/plain": [
              "(     Sepal Length  Sepal Width  Petal Length  Petal Width\n",
              " 40            5.0          3.5           1.3          0.3\n",
              " 26            5.0          3.4           1.6          0.4\n",
              " 128           6.4          2.8           5.6          2.1\n",
              " 59            5.2          2.7           3.9          1.4\n",
              " 21            5.1          3.7           1.5          0.4\n",
              " ..            ...          ...           ...          ...\n",
              " 142           5.8          2.7           5.1          1.9\n",
              " 130           7.4          2.8           6.1          1.9\n",
              " 144           6.7          3.3           5.7          2.5\n",
              " 57            4.9          2.4           3.3          1.0\n",
              " 95            5.7          3.0           4.2          1.2\n",
              " \n",
              " [120 rows x 4 columns],\n",
              " 40         setosa\n",
              " 26         setosa\n",
              " 128     virginica\n",
              " 59     versicolor\n",
              " 21         setosa\n",
              "           ...    \n",
              " 142     virginica\n",
              " 130     virginica\n",
              " 144     virginica\n",
              " 57     versicolor\n",
              " 95     versicolor\n",
              " Name: Species, Length: 120, dtype: object,\n",
              "      Sepal Length  Sepal Width  Petal Length  Petal Width\n",
              " 139           6.9          3.1           5.4          2.1\n",
              " 135           7.7          3.0           6.1          2.3\n",
              " 2             4.7          3.2           1.3          0.2\n",
              " 114           5.8          2.8           5.1          2.4\n",
              " 149           5.9          3.0           5.1          1.8\n",
              " 115           6.4          3.2           5.3          2.3\n",
              " 85            6.0          3.4           4.5          1.6\n",
              " 23            5.1          3.3           1.7          0.5\n",
              " 4             5.0          3.6           1.4          0.2\n",
              " 70            5.9          3.2           4.8          1.8\n",
              " 9             4.9          3.1           1.5          0.1\n",
              " 27            5.2          3.5           1.5          0.2\n",
              " 138           6.0          3.0           4.8          1.8\n",
              " 16            5.4          3.9           1.3          0.4\n",
              " 126           6.2          2.8           4.8          1.8\n",
              " 65            6.7          3.1           4.4          1.4\n",
              " 71            6.1          2.8           4.0          1.3\n",
              " 100           6.3          3.3           6.0          2.5\n",
              " 113           5.7          2.5           5.0          2.0\n",
              " 46            5.1          3.8           1.6          0.2\n",
              " 42            4.4          3.2           1.3          0.2\n",
              " 134           6.1          2.6           5.6          1.4\n",
              " 19            5.1          3.8           1.5          0.3\n",
              " 77            6.7          3.0           5.0          1.7\n",
              " 67            5.8          2.7           4.1          1.0\n",
              " 69            5.6          2.5           3.9          1.1\n",
              " 25            5.0          3.0           1.6          0.2\n",
              " 72            6.3          2.5           4.9          1.5\n",
              " 24            4.8          3.4           1.9          0.2\n",
              " 73            6.1          2.8           4.7          1.2,\n",
              " 139     virginica\n",
              " 135     virginica\n",
              " 2          setosa\n",
              " 114     virginica\n",
              " 149     virginica\n",
              " 115     virginica\n",
              " 85     versicolor\n",
              " 23         setosa\n",
              " 4          setosa\n",
              " 70     versicolor\n",
              " 9          setosa\n",
              " 27         setosa\n",
              " 138     virginica\n",
              " 16         setosa\n",
              " 126     virginica\n",
              " 65     versicolor\n",
              " 71     versicolor\n",
              " 100     virginica\n",
              " 113     virginica\n",
              " 46         setosa\n",
              " 42         setosa\n",
              " 134     virginica\n",
              " 19         setosa\n",
              " 77     versicolor\n",
              " 67     versicolor\n",
              " 69     versicolor\n",
              " 25         setosa\n",
              " 72     versicolor\n",
              " 24         setosa\n",
              " 73     versicolor\n",
              " Name: Species, dtype: object)"
            ]
          },
          "execution_count": 12,
          "metadata": {},
          "output_type": "execute_result"
        }
      ],
      "source": [
        "X_train = train.drop('Species', axis=1)\n",
        "y_train = train['Species']\n",
        "X_var = var.drop('Species', axis=1)\n",
        "y_var = var['Species']\n",
        "X_train, y_train, X_var, y_var"
      ]
    },
    {
      "cell_type": "code",
      "execution_count": 13,
      "metadata": {
        "colab": {
          "base_uri": "https://localhost:8080/"
        },
        "id": "ffHrVYy1LWoh",
        "outputId": "3bb7c072-38d1-4814-dcb7-b9b6fb2baf60"
      },
      "outputs": [
        {
          "data": {
            "text/plain": [
              "Sepal Length    5.863333\n",
              "Sepal Width     3.045833\n",
              "Petal Length    3.780000\n",
              "Petal Width     1.201667\n",
              "dtype: float64"
            ]
          },
          "execution_count": 13,
          "metadata": {},
          "output_type": "execute_result"
        }
      ],
      "source": [
        "u = X_train.mean(); u"
      ]
    },
    {
      "cell_type": "code",
      "execution_count": 14,
      "metadata": {
        "colab": {
          "base_uri": "https://localhost:8080/"
        },
        "id": "BVv5fsmeLmVW",
        "outputId": "1a20c3ea-4aa6-4355-dfd6-3510930ec7ff"
      },
      "outputs": [
        {
          "data": {
            "text/plain": [
              "Sepal Length    0.849313\n",
              "Sepal Width     0.449069\n",
              "Petal Length    1.777573\n",
              "Petal Width     0.752250\n",
              "dtype: float64"
            ]
          },
          "execution_count": 14,
          "metadata": {},
          "output_type": "execute_result"
        }
      ],
      "source": [
        "s = X_train.std(); s"
      ]
    },
    {
      "cell_type": "code",
      "execution_count": 15,
      "metadata": {
        "colab": {
          "base_uri": "https://localhost:8080/"
        },
        "id": "UX0th8x3Lo_S",
        "outputId": "548a7178-2c64-4a43-de45-2587b5953647"
      },
      "outputs": [
        {
          "data": {
            "text/plain": [
              "(     Sepal Length  Sepal Width  Petal Length  Petal Width\n",
              " 40      -1.016507     1.011351     -1.395161    -1.198627\n",
              " 26      -1.016507     0.788668     -1.226391    -1.065692\n",
              " 128      0.631883    -0.547429      1.023868     1.194196\n",
              " 59      -0.781023    -0.770111      0.067508     0.263654\n",
              " 21      -0.898765     1.456717     -1.282648    -1.065692\n",
              " ..            ...          ...           ...          ...\n",
              " 142     -0.074570    -0.770111      0.742586     0.928327\n",
              " 130      1.809305    -0.547429      1.305151     0.928327\n",
              " 144      0.985109     0.565985      1.080125     1.725934\n",
              " 57      -1.134249    -1.438160     -0.270031    -0.268085\n",
              " 95      -0.192312    -0.102063      0.236277    -0.002216\n",
              " \n",
              " [120 rows x 4 columns],\n",
              "      Sepal Length  Sepal Width  Petal Length  Petal Width\n",
              " 139      1.220594     0.120620      0.911355     1.194196\n",
              " 135      2.162531    -0.102063      1.305151     1.460065\n",
              " 2       -1.369734     0.343303     -1.395161    -1.331561\n",
              " 114     -0.074570    -0.547429      0.742586     1.593000\n",
              " 149      0.043172    -0.102063      0.742586     0.795392\n",
              " 115      0.631883     0.343303      0.855099     1.460065\n",
              " 85       0.160914     0.788668      0.405047     0.529523\n",
              " 23      -0.898765     0.565985     -1.170135    -0.932758\n",
              " 4       -1.016507     1.234034     -1.338904    -1.331561\n",
              " 70       0.043172     0.343303      0.573816     0.795392\n",
              " 9       -1.134249     0.120620     -1.282648    -1.464496\n",
              " 27      -0.781023     1.011351     -1.282648    -1.331561\n",
              " 138      0.160914    -0.102063      0.573816     0.795392\n",
              " 16      -0.545539     1.902082     -1.395161    -1.065692\n",
              " 126      0.396399    -0.547429      0.573816     0.795392\n",
              " 65       0.985109     0.120620      0.348790     0.263654\n",
              " 71       0.278656    -0.547429      0.123764     0.130719\n",
              " 100      0.514141     0.565985      1.248894     1.725934\n",
              " 113     -0.192312    -1.215477      0.686329     1.061261\n",
              " 46      -0.898765     1.679400     -1.226391    -1.331561\n",
              " 42      -1.722960     0.343303     -1.395161    -1.331561\n",
              " 134      0.278656    -0.992794      1.023868     0.263654\n",
              " 19      -0.898765     1.679400     -1.282648    -1.198627\n",
              " 77       0.985109    -0.102063      0.686329     0.662457\n",
              " 67      -0.074570    -0.770111      0.180021    -0.268085\n",
              " 69      -0.310054    -1.215477      0.067508    -0.135150\n",
              " 25      -1.016507    -0.102063     -1.226391    -1.331561\n",
              " 72       0.514141    -1.215477      0.630073     0.396588\n",
              " 24      -1.251992     0.788668     -1.057622    -1.331561\n",
              " 73       0.278656    -0.547429      0.517560    -0.002216)"
            ]
          },
          "execution_count": 15,
          "metadata": {},
          "output_type": "execute_result"
        }
      ],
      "source": [
        "X_train = (X_train - u) / s\n",
        "X_var = (X_var - u) / s\n",
        "X_train, X_var"
      ]
    },
    {
      "cell_type": "code",
      "execution_count": 16,
      "metadata": {
        "colab": {
          "base_uri": "https://localhost:8080/"
        },
        "id": "XDl2AOA_Lx-2",
        "outputId": "d7211655-92d7-435b-b44b-b7e0911e3f9d"
      },
      "outputs": [
        {
          "data": {
            "text/plain": [
              "40         setosa\n",
              "26         setosa\n",
              "128     virginica\n",
              "59     versicolor\n",
              "21         setosa\n",
              "99     versicolor\n",
              "137     virginica\n",
              "15         setosa\n",
              "120     virginica\n",
              "81     versicolor\n",
              "Name: Species, dtype: object"
            ]
          },
          "execution_count": 16,
          "metadata": {},
          "output_type": "execute_result"
        }
      ],
      "source": [
        "df['Species'].head(10)"
      ]
    },
    {
      "cell_type": "code",
      "execution_count": 18,
      "metadata": {
        "id": "ml6Y8_rhMEoS"
      },
      "outputs": [],
      "source": [
        "label_dict = {'setosa': 0, 'virginica': 1, 'versicolor': 2} # 이번에도 역시 라벨 인코딩; 원-핫은 뒤에서 다룰 예정"
      ]
    },
    {
      "cell_type": "code",
      "execution_count": 19,
      "metadata": {
        "colab": {
          "base_uri": "https://localhost:8080/"
        },
        "id": "DteoSRL5MfIm",
        "outputId": "d2e93d68-37c2-48b7-eefc-5bacbcc46198"
      },
      "outputs": [
        {
          "data": {
            "text/plain": [
              "(40     0\n",
              " 26     0\n",
              " 128    1\n",
              " 59     2\n",
              " 21     0\n",
              "       ..\n",
              " 142    1\n",
              " 130    1\n",
              " 144    1\n",
              " 57     2\n",
              " 95     2\n",
              " Name: Species, Length: 120, dtype: int64,\n",
              " 139    1\n",
              " 135    1\n",
              " 2      0\n",
              " 114    1\n",
              " 149    1\n",
              " 115    1\n",
              " 85     2\n",
              " 23     0\n",
              " 4      0\n",
              " 70     2\n",
              " 9      0\n",
              " 27     0\n",
              " 138    1\n",
              " 16     0\n",
              " 126    1\n",
              " 65     2\n",
              " 71     2\n",
              " 100    1\n",
              " 113    1\n",
              " 46     0\n",
              " 42     0\n",
              " 134    1\n",
              " 19     0\n",
              " 77     2\n",
              " 67     2\n",
              " 69     2\n",
              " 25     0\n",
              " 72     2\n",
              " 24     0\n",
              " 73     2\n",
              " Name: Species, dtype: int64)"
            ]
          },
          "execution_count": 19,
          "metadata": {},
          "output_type": "execute_result"
        }
      ],
      "source": [
        "y_train = y_train.map(label_dict)\n",
        "y_var = y_var.map(label_dict)\n",
        "y_train, y_var"
      ]
    },
    {
      "cell_type": "code",
      "execution_count": 20,
      "metadata": {
        "colab": {
          "base_uri": "https://localhost:8080/"
        },
        "id": "jVXdV72RMieT",
        "outputId": "600af493-2c9b-461e-86e2-ba239c58a0cf"
      },
      "outputs": [
        {
          "data": {
            "text/plain": [
              "(array([[-1.01650732e+00,  1.01135114e+00, -1.39516094e+00,\n",
              "         -1.19862688e+00],\n",
              "        [-1.01650732e+00,  7.88668317e-01, -1.22639147e+00,\n",
              "         -1.06569229e+00],\n",
              "        [ 6.31882926e-01, -5.47428596e-01,  1.02386811e+00,\n",
              "          1.19419573e+00],\n",
              "        [-7.81022995e-01, -7.70111415e-01,  6.75077874e-02,\n",
              "          2.63653603e-01],\n",
              "        [-8.98765155e-01,  1.45671677e+00, -1.28264796e+00,\n",
              "         -1.06569229e+00],\n",
              "        [-1.92312195e-01, -5.47428596e-01,  1.80020766e-01,\n",
              "          1.30719013e-01],\n",
              "        [ 6.31882926e-01,  1.20619860e-01,  9.67611620e-01,\n",
              "          7.95391962e-01],\n",
              "        [-1.92312195e-01,  3.01549651e+00, -1.28264796e+00,\n",
              "         -1.06569229e+00],\n",
              "        [ 1.22059373e+00,  3.43302679e-01,  1.08012460e+00,\n",
              "          1.46006491e+00],\n",
              "        [-4.27796515e-01, -1.43815987e+00, -4.50051916e-02,\n",
              "         -2.68084756e-01],\n",
              "        [ 2.16253101e+00, -9.92794234e-01,  1.75520247e+00,\n",
              "          1.46006491e+00],\n",
              "        [-7.81022995e-01,  7.88668317e-01, -1.33890445e+00,\n",
              "         -1.33156147e+00],\n",
              "        [ 2.78656446e-01, -3.24745778e-01,  5.17559704e-01,\n",
              "          2.63653603e-01],\n",
              "        [ 9.85109406e-01,  1.20619860e-01,  5.17559704e-01,\n",
              "          3.96588193e-01],\n",
              "        [ 3.96398606e-01, -1.88352551e+00,  4.05046725e-01,\n",
              "          3.96588193e-01],\n",
              "        [-1.48747596e+00,  7.88668317e-01, -1.33890445e+00,\n",
              "         -1.19862688e+00],\n",
              "        [ 1.60914285e-01, -7.70111415e-01,  7.42585662e-01,\n",
              "          5.29522782e-01],\n",
              "        [ 7.49625086e-01, -1.02062959e-01,  9.67611620e-01,\n",
              "          7.95391962e-01],\n",
              "        [ 1.10285157e+00, -1.02062959e-01,  9.67611620e-01,\n",
              "          1.19419573e+00],\n",
              "        [ 9.85109406e-01, -1.21547705e+00,  1.13638109e+00,\n",
              "          7.95391962e-01],\n",
              "        [-1.92312195e-01, -9.92794234e-01, -1.57518171e-01,\n",
              "         -2.68084756e-01],\n",
              "        [ 2.04478885e+00, -1.02062959e-01,  1.58643300e+00,\n",
              "          1.19419573e+00],\n",
              "        [ 1.10285157e+00,  3.43302679e-01,  1.19263758e+00,\n",
              "          1.46006491e+00],\n",
              "        [-5.45538675e-01,  7.88668317e-01, -1.17013498e+00,\n",
              "         -1.33156147e+00],\n",
              "        [-1.48747596e+00,  3.43302679e-01, -1.33890445e+00,\n",
              "         -1.33156147e+00],\n",
              "        [-1.13424948e+00,  1.23403395e+00, -1.33890445e+00,\n",
              "         -1.46449606e+00],\n",
              "        [ 5.14140766e-01, -5.47428596e-01,  7.42585662e-01,\n",
              "          3.96588193e-01],\n",
              "        [ 2.78656446e-01, -1.02062959e-01,  4.61303214e-01,\n",
              "          2.63653603e-01],\n",
              "        [ 7.49625086e-01, -1.02062959e-01,  7.98842151e-01,\n",
              "          1.06126114e+00],\n",
              "        [ 1.57382021e+00, -1.02062959e-01,  1.13638109e+00,\n",
              "          5.29522782e-01],\n",
              "        [ 9.85109406e-01, -1.02062959e-01,  7.98842151e-01,\n",
              "          1.46006491e+00],\n",
              "        [ 2.39801533e+00,  1.67939959e+00,  1.47392003e+00,\n",
              "          1.06126114e+00],\n",
              "        [ 1.33833589e+00,  3.43302679e-01,  5.17559704e-01,\n",
              "          2.63653603e-01],\n",
              "        [ 5.14140766e-01, -3.24745778e-01,  1.02386811e+00,\n",
              "          7.95391962e-01],\n",
              "        [-3.10054355e-01, -7.70111415e-01,  2.36277256e-01,\n",
              "          1.30719013e-01],\n",
              "        [ 3.96398606e-01,  7.88668317e-01,  9.11355130e-01,\n",
              "          1.46006491e+00],\n",
              "        [ 8.67367246e-01, -1.02062959e-01,  3.48790235e-01,\n",
              "          2.63653603e-01],\n",
              "        [ 2.16253101e+00,  1.67939959e+00,  1.64268949e+00,\n",
              "          1.32713032e+00],\n",
              "        [-1.01650732e+00,  1.01135114e+00, -1.22639147e+00,\n",
              "         -7.99823115e-01],\n",
              "        [-3.10054355e-01, -1.02062959e-01,  4.05046725e-01,\n",
              "          3.96588193e-01],\n",
              "        [-5.45538675e-01,  1.45671677e+00, -1.28264796e+00,\n",
              "         -1.33156147e+00],\n",
              "        [-1.13424948e+00,  1.20619860e-01, -1.28264796e+00,\n",
              "         -1.33156147e+00],\n",
              "        [-1.92312195e-01,  1.67939959e+00, -1.17013498e+00,\n",
              "         -1.19862688e+00],\n",
              "        [-4.27796515e-01, -1.66084269e+00,  1.23764277e-01,\n",
              "          1.30719013e-01],\n",
              "        [ 7.49625086e-01, -1.02062959e-01,  1.13638109e+00,\n",
              "          1.32713032e+00],\n",
              "        [-1.25199164e+00, -1.02062959e-01, -1.33890445e+00,\n",
              "         -1.46449606e+00],\n",
              "        [ 1.60914285e-01, -3.24745778e-01,  4.05046725e-01,\n",
              "          3.96588193e-01],\n",
              "        [ 5.14140766e-01,  5.65985498e-01,  5.17559704e-01,\n",
              "          5.29522782e-01],\n",
              "        [ 5.14140766e-01, -7.70111415e-01,  6.30072683e-01,\n",
              "          7.95391962e-01],\n",
              "        [ 9.85109406e-01,  1.20619860e-01,  1.02386811e+00,\n",
              "          1.59299950e+00],\n",
              "        [-1.92312195e-01, -5.47428596e-01,  4.05046725e-01,\n",
              "          1.30719013e-01],\n",
              "        [ 6.31882926e-01, -3.24745778e-01,  2.92533745e-01,\n",
              "          1.30719013e-01],\n",
              "        [-3.10054355e-01, -5.47428596e-01,  6.30072683e-01,\n",
              "          1.06126114e+00],\n",
              "        [ 5.14140766e-01, -1.66084269e+00,  3.48790235e-01,\n",
              "          1.30719013e-01],\n",
              "        [-1.13424948e+00, -1.02062959e-01, -1.33890445e+00,\n",
              "         -1.33156147e+00],\n",
              "        [ 1.57382021e+00,  1.23403395e+00,  1.30515056e+00,\n",
              "          1.72593409e+00],\n",
              "        [ 6.31882926e-01,  3.43302679e-01,  4.05046725e-01,\n",
              "          3.96588193e-01],\n",
              "        [ 6.31882926e-01, -5.47428596e-01,  1.02386811e+00,\n",
              "          1.32713032e+00],\n",
              "        [ 4.31721254e-02, -1.02062959e-01,  2.36277256e-01,\n",
              "          3.96588193e-01],\n",
              "        [ 1.57382021e+00,  3.43302679e-01,  1.24889407e+00,\n",
              "          7.95391962e-01],\n",
              "        [ 1.10285157e+00, -5.47428596e-01,  5.73816193e-01,\n",
              "          2.63653603e-01],\n",
              "        [-8.98765155e-01,  7.88668317e-01, -1.28264796e+00,\n",
              "         -1.33156147e+00],\n",
              "        [ 1.22059373e+00,  1.20619860e-01,  6.30072683e-01,\n",
              "          3.96588193e-01],\n",
              "        [-1.48747596e+00,  1.20619860e-01, -1.28264796e+00,\n",
              "         -1.33156147e+00],\n",
              "        [-8.98765155e-01, -1.21547705e+00, -4.38800618e-01,\n",
              "         -1.35150166e-01],\n",
              "        [-1.25199164e+00, -1.02062959e-01, -1.33890445e+00,\n",
              "         -1.19862688e+00],\n",
              "        [ 2.78656446e-01, -1.02062959e-01,  6.30072683e-01,\n",
              "          7.95391962e-01],\n",
              "        [-7.45700347e-02, -7.70111415e-01,  6.75077874e-02,\n",
              "         -2.21557650e-03],\n",
              "        [ 9.85109406e-01,  5.65985498e-01,  1.08012460e+00,\n",
              "          1.19419573e+00],\n",
              "        [ 1.60914285e-01, -1.88352551e+00,  6.86329172e-01,\n",
              "          3.96588193e-01],\n",
              "        [-1.25199164e+00,  1.20619860e-01, -1.22639147e+00,\n",
              "         -1.33156147e+00],\n",
              "        [-8.98765155e-01,  1.01135114e+00, -1.33890445e+00,\n",
              "         -1.19862688e+00],\n",
              "        [-5.45538675e-01,  1.90208241e+00, -1.17013498e+00,\n",
              "         -1.06569229e+00],\n",
              "        [ 1.60914285e-01, -1.88352551e+00,  1.23764277e-01,\n",
              "         -2.68084756e-01],\n",
              "        [-1.72296028e+00, -3.24745778e-01, -1.33890445e+00,\n",
              "         -1.33156147e+00],\n",
              "        [-7.45700347e-02, -7.70111415e-01,  7.42585662e-01,\n",
              "          9.28326552e-01],\n",
              "        [-1.01650732e+00,  3.43302679e-01, -1.45141743e+00,\n",
              "         -1.33156147e+00],\n",
              "        [ 7.49625086e-01,  3.43302679e-01,  7.42585662e-01,\n",
              "          1.06126114e+00],\n",
              "        [-1.01650732e+00,  7.88668317e-01, -1.28264796e+00,\n",
              "         -1.33156147e+00],\n",
              "        [ 6.31882926e-01, -7.70111415e-01,  8.55098641e-01,\n",
              "          9.28326552e-01],\n",
              "        [-8.98765155e-01,  1.01135114e+00, -1.33890445e+00,\n",
              "         -1.33156147e+00],\n",
              "        [-4.27796515e-01, -9.92794234e-01,  3.48790235e-01,\n",
              "         -2.21557650e-03],\n",
              "        [-7.45700347e-02, -9.92794234e-01,  1.23764277e-01,\n",
              "         -2.21557650e-03],\n",
              "        [-8.98765155e-01,  1.67939959e+00, -1.05762200e+00,\n",
              "         -1.06569229e+00],\n",
              "        [-3.10054355e-01, -1.02062959e-01,  1.80020766e-01,\n",
              "          1.30719013e-01],\n",
              "        [-1.01650732e+00, -1.66084269e+00, -2.70031150e-01,\n",
              "         -2.68084756e-01],\n",
              "        [-1.01650732e+00,  5.65985498e-01, -1.33890445e+00,\n",
              "         -1.33156147e+00],\n",
              "        [ 7.49625086e-01, -5.47428596e-01,  4.61303214e-01,\n",
              "          3.96588193e-01],\n",
              "        [ 1.69156237e+00, -3.24745778e-01,  1.41766354e+00,\n",
              "          7.95391962e-01],\n",
              "        [-4.27796515e-01, -1.21547705e+00,  1.23764277e-01,\n",
              "          1.30719013e-01],\n",
              "        [-1.84070244e+00, -1.02062959e-01, -1.50767392e+00,\n",
              "         -1.46449606e+00],\n",
              "        [-1.36973380e+00,  3.43302679e-01, -1.22639147e+00,\n",
              "         -1.33156147e+00],\n",
              "        [-4.27796515e-01,  2.57013087e+00, -1.33890445e+00,\n",
              "         -1.33156147e+00],\n",
              "        [-1.60521812e+00, -1.66084269e+00, -1.39516094e+00,\n",
              "         -1.19862688e+00],\n",
              "        [-7.81022995e-01,  2.34744805e+00, -1.28264796e+00,\n",
              "         -1.46449606e+00],\n",
              "        [-4.27796515e-01,  1.01135114e+00, -1.39516094e+00,\n",
              "         -1.33156147e+00],\n",
              "        [ 5.14140766e-01, -1.21547705e+00,  6.86329172e-01,\n",
              "          9.28326552e-01],\n",
              "        [ 5.14140766e-01,  7.88668317e-01,  1.02386811e+00,\n",
              "          1.59299950e+00],\n",
              "        [-4.27796515e-01, -1.43815987e+00,  1.12512979e-02,\n",
              "         -1.35150166e-01],\n",
              "        [-6.63280835e-01,  1.45671677e+00, -1.28264796e+00,\n",
              "         -1.33156147e+00],\n",
              "        [-3.10054355e-01, -3.24745778e-01, -1.01261681e-01,\n",
              "          1.30719013e-01],\n",
              "        [-1.92312195e-01, -3.24745778e-01,  2.36277256e-01,\n",
              "          1.30719013e-01],\n",
              "        [ 1.45607805e+00, -1.02062959e-01,  1.19263758e+00,\n",
              "          1.19419573e+00],\n",
              "        [-1.01650732e+00, -2.32889115e+00, -1.57518171e-01,\n",
              "         -2.68084756e-01],\n",
              "        [ 1.22059373e+00,  1.20619860e-01,  7.42585662e-01,\n",
              "          1.46006491e+00],\n",
              "        [ 8.67367246e-01, -3.24745778e-01,  4.61303214e-01,\n",
              "          1.30719013e-01],\n",
              "        [-1.25199164e+00,  7.88668317e-01, -1.22639147e+00,\n",
              "         -1.33156147e+00],\n",
              "        [-1.13424948e+00, -1.21547705e+00,  4.05046725e-01,\n",
              "          6.62457372e-01],\n",
              "        [-7.45700347e-02,  2.12476523e+00, -1.45141743e+00,\n",
              "         -1.33156147e+00],\n",
              "        [-5.45538675e-01, -1.02062959e-01,  4.05046725e-01,\n",
              "          3.96588193e-01],\n",
              "        [ 3.96398606e-01, -3.24745778e-01,  2.92533745e-01,\n",
              "          1.30719013e-01],\n",
              "        [-1.48747596e+00,  1.23403395e+00, -1.56393041e+00,\n",
              "         -1.33156147e+00],\n",
              "        [ 2.16253101e+00, -5.47428596e-01,  1.64268949e+00,\n",
              "          1.06126114e+00],\n",
              "        [-5.45538675e-01,  7.88668317e-01, -1.28264796e+00,\n",
              "         -1.06569229e+00],\n",
              "        [-1.72296028e+00, -1.02062959e-01, -1.39516094e+00,\n",
              "         -1.33156147e+00],\n",
              "        [-7.45700347e-02, -7.70111415e-01,  7.42585662e-01,\n",
              "          9.28326552e-01],\n",
              "        [ 1.80930453e+00, -5.47428596e-01,  1.30515056e+00,\n",
              "          9.28326552e-01],\n",
              "        [ 9.85109406e-01,  5.65985498e-01,  1.08012460e+00,\n",
              "          1.72593409e+00],\n",
              "        [-1.13424948e+00, -1.43815987e+00, -2.70031150e-01,\n",
              "         -2.68084756e-01],\n",
              "        [-1.92312195e-01, -1.02062959e-01,  2.36277256e-01,\n",
              "         -2.21557650e-03]]),\n",
              " array([[ 1.22059373,  0.12061986,  0.91135513,  1.19419573],\n",
              "        [ 2.16253101, -0.10206296,  1.30515056,  1.46006491],\n",
              "        [-1.3697338 ,  0.34330268, -1.39516094, -1.33156147],\n",
              "        [-0.07457003, -0.5474286 ,  0.74258566,  1.5929995 ],\n",
              "        [ 0.04317213, -0.10206296,  0.74258566,  0.79539196],\n",
              "        [ 0.63188293,  0.34330268,  0.85509864,  1.46006491],\n",
              "        [ 0.16091429,  0.78866832,  0.40504672,  0.52952278],\n",
              "        [-0.89876516,  0.5659855 , -1.17013498, -0.9327577 ],\n",
              "        [-1.01650732,  1.23403395, -1.33890445, -1.33156147],\n",
              "        [ 0.04317213,  0.34330268,  0.57381619,  0.79539196],\n",
              "        [-1.13424948,  0.12061986, -1.28264796, -1.46449606],\n",
              "        [-0.781023  ,  1.01135114, -1.28264796, -1.33156147],\n",
              "        [ 0.16091429, -0.10206296,  0.57381619,  0.79539196],\n",
              "        [-0.54553868,  1.90208241, -1.39516094, -1.06569229],\n",
              "        [ 0.39639861, -0.5474286 ,  0.57381619,  0.79539196],\n",
              "        [ 0.98510941,  0.12061986,  0.34879024,  0.2636536 ],\n",
              "        [ 0.27865645, -0.5474286 ,  0.12376428,  0.13071901],\n",
              "        [ 0.51414077,  0.5659855 ,  1.24889407,  1.72593409],\n",
              "        [-0.19231219, -1.21547705,  0.68632917,  1.06126114],\n",
              "        [-0.89876516,  1.67939959, -1.22639147, -1.33156147],\n",
              "        [-1.72296028,  0.34330268, -1.39516094, -1.33156147],\n",
              "        [ 0.27865645, -0.99279423,  1.02386811,  0.2636536 ],\n",
              "        [-0.89876516,  1.67939959, -1.28264796, -1.19862688],\n",
              "        [ 0.98510941, -0.10206296,  0.68632917,  0.66245737],\n",
              "        [-0.07457003, -0.77011142,  0.18002077, -0.26808476],\n",
              "        [-0.31005435, -1.21547705,  0.06750779, -0.13515017],\n",
              "        [-1.01650732, -0.10206296, -1.22639147, -1.33156147],\n",
              "        [ 0.51414077, -1.21547705,  0.63007268,  0.39658819],\n",
              "        [-1.25199164,  0.78866832, -1.057622  , -1.33156147],\n",
              "        [ 0.27865645, -0.5474286 ,  0.5175597 , -0.00221558]]),\n",
              " array([0, 0, 1, 2, 0, 2, 1, 0, 1, 2, 1, 0, 2, 2, 2, 0, 2, 1, 1, 1, 2, 1,\n",
              "        1, 0, 0, 0, 1, 2, 1, 1, 1, 1, 2, 1, 2, 1, 2, 1, 0, 2, 0, 0, 0, 2,\n",
              "        1, 0, 2, 2, 1, 1, 2, 2, 1, 2, 0, 1, 2, 1, 2, 1, 2, 0, 2, 0, 2, 0,\n",
              "        1, 2, 1, 1, 0, 0, 0, 2, 0, 1, 0, 1, 0, 1, 0, 2, 2, 0, 2, 2, 0, 2,\n",
              "        1, 2, 0, 0, 0, 0, 0, 0, 1, 1, 2, 0, 2, 2, 1, 2, 1, 2, 0, 1, 0, 2,\n",
              "        2, 0, 1, 0, 0, 1, 1, 1, 2, 2]),\n",
              " array([1, 1, 0, 1, 1, 1, 2, 0, 0, 2, 0, 0, 1, 0, 1, 2, 2, 1, 1, 0, 0, 1,\n",
              "        0, 2, 2, 2, 0, 2, 0, 2]))"
            ]
          },
          "execution_count": 20,
          "metadata": {},
          "output_type": "execute_result"
        }
      ],
      "source": [
        "X_train = X_train.to_numpy()\n",
        "X_var = X_var.to_numpy()\n",
        "y_train = y_train.to_numpy()\n",
        "y_var = y_var.to_numpy()\n",
        "X_train, X_var, y_train, y_var"
      ]
    },
    {
      "cell_type": "code",
      "execution_count": 21,
      "metadata": {
        "id": "EgBXZeEEMsZA"
      },
      "outputs": [],
      "source": [
        "from sklearn.neighbors import KNeighborsClassifier"
      ]
    },
    {
      "cell_type": "code",
      "execution_count": 22,
      "metadata": {
        "colab": {
          "base_uri": "https://localhost:8080/",
          "height": 74
        },
        "id": "7lLQqwPKMwdq",
        "outputId": "c138c403-acaf-4cb1-a8cd-03cd94a2f430"
      },
      "outputs": [
        {
          "data": {
            "text/html": [
              "<style>#sk-container-id-1 {color: black;}#sk-container-id-1 pre{padding: 0;}#sk-container-id-1 div.sk-toggleable {background-color: white;}#sk-container-id-1 label.sk-toggleable__label {cursor: pointer;display: block;width: 100%;margin-bottom: 0;padding: 0.3em;box-sizing: border-box;text-align: center;}#sk-container-id-1 label.sk-toggleable__label-arrow:before {content: \"▸\";float: left;margin-right: 0.25em;color: #696969;}#sk-container-id-1 label.sk-toggleable__label-arrow:hover:before {color: black;}#sk-container-id-1 div.sk-estimator:hover label.sk-toggleable__label-arrow:before {color: black;}#sk-container-id-1 div.sk-toggleable__content {max-height: 0;max-width: 0;overflow: hidden;text-align: left;background-color: #f0f8ff;}#sk-container-id-1 div.sk-toggleable__content pre {margin: 0.2em;color: black;border-radius: 0.25em;background-color: #f0f8ff;}#sk-container-id-1 input.sk-toggleable__control:checked~div.sk-toggleable__content {max-height: 200px;max-width: 100%;overflow: auto;}#sk-container-id-1 input.sk-toggleable__control:checked~label.sk-toggleable__label-arrow:before {content: \"▾\";}#sk-container-id-1 div.sk-estimator input.sk-toggleable__control:checked~label.sk-toggleable__label {background-color: #d4ebff;}#sk-container-id-1 div.sk-label input.sk-toggleable__control:checked~label.sk-toggleable__label {background-color: #d4ebff;}#sk-container-id-1 input.sk-hidden--visually {border: 0;clip: rect(1px 1px 1px 1px);clip: rect(1px, 1px, 1px, 1px);height: 1px;margin: -1px;overflow: hidden;padding: 0;position: absolute;width: 1px;}#sk-container-id-1 div.sk-estimator {font-family: monospace;background-color: #f0f8ff;border: 1px dotted black;border-radius: 0.25em;box-sizing: border-box;margin-bottom: 0.5em;}#sk-container-id-1 div.sk-estimator:hover {background-color: #d4ebff;}#sk-container-id-1 div.sk-parallel-item::after {content: \"\";width: 100%;border-bottom: 1px solid gray;flex-grow: 1;}#sk-container-id-1 div.sk-label:hover label.sk-toggleable__label {background-color: #d4ebff;}#sk-container-id-1 div.sk-serial::before {content: \"\";position: absolute;border-left: 1px solid gray;box-sizing: border-box;top: 0;bottom: 0;left: 50%;z-index: 0;}#sk-container-id-1 div.sk-serial {display: flex;flex-direction: column;align-items: center;background-color: white;padding-right: 0.2em;padding-left: 0.2em;position: relative;}#sk-container-id-1 div.sk-item {position: relative;z-index: 1;}#sk-container-id-1 div.sk-parallel {display: flex;align-items: stretch;justify-content: center;background-color: white;position: relative;}#sk-container-id-1 div.sk-item::before, #sk-container-id-1 div.sk-parallel-item::before {content: \"\";position: absolute;border-left: 1px solid gray;box-sizing: border-box;top: 0;bottom: 0;left: 50%;z-index: -1;}#sk-container-id-1 div.sk-parallel-item {display: flex;flex-direction: column;z-index: 1;position: relative;background-color: white;}#sk-container-id-1 div.sk-parallel-item:first-child::after {align-self: flex-end;width: 50%;}#sk-container-id-1 div.sk-parallel-item:last-child::after {align-self: flex-start;width: 50%;}#sk-container-id-1 div.sk-parallel-item:only-child::after {width: 0;}#sk-container-id-1 div.sk-dashed-wrapped {border: 1px dashed gray;margin: 0 0.4em 0.5em 0.4em;box-sizing: border-box;padding-bottom: 0.4em;background-color: white;}#sk-container-id-1 div.sk-label label {font-family: monospace;font-weight: bold;display: inline-block;line-height: 1.2em;}#sk-container-id-1 div.sk-label-container {text-align: center;}#sk-container-id-1 div.sk-container {/* jupyter's `normalize.less` sets `[hidden] { display: none; }` but bootstrap.min.css set `[hidden] { display: none !important; }` so we also need the `!important` here to be able to override the default hidden behavior on the sphinx rendered scikit-learn.org. See: https://github.com/scikit-learn/scikit-learn/issues/21755 */display: inline-block !important;position: relative;}#sk-container-id-1 div.sk-text-repr-fallback {display: none;}</style><div id=\"sk-container-id-1\" class=\"sk-top-container\"><div class=\"sk-text-repr-fallback\"><pre>KNeighborsClassifier()</pre><b>In a Jupyter environment, please rerun this cell to show the HTML representation or trust the notebook. <br />On GitHub, the HTML representation is unable to render, please try loading this page with nbviewer.org.</b></div><div class=\"sk-container\" hidden><div class=\"sk-item\"><div class=\"sk-estimator sk-toggleable\"><input class=\"sk-toggleable__control sk-hidden--visually\" id=\"sk-estimator-id-1\" type=\"checkbox\" checked><label for=\"sk-estimator-id-1\" class=\"sk-toggleable__label sk-toggleable__label-arrow\">KNeighborsClassifier</label><div class=\"sk-toggleable__content\"><pre>KNeighborsClassifier()</pre></div></div></div></div></div>"
            ],
            "text/plain": [
              "KNeighborsClassifier()"
            ]
          },
          "execution_count": 22,
          "metadata": {},
          "output_type": "execute_result"
        }
      ],
      "source": [
        "clf = KNeighborsClassifier(n_neighbors=5)\n",
        "clf.fit(X_train, y_train)"
      ]
    },
    {
      "cell_type": "code",
      "execution_count": 23,
      "metadata": {
        "colab": {
          "base_uri": "https://localhost:8080/"
        },
        "id": "r8I2gjbRM0Xb",
        "outputId": "6e605733-a045-46ad-e1e6-1d4aa7a9d009"
      },
      "outputs": [
        {
          "data": {
            "text/plain": [
              "array([1, 1, 0, 1, 1, 1, 2, 0, 0, 2, 0, 0, 2, 0, 1, 2, 2, 1, 1, 0, 0, 1,\n",
              "       0, 1, 2, 2, 0, 1, 0, 2])"
            ]
          },
          "execution_count": 23,
          "metadata": {},
          "output_type": "execute_result"
        }
      ],
      "source": [
        "y_pred = clf.predict(X_var)\n",
        "y_pred"
      ]
    },
    {
      "cell_type": "code",
      "execution_count": 24,
      "metadata": {
        "colab": {
          "base_uri": "https://localhost:8080/"
        },
        "id": "dM5QJdWxM_bu",
        "outputId": "9d346e19-4ce5-40f5-8959-dd35ae8c6d55"
      },
      "outputs": [
        {
          "data": {
            "text/plain": [
              "array([1, 1, 0, 1, 1, 1, 2, 0, 0, 2, 0, 0, 1, 0, 1, 2, 2, 1, 1, 0, 0, 1,\n",
              "       0, 2, 2, 2, 0, 2, 0, 2])"
            ]
          },
          "execution_count": 24,
          "metadata": {},
          "output_type": "execute_result"
        }
      ],
      "source": [
        "y_var"
      ]
    },
    {
      "cell_type": "code",
      "execution_count": 25,
      "metadata": {
        "colab": {
          "base_uri": "https://localhost:8080/"
        },
        "id": "z3Hr0srqNBt3",
        "outputId": "c0ff7e37-ddf4-4f14-acbb-42c078a46d33"
      },
      "outputs": [
        {
          "data": {
            "text/plain": [
              "0.9"
            ]
          },
          "execution_count": 25,
          "metadata": {},
          "output_type": "execute_result"
        }
      ],
      "source": [
        "(y_pred == y_var).mean()"
      ]
    },
    {
      "cell_type": "code",
      "execution_count": 26,
      "metadata": {
        "id": "x0fRwrjgNFHk"
      },
      "outputs": [],
      "source": [
        "from sklearn.metrics import confusion_matrix"
      ]
    },
    {
      "cell_type": "code",
      "execution_count": 27,
      "metadata": {
        "colab": {
          "base_uri": "https://localhost:8080/"
        },
        "id": "9Af1SaTGNPSL",
        "outputId": "219724ad-a568-4399-8e88-d9f5c8909932"
      },
      "outputs": [
        {
          "data": {
            "text/plain": [
              "array([[11,  0,  0],\n",
              "       [ 0,  9,  1],\n",
              "       [ 0,  2,  7]])"
            ]
          },
          "execution_count": 27,
          "metadata": {},
          "output_type": "execute_result"
        }
      ],
      "source": [
        "cfm = confusion_matrix(y_var, y_pred)\n",
        "cfm"
      ]
    },
    {
      "cell_type": "code",
      "execution_count": 28,
      "metadata": {
        "colab": {
          "base_uri": "https://localhost:8080/",
          "height": 491
        },
        "id": "WQtmqoGGNU0j",
        "outputId": "1e9c145c-ec2d-4116-94a6-847696931b4f"
      },
      "outputs": [
        {
          "data": {
            "text/plain": [
              "[Text(0.5, 23.52222222222222, 'Predicted'),\n",
              " Text(50.722222222222214, 0.5, 'True')]"
            ]
          },
          "execution_count": 28,
          "metadata": {},
          "output_type": "execute_result"
        },
        {
          "data": {
            "image/png": "[encoded data removed]",
            "text/plain": [
              "<Figure size 640x480 with 2 Axes>"
            ]
          },
          "metadata": {},
          "output_type": "display_data"
        }
      ],
      "source": [
        "s = sns.heatmap(cfm, annot=True, fmt='d', cmap='Blues')\n",
        "s.set(xlabel='Predicted', ylabel='True')"
      ]
    },
    {
      "cell_type": "code",
      "execution_count": 29,
      "metadata": {
        "id": "jgCcTPsbNkfE"
      },
      "outputs": [],
      "source": [
        "from sklearn.metrics import accuracy_score, precision_score, recall_score, f1_score"
      ]
    },
    {
      "cell_type": "code",
      "execution_count": 30,
      "metadata": {
        "colab": {
          "base_uri": "https://localhost:8080/"
        },
        "id": "OnIELb1YNuKd",
        "outputId": "f967c663-1585-417a-8231-97df617f5436"
      },
      "outputs": [
        {
          "name": "stdout",
          "output_type": "stream",
          "text": [
            "accuracy:  0.9\n",
            "precision:  0.9\n",
            "recall:  0.89\n",
            "f1-score:  0.89\n"
          ]
        }
      ],
      "source": [
        "# 단순히 정확도가 진짜 정확도의 지표가 될 수는 없음.\n",
        "\n",
        "# 전체 정확도: accuracy\n",
        "# 맞았다고 생각하고 고른 것 중에서 진짜 맞는 경우의 비율: precision\n",
        "# 실제로 맞는 것 중에 맞았다고 고른 경우의 비율: recall\n",
        "# precision과 recall의 조화 평균. 이게 낮게 나온다는 건 데이터가 불균형하다는 것을 의미\n",
        "\n",
        "print('accuracy: ', accuracy_score(y_var, y_pred).round(2))\n",
        "print('precision: ', precision_score(y_var, y_pred, average='macro').round(2))\n",
        "print('recall: ', recall_score(y_var, y_pred, average='macro').round(2))\n",
        "print('f1-score: ', f1_score(y_var, y_pred, average='macro').round(2))"
      ]
    }
  ],
  "metadata": {
    "colab": {
      "provenance": []
    },
    "kernelspec": {
      "display_name": "Python 3",
      "name": "python3"
    },
    "language_info": {
      "codemirror_mode": {
        "name": "ipython",
        "version": 3
      },
      "file_extension": ".py",
      "mimetype": "text/x-python",
      "name": "python",
      "nbconvert_exporter": "python",
      "pygments_lexer": "ipython3",
      "version": "3.9.6"
    }
  },
  "nbformat": 4,
  "nbformat_minor": 0
}
