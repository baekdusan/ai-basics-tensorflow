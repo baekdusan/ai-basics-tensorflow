{
  "nbformat": 4,
  "nbformat_minor": 0,
  "metadata": {
    "colab": {
      "provenance": []
    },
    "kernelspec": {
      "name": "python3",
      "display_name": "Python 3"
    },
    "language_info": {
      "name": "python"
    }
  },
  "cells": [
    {
      "cell_type": "code",
      "execution_count": 1,
      "metadata": {
        "id": "FCdbYWudVpKW"
      },
      "outputs": [],
      "source": [
        "# Embedding: 단어를 고정된 크기의 실수 벡터로 변환하는 방식; ex> word2Vec, GloVe, FastText\n",
        "# 원 핫 인코딩보다 훨씬 더 의미 있는 벡터 표현 -> 유사한 의미를 가질 수록 임베딩 공간에서 가깝게 배치"
      ]
    },
    {
      "cell_type": "code",
      "source": [
        "# 원 핫 인코딩 방식: 1. 토큰화, 2. 패딩, 3. 인코딩 -> 유사도 반영이 없음."
      ],
      "metadata": {
        "id": "MjP6BBDrhjJ7"
      },
      "execution_count": null,
      "outputs": []
    },
    {
      "cell_type": "code",
      "source": [
        "import numpy as np\n",
        "import pandas as pd\n",
        "import matplotlib.pyplot as plt\n",
        "import seaborn as sns\n",
        "\n",
        "import tensorflow as tf\n",
        "import keras"
      ],
      "metadata": {
        "id": "KmVoTURDV4s_"
      },
      "execution_count": 2,
      "outputs": []
    },
    {
      "cell_type": "code",
      "source": [
        "corpus = [\n",
        "    'This is the first document.',\n",
        "    'This document is the second document.',\n",
        "    'And this is the third one.',\n",
        "    'Is this the first document?',\n",
        "]"
      ],
      "metadata": {
        "id": "kDCroRGnWR7G"
      },
      "execution_count": 3,
      "outputs": []
    },
    {
      "cell_type": "code",
      "source": [
        "## Tokenizing"
      ],
      "metadata": {
        "id": "irTlzdz0XFk3"
      },
      "execution_count": 4,
      "outputs": []
    },
    {
      "cell_type": "code",
      "source": [
        "from tensorflow.keras.preprocessing.text import Tokenizer\n",
        "\n",
        "tokenizer = Tokenizer(num_words=100, oov_token='<OOV>') # out of vocabulary 제한된 숫자 안에 안들어가는 숫자들은 oov 처리를 한다. 기호로 처리를 하는 것.\n",
        "tokenizer.fit_on_texts(corpus)"
      ],
      "metadata": {
        "id": "xTHJkiW9XIEd"
      },
      "execution_count": 7,
      "outputs": []
    },
    {
      "cell_type": "code",
      "source": [
        "tokenizer.word_index # 최빈값 순서대로 토큰화 되었음; OOV만 맨 앞에 배치하는 이유는 훈련되지 않은 단어를 만났을 때 바로 인식할 수 있게 하기 위해서"
      ],
      "metadata": {
        "colab": {
          "base_uri": "https://localhost:8080/"
        },
        "id": "RIQSLsaTY0j3",
        "outputId": "7644f66a-6356-40d7-e2a0-a047f7f1005d"
      },
      "execution_count": 8,
      "outputs": [
        {
          "output_type": "execute_result",
          "data": {
            "text/plain": [
              "{'<OOV>': 1,\n",
              " 'this': 2,\n",
              " 'is': 3,\n",
              " 'the': 4,\n",
              " 'document': 5,\n",
              " 'first': 6,\n",
              " 'second': 7,\n",
              " 'and': 8,\n",
              " 'third': 9,\n",
              " 'one': 10}"
            ]
          },
          "metadata": {},
          "execution_count": 8
        }
      ]
    },
    {
      "cell_type": "code",
      "source": [
        "tokenizer.word_index['this']"
      ],
      "metadata": {
        "colab": {
          "base_uri": "https://localhost:8080/"
        },
        "id": "UhtIRZuhY9Bz",
        "outputId": "9d5ef993-44e9-4d03-9323-814e5a8125d5"
      },
      "execution_count": 9,
      "outputs": [
        {
          "output_type": "execute_result",
          "data": {
            "text/plain": [
              "2"
            ]
          },
          "metadata": {},
          "execution_count": 9
        }
      ]
    },
    {
      "cell_type": "code",
      "source": [
        "sequences = tokenizer.texts_to_sequences(corpus)\n",
        "sequences"
      ],
      "metadata": {
        "colab": {
          "base_uri": "https://localhost:8080/"
        },
        "id": "MYwONpoRZSPQ",
        "outputId": "917c3ba9-0d61-4aa2-f289-de75ddce73fc"
      },
      "execution_count": 10,
      "outputs": [
        {
          "output_type": "execute_result",
          "data": {
            "text/plain": [
              "[[2, 3, 4, 6, 5], [2, 5, 3, 4, 7, 5], [8, 2, 3, 4, 9, 10], [3, 2, 4, 6, 5]]"
            ]
          },
          "metadata": {},
          "execution_count": 10
        }
      ]
    },
    {
      "cell_type": "code",
      "source": [
        "## 패딩 조지기"
      ],
      "metadata": {
        "id": "vCMw_-FJZZTn"
      },
      "execution_count": 11,
      "outputs": []
    },
    {
      "cell_type": "code",
      "source": [
        "from keras.preprocessing.sequence import pad_sequences\n",
        "\n",
        "padded = pad_sequences(sequences, maxlen= 6, padding= 'pre', truncating= 'pre')\n",
        "# pre랑 post가 있음. 앞에다가 0을 할지 뒤에다가 0을 할지에 대한 차이\n",
        "# truncating은 만약 maxlen 보다 길어지면 어디를 자를지를 의미함.\n",
        "# padding을 주는 이유는 모델의 입력 모양을 동일하게 유지하게 하기 위해서임.\n",
        "\n",
        "padded"
      ],
      "metadata": {
        "colab": {
          "base_uri": "https://localhost:8080/"
        },
        "id": "BvFlXu1BZzIA",
        "outputId": "535305f0-9aeb-45b4-e901-cf9bb8846050"
      },
      "execution_count": 12,
      "outputs": [
        {
          "output_type": "execute_result",
          "data": {
            "text/plain": [
              "array([[ 0,  2,  3,  4,  6,  5],\n",
              "       [ 2,  5,  3,  4,  7,  5],\n",
              "       [ 8,  2,  3,  4,  9, 10],\n",
              "       [ 0,  3,  2,  4,  6,  5]], dtype=int32)"
            ]
          },
          "metadata": {},
          "execution_count": 12
        }
      ]
    },
    {
      "cell_type": "code",
      "source": [
        "## 원 핫 인코딩\n",
        "### 각 단어를 벡터화시킨다"
      ],
      "metadata": {
        "id": "hM8LZM_Gbjda"
      },
      "execution_count": 13,
      "outputs": []
    },
    {
      "cell_type": "code",
      "source": [
        "padded.shape"
      ],
      "metadata": {
        "colab": {
          "base_uri": "https://localhost:8080/"
        },
        "id": "-mQZj3pybr4c",
        "outputId": "b372097a-dac9-4636-b325-3e92f3b06b2a"
      },
      "execution_count": 14,
      "outputs": [
        {
          "output_type": "execute_result",
          "data": {
            "text/plain": [
              "(4, 6)"
            ]
          },
          "metadata": {},
          "execution_count": 14
        }
      ]
    },
    {
      "cell_type": "code",
      "source": [
        "from keras.utils import to_categorical\n",
        "\n",
        "padded_o = to_categorical(padded)\n",
        "padded_o"
      ],
      "metadata": {
        "colab": {
          "base_uri": "https://localhost:8080/"
        },
        "id": "731Pi_rLaOKe",
        "outputId": "1e859a35-b9e2-4805-9a4a-4a204115d569"
      },
      "execution_count": 15,
      "outputs": [
        {
          "output_type": "execute_result",
          "data": {
            "text/plain": [
              "array([[[1., 0., 0., 0., 0., 0., 0., 0., 0., 0., 0.],\n",
              "        [0., 0., 1., 0., 0., 0., 0., 0., 0., 0., 0.],\n",
              "        [0., 0., 0., 1., 0., 0., 0., 0., 0., 0., 0.],\n",
              "        [0., 0., 0., 0., 1., 0., 0., 0., 0., 0., 0.],\n",
              "        [0., 0., 0., 0., 0., 0., 1., 0., 0., 0., 0.],\n",
              "        [0., 0., 0., 0., 0., 1., 0., 0., 0., 0., 0.]],\n",
              "\n",
              "       [[0., 0., 1., 0., 0., 0., 0., 0., 0., 0., 0.],\n",
              "        [0., 0., 0., 0., 0., 1., 0., 0., 0., 0., 0.],\n",
              "        [0., 0., 0., 1., 0., 0., 0., 0., 0., 0., 0.],\n",
              "        [0., 0., 0., 0., 1., 0., 0., 0., 0., 0., 0.],\n",
              "        [0., 0., 0., 0., 0., 0., 0., 1., 0., 0., 0.],\n",
              "        [0., 0., 0., 0., 0., 1., 0., 0., 0., 0., 0.]],\n",
              "\n",
              "       [[0., 0., 0., 0., 0., 0., 0., 0., 1., 0., 0.],\n",
              "        [0., 0., 1., 0., 0., 0., 0., 0., 0., 0., 0.],\n",
              "        [0., 0., 0., 1., 0., 0., 0., 0., 0., 0., 0.],\n",
              "        [0., 0., 0., 0., 1., 0., 0., 0., 0., 0., 0.],\n",
              "        [0., 0., 0., 0., 0., 0., 0., 0., 0., 1., 0.],\n",
              "        [0., 0., 0., 0., 0., 0., 0., 0., 0., 0., 1.]],\n",
              "\n",
              "       [[1., 0., 0., 0., 0., 0., 0., 0., 0., 0., 0.],\n",
              "        [0., 0., 0., 1., 0., 0., 0., 0., 0., 0., 0.],\n",
              "        [0., 0., 1., 0., 0., 0., 0., 0., 0., 0., 0.],\n",
              "        [0., 0., 0., 0., 1., 0., 0., 0., 0., 0., 0.],\n",
              "        [0., 0., 0., 0., 0., 0., 1., 0., 0., 0., 0.],\n",
              "        [0., 0., 0., 0., 0., 1., 0., 0., 0., 0., 0.]]])"
            ]
          },
          "metadata": {},
          "execution_count": 15
        }
      ]
    }
  ]
}